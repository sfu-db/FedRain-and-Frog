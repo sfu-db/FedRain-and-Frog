{
 "cells": [
  {
   "cell_type": "markdown",
   "metadata": {},
   "source": [
    "# ENRON"
   ]
  },
  {
   "cell_type": "code",
   "execution_count": 49,
   "metadata": {},
   "outputs": [
    {
     "name": "stdout",
     "output_type": "stream",
     "text": [
      "The autoreload extension is already loaded. To reload it, use:\n",
      "  %reload_ext autoreload\n"
     ]
    }
   ],
   "source": [
    "%load_ext autoreload\n",
    "%autoreload 2\n",
    "%matplotlib inline"
   ]
  },
  {
   "cell_type": "code",
   "execution_count": 50,
   "metadata": {},
   "outputs": [],
   "source": [
    "import sys\n",
    "sys.path.append(\"../\")\n",
    "sys.path.append(\"../../..\")"
   ]
  },
  {
   "cell_type": "code",
   "execution_count": 74,
   "metadata": {},
   "outputs": [],
   "source": [
    "from json import dumps, loads\n",
    "from time import time\n",
    "\n",
    "import matplotlib.pyplot as plt\n",
    "import numpy as np\n",
    "import pandas as pd\n",
    "from sklearn.linear_model import LogisticRegression as skLogisticRegression\n",
    "from sklearn.metrics import (classification_report, f1_score, precision_score, recall_score)\n",
    "from tqdm import tnrange\n",
    "import tensorflow as tf\n",
    "\n",
    "from mlsql import BinaryLogisticRegression, InfluenceRanker, AutoFixer, HumanFixer, OracleFixer\n",
    "from processor import ENRONProcessor\n",
    "\n",
    "import logging\n",
    "logging.getLogger(\"tensorflow\").setLevel(logging.WARNING)"
   ]
  },
  {
   "cell_type": "code",
   "execution_count": 52,
   "metadata": {},
   "outputs": [],
   "source": [
    "seed = 750668400\n",
    "test_train_split_ratio = 0.5\n",
    "corrupt_rate = 0.50\n",
    "corrupt_type = \"deal\"\n",
    "neg_size = 3"
   ]
  },
  {
   "cell_type": "code",
   "execution_count": 80,
   "metadata": {},
   "outputs": [
    {
     "name": "stdout",
     "output_type": "stream",
     "text": [
      "Dataset: (4137, 3362)\n"
     ]
    }
   ],
   "source": [
    "proc = ENRONProcessor(seed=seed, corrupt_word=\"http\", corrupt_rate=corrupt_rate, sparse=False)\n",
    "    \n",
    "Xcorr, ycorr, sel_corrupt = proc.get_corrupted()\n",
    "Xclean, yclean = proc.get_clean()\n",
    "print(f\"Dataset: {Xcorr.shape}\")"
   ]
  },
  {
   "cell_type": "code",
   "execution_count": 85,
   "metadata": {},
   "outputs": [
    {
     "data": {
      "application/vnd.jupyter.widget-view+json": {
       "model_id": "a2709ccee9da488db6ebd7984f4322b0",
       "version_major": 2,
       "version_minor": 0
      },
      "text/plain": [
       "HBox(children=(IntProgress(value=0, max=742), HTML(value='')))"
      ]
     },
     "metadata": {},
     "output_type": "display_data"
    }
   ],
   "source": [
    "graph = tf.Graph()\n",
    "with graph.as_default(), graph.device(\"/CPU:0\"):\n",
    "    model = BinaryLogisticRegression(Xcorr, ycorr, seed)\n",
    "    ranker = InfluenceRanker(model, on=proc.complain)\n",
    "    fixer = OracleFixer(Xclean, yclean, sel_corrupt)\n",
    "    _, C, Q = proc.complain(model, return_value=True)\n",
    "graph.finalize()\n",
    "\n",
    "# Search for 1.5 * K\n",
    "K = int(sel_corrupt.sum() * 1.5)\n",
    "Qs = np.empty((K,))\n",
    "\n",
    "with tf.Session(graph=graph) as sess:\n",
    "    sess.run(model.initop)\n",
    "    sess.run(ranker.initop)\n",
    "\n",
    "    now = time()\n",
    "    for k in tnrange(K):\n",
    "        model.fit(sess, method=\"scipy\")\n",
    "        rank = ranker.predict(sess)\n",
    "        fixer.fix(model, rank, sess)\n",
    "        Qs[k] = sess.run(Q)"
   ]
  },
  {
   "cell_type": "code",
   "execution_count": 82,
   "metadata": {},
   "outputs": [
    {
     "name": "stdout",
     "output_type": "stream",
     "text": [
      "              precision    recall  f1-score   support\n",
      "\n",
      "       False       0.86      0.86      0.86      3642\n",
      "        True       0.00      0.00      0.00       495\n",
      "\n",
      "    accuracy                           0.76      4137\n",
      "   macro avg       0.43      0.43      0.43      4137\n",
      "weighted avg       0.76      0.76      0.76      4137\n",
      "\n"
     ]
    }
   ],
   "source": [
    "delta = np.ones(model.X[0].shape[0])\n",
    "delta[fixer.get_deletions()[:K]] = 0\n",
    "print(classification_report(sel_corrupt, 1 - delta))"
   ]
  },
  {
   "cell_type": "code",
   "execution_count": 83,
   "metadata": {},
   "outputs": [
    {
     "data": {
      "text/plain": [
       "<matplotlib.legend.Legend at 0x7f6d3bfda470>"
      ]
     },
     "execution_count": 83,
     "metadata": {},
     "output_type": "execute_result"
    },
    {
     "data": {
      "image/png": "[encoded data removed]",
      "text/plain": [
       "<Figure size 1152x576 with 1 Axes>"
      ]
     },
     "metadata": {
      "needs_background": "light"
     },
     "output_type": "display_data"
    }
   ],
   "source": [
    "recalls = np.empty(len(fixer.get_deletions()))\n",
    "delta = np.ones(model.X[0].shape[0])\n",
    "\n",
    "\n",
    "k = range(len(fixer.get_deletions()))\n",
    "\n",
    "for i in k:\n",
    "    delta[fixer.get_deletions()[i]] = 0\n",
    "    recalls[i] = recall_score(sel_corrupt, 1 - delta)\n",
    "\n",
    "plt.figure(figsize=(16,8))\n",
    "\n",
    "plt.plot(k, recalls, label = \"recall\")\n",
    "ntruth = fixer.truth.sum()\n",
    "plt.plot(range(-1, ntruth-1), np.linspace(0, 1, ntruth), label = \"Ground Truth\")\n",
    "\n",
    "rand_prob = ntruth / len(fixer.truth)\n",
    "plt.plot(k, k * rand_prob / ntruth, label = \"Random\")\n",
    "\n",
    "plt.plot()\n",
    "plt.xlabel(\"K\")\n",
    "plt.ylabel(\"Value\")\n",
    "plt.title(f\"Influence with retrain, vary K, corrupt = {corrupt_rate}\")\n",
    "plt.legend()"
   ]
  },
  {
   "cell_type": "code",
   "execution_count": null,
   "metadata": {},
   "outputs": [],
   "source": []
  }
 ],
 "metadata": {
  "kernelspec": {
   "display_name": "Python 3",
   "language": "python",
   "name": "python3"
  },
  "language_info": {
   "codemirror_mode": {
    "name": "ipython",
    "version": 3
   },
   "file_extension": ".py",
   "mimetype": "text/x-python",
   "name": "python",
   "nbconvert_exporter": "python",
   "pygments_lexer": "ipython3",
   "version": "3.7.2"
  }
 },
 "nbformat": 4,
 "nbformat_minor": 4
}
