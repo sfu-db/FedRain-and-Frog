{
 "cells": [
  {
   "cell_type": "code",
   "execution_count": 1,
   "metadata": {},
   "outputs": [],
   "source": [
    "%load_ext autoreload\n",
    "%autoreload 2\n",
    "%matplotlib inline"
   ]
  },
  {
   "cell_type": "code",
   "execution_count": 2,
   "metadata": {},
   "outputs": [],
   "source": [
    "import sys\n",
    "sys.path.append(\"..\")"
   ]
  },
  {
   "cell_type": "code",
   "execution_count": 3,
   "metadata": {},
   "outputs": [],
   "source": [
    "import matplotlib.pyplot as plt\n",
    "import numpy as np\n",
    "import pandas as pd\n",
    "\n",
    "from sklearn.metrics import accuracy_score\n",
    "\n",
    "from processor import NLProcessor\n",
    "from trainer   import Trainer\n",
    "from ranker    import LossRanker\n",
    "\n",
    "from fixer import OracleFixer\n",
    "\n",
    "from tqdm import tnrange"
   ]
  },
  {
   "cell_type": "code",
   "execution_count": 4,
   "metadata": {},
   "outputs": [],
   "source": [
    "corrupt_rate           = 0.1"
   ]
  },
  {
   "cell_type": "code",
   "execution_count": 5,
   "metadata": {},
   "outputs": [],
   "source": [
    "processor = NLProcessor()\n",
    "processor.load_spam()"
   ]
  },
  {
   "cell_type": "code",
   "execution_count": 6,
   "metadata": {},
   "outputs": [
    {
     "data": {
      "application/vnd.jupyter.widget-view+json": {
       "model_id": "d3dc86d4910b4283b1676a52927f5465",
       "version_major": 2,
       "version_minor": 0
      },
      "text/plain": [
       "HBox(children=(IntProgress(value=0, max=15), HTML(value='')))"
      ]
     },
     "metadata": {},
     "output_type": "display_data"
    },
    {
     "name": "stdout",
     "output_type": "stream",
     "text": [
      "\n"
     ]
    }
   ],
   "source": [
    "guess_scores  = []\n",
    "for seed in tnrange(15):\n",
    "\n",
    "    X_train,  ycrptd = processor.corrupt_random(seed, corrupt_rate)\n",
    "    trainer          = Trainer(X_train,  ycrptd, processor.X_test, processor.y_test)\n",
    "    ranker           = LossRanker(trainer)\n",
    "    fixer            = OracleFixer(ycrptd != processor.y_train)\n",
    "    \n",
    "    trainer.train()\n",
    "    \n",
    "    guess_scores.append([0])\n",
    "    \n",
    "    # Let us make some rounds of correction of sample based on training loss\n",
    "    correction_rounds = int(2 * X_train.shape[0] * corrupt_rate)\n",
    "    \n",
    "    for i in range(correction_rounds):\n",
    "        rank = ranker.rank()\n",
    "        correct_guess = fixer.fix(trainer, rank)\n",
    "        if correct_guess:\n",
    "            trainer.train()\n",
    "            \n",
    "        guess_scores[-1].append(guess_scores[-1][-1] + correct_guess)"
   ]
  },
  {
   "cell_type": "code",
   "execution_count": 7,
   "metadata": {},
   "outputs": [
    {
     "data": {
      "image/png": "[encoded data removed]",
      "text/plain": [
       "<Figure size 576x576 with 1 Axes>"
      ]
     },
     "metadata": {
      "needs_background": "light"
     },
     "output_type": "display_data"
    }
   ],
   "source": [
    "guess_array  = np.array(guess_scores)\n",
    "\n",
    "guess_means = np.mean(guess_array[:, ::15]/(X_train.shape[0] * corrupt_rate), axis = 0)\n",
    "guess_mins  = np.min(guess_array[:, ::15]/(X_train.shape[0] * corrupt_rate), axis  = 0)\n",
    "guess_maxs  = np.max(guess_array[:, ::15]/(X_train.shape[0] * corrupt_rate), axis  = 0)\n",
    "stacked      = np.stack([guess_means -guess_mins, guess_maxs- guess_means])\n",
    "\n",
    "plt.figure(figsize=(8,8))\n",
    "plt.errorbar(range(len(guess_array[0]))[::15], guess_means, yerr = stacked, label = 'Loss Correction')\n",
    "plt.plot(range(len(guess_array[0]))[:int(X_train.shape[0] * corrupt_rate):15], \n",
    "         np.linspace(0, 1, int(X_train.shape[0] * corrupt_rate))[::15],  label = 'Oracle')\n",
    "plt.legend()\n",
    "plt.show()"
   ]
  },
  {
   "cell_type": "code",
   "execution_count": 8,
   "metadata": {},
   "outputs": [],
   "source": [
    "guess_means_loss = np.mean(guess_array/(X_train.shape[0] * corrupt_rate), axis = 0)"
   ]
  },
  {
   "cell_type": "code",
   "execution_count": 9,
   "metadata": {},
   "outputs": [
    {
     "name": "stdout",
     "output_type": "stream",
     "text": [
      "Stored 'guess_means_loss' (ndarray)\n"
     ]
    }
   ],
   "source": [
    "%store guess_means_loss"
   ]
  }
 ],
 "metadata": {
  "kernelspec": {
   "display_name": "Python 3",
   "language": "python",
   "name": "python3"
  },
  "language_info": {
   "codemirror_mode": {
    "name": "ipython",
    "version": 3
   },
   "file_extension": ".py",
   "mimetype": "text/x-python",
   "name": "python",
   "nbconvert_exporter": "python",
   "pygments_lexer": "ipython3",
   "version": "3.6.7"
  }
 },
 "nbformat": 4,
 "nbformat_minor": 2
}
