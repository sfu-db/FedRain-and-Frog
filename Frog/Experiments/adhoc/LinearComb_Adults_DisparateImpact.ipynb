{
 "cells": [
  {
   "cell_type": "code",
   "execution_count": 11,
   "metadata": {},
   "outputs": [
    {
     "name": "stdout",
     "output_type": "stream",
     "text": [
      "The autoreload extension is already loaded. To reload it, use:\n",
      "  %reload_ext autoreload\n"
     ]
    }
   ],
   "source": [
    "%load_ext autoreload\n",
    "%autoreload 2\n",
    "%matplotlib inline\n",
    "\n",
    "import sys\n",
    "sys.path.append(\"../\")\n",
    "\n",
    "import gurobipy\n",
    "from json import dumps, loads\n",
    "from time import time\n",
    "\n",
    "import matplotlib.pyplot as plt\n",
    "import numpy as np\n",
    "import pandas as pd\n",
    "from sklearn.linear_model import LogisticRegression as skLogisticRegression\n",
    "from sklearn.metrics import (classification_report, f1_score, precision_score, recall_score)\n",
    "from tqdm import tnrange, trange\n",
    "import tensorflow as tf\n",
    "\n",
    "from mlsql.influence import InfluenceRanker\n",
    "from mlsql.fixer import AutoFixer\n",
    "from mlsql.manager import ModelManagerLM\n",
    "\n",
    "from models.simple_cnn import SimpleCNN\n",
    "from models.logreg import LogReg\n",
    "from models.linear_comb import LinearComb\n",
    "from processors.adultNoCorr import AdultNoCorrProcessor\n",
    "\n",
    "\n",
    "import logging\n",
    "logging.getLogger(\"tensorflow\").setLevel(logging.CRITICAL)"
   ]
  },
  {
   "cell_type": "code",
   "execution_count": 12,
   "metadata": {},
   "outputs": [
    {
     "name": "stdout",
     "output_type": "stream",
     "text": [
      "Train impact: -0.20434572297179915\n",
      "Query impact: -0.1716584657127605\n"
     ]
    }
   ],
   "source": [
    "# means_score = dfQ.groupby(['y','gender']).size().unstack().reset_index()\n",
    "# means_score = means_score/means_score.sum()\n",
    "# means_score \n",
    "# male vs. female\n",
    "proc = AdultNoCorrProcessor()\n",
    "male_ids = (proc.x_train[:, 0] == 1).numpy()\n",
    "female_ids = (proc.x_train[:, 0] == 0).numpy()\n",
    "one_ids = (proc.y_train == 1).numpy()\n",
    "zero_ids = (proc.y_train == 0).numpy()\n",
    "\n",
    "male_impact = (male_ids[:] & one_ids[:]).sum() / male_ids.sum()\n",
    "female_impact = (female_ids[:] & one_ids[:]).sum() / female_ids.sum()\n",
    "print(\"Train impact:\", female_impact-male_impact)\n",
    "\n",
    "male_ids = (proc.x_query[:, 0] == 1).numpy()\n",
    "female_ids = (proc.x_query[:, 0] == 0).numpy()\n",
    "one_ids = (proc.y_query == 1).numpy()\n",
    "zero_ids = (proc.y_query == 0).numpy()\n",
    "\n",
    "male_impact = (male_ids[:] & one_ids[:]).sum() / male_ids.sum()\n",
    "female_impact = (female_ids[:] & one_ids[:]).sum() / female_ids.sum()\n",
    "print(\"Query impact:\", female_impact-male_impact)\n"
   ]
  },
  {
   "cell_type": "code",
   "execution_count": 13,
   "metadata": {},
   "outputs": [],
   "source": [
    "import time\n",
    "import altair as alt\n",
    "alt.data_transformers.disable_max_rows()\n",
    "\n",
    "# @tf.function\n",
    "def rank_fix(ranker, fixer, n):\n",
    "    rank = ranker.predict()\n",
    "    fixer.fix(rank, n)\n",
    "    return rank\n",
    "\n",
    "@tf.function\n",
    "def rankit(ranker):\n",
    "    rank = ranker.predict()\n",
    "    return rank\n",
    "\n",
    "\n",
    "@tf.function\n",
    "def fixit(fixer, rank, n):\n",
    "    fixer.fix(rank, n)\n",
    "\n",
    "\n",
    "# @tf.function\n",
    "def train(manager):\n",
    "    manager.fit()"
   ]
  },
  {
   "cell_type": "code",
   "execution_count": 16,
   "metadata": {},
   "outputs": [
    {
     "name": "stdout",
     "output_type": "stream",
     "text": [
      "SGD loss: tf.Tensor(0.3833263, shape=(), dtype=float32)\n",
      "SGD steps: 1040\n",
      "9.171545505523682\n",
      "Model name: LogReg\n",
      "On Training\n",
      "               precision    recall  f1-score   support\n",
      "\n",
      "         0.0       0.85      0.92      0.88     16672\n",
      "         1.0       0.66      0.48      0.56      5306\n",
      "\n",
      "    accuracy                           0.82     21978\n",
      "   macro avg       0.75      0.70      0.72     21978\n",
      "weighted avg       0.80      0.82      0.80     21978\n",
      "\n",
      "On Testing\n",
      "               precision    recall  f1-score   support\n",
      "\n",
      "         0.0       0.86      0.93      0.89      1867\n",
      "         1.0       0.68      0.50      0.58       575\n",
      "\n",
      "    accuracy                           0.83      2442\n",
      "   macro avg       0.77      0.71      0.73      2442\n",
      "weighted avg       0.82      0.83      0.82      2442\n",
      "\n"
     ]
    }
   ],
   "source": [
    "# Init\n",
    "# proc = SampledAdultProcessor()\n",
    "import time\n",
    "model = LogReg(1)\n",
    "manager0 = ModelManagerLM(proc.x_train, proc.y_train, model, 256)\n",
    "start = time.time()\n",
    "manager0.fit(print_value=True, max_iter=2000, tol=1e-5)\n",
    "print(time.time() - start)\n",
    "manager0.report(proc.x_train, proc.y_train, proc.x_test, proc.y_test)"
   ]
  },
  {
   "cell_type": "code",
   "execution_count": 17,
   "metadata": {
    "scrolled": true
   },
   "outputs": [
    {
     "data": {
      "application/vnd.jupyter.widget-view+json": {
       "model_id": "f94e31fd64a84347832275196aec85d3",
       "version_major": 2,
       "version_minor": 0
      },
      "text/plain": [
       "  0%|          | 0/50 [00:00<?, ?it/s]"
      ]
     },
     "metadata": {},
     "output_type": "display_data"
    },
    {
     "name": "stdout",
     "output_type": "stream",
     "text": [
      "SGD loss: tf.Tensor(0.37715793, shape=(), dtype=float32)\n",
      "SGD steps: 106\n",
      "SGD loss: tf.Tensor(0.36835492, shape=(), dtype=float32)\n",
      "SGD steps: 130\n",
      "SGD loss: tf.Tensor(0.35833958, shape=(), dtype=float32)\n",
      "SGD steps: 168\n",
      "SGD loss: tf.Tensor(0.34994972, shape=(), dtype=float32)\n",
      "SGD steps: 153\n",
      "SGD loss: tf.Tensor(0.34297037, shape=(), dtype=float32)\n",
      "SGD steps: 172\n",
      "SGD loss: tf.Tensor(0.33488727, shape=(), dtype=float32)\n",
      "SGD steps: 208\n",
      "SGD loss: tf.Tensor(0.32790536, shape=(), dtype=float32)\n",
      "SGD steps: 175\n",
      "SGD loss: tf.Tensor(0.32162884, shape=(), dtype=float32)\n",
      "SGD steps: 191\n",
      "SGD loss: tf.Tensor(0.31499204, shape=(), dtype=float32)\n",
      "SGD steps: 184\n",
      "SGD loss: tf.Tensor(0.31022674, shape=(), dtype=float32)\n",
      "SGD steps: 96\n",
      "SGD loss: tf.Tensor(0.3064186, shape=(), dtype=float32)\n",
      "SGD steps: 103\n",
      "SGD loss: tf.Tensor(0.30335552, shape=(), dtype=float32)\n",
      "SGD steps: 108\n",
      "SGD loss: tf.Tensor(0.2990878, shape=(), dtype=float32)\n",
      "SGD steps: 100\n",
      "SGD loss: tf.Tensor(0.2957972, shape=(), dtype=float32)\n",
      "SGD steps: 99\n",
      "SGD loss: tf.Tensor(0.28941733, shape=(), dtype=float32)\n",
      "SGD steps: 120\n",
      "SGD loss: tf.Tensor(0.2822448, shape=(), dtype=float32)\n",
      "SGD steps: 115\n",
      "SGD loss: tf.Tensor(0.2734346, shape=(), dtype=float32)\n",
      "SGD steps: 170\n",
      "SGD loss: tf.Tensor(0.26521203, shape=(), dtype=float32)\n",
      "SGD steps: 163\n",
      "SGD loss: tf.Tensor(0.25774503, shape=(), dtype=float32)\n",
      "SGD steps: 156\n",
      "SGD loss: tf.Tensor(0.24872677, shape=(), dtype=float32)\n",
      "SGD steps: 213\n",
      "SGD loss: tf.Tensor(0.24114078, shape=(), dtype=float32)\n",
      "SGD steps: 213\n",
      "SGD loss: tf.Tensor(0.23448059, shape=(), dtype=float32)\n",
      "SGD steps: 238\n",
      "SGD loss: tf.Tensor(0.23120521, shape=(), dtype=float32)\n",
      "SGD steps: 82\n",
      "SGD loss: tf.Tensor(0.22782697, shape=(), dtype=float32)\n",
      "SGD steps: 39\n",
      "SGD loss: tf.Tensor(0.22551715, shape=(), dtype=float32)\n",
      "SGD steps: 42\n",
      "SGD loss: tf.Tensor(0.2188582, shape=(), dtype=float32)\n",
      "SGD steps: 86\n",
      "SGD loss: tf.Tensor(0.21509567, shape=(), dtype=float32)\n",
      "SGD steps: 87\n",
      "SGD loss: tf.Tensor(0.20948842, shape=(), dtype=float32)\n",
      "SGD steps: 116\n",
      "SGD loss: tf.Tensor(0.20264177, shape=(), dtype=float32)\n",
      "SGD steps: 165\n",
      "SGD loss: tf.Tensor(0.19731335, shape=(), dtype=float32)\n",
      "SGD steps: 123\n",
      "SGD loss: tf.Tensor(0.19340806, shape=(), dtype=float32)\n",
      "SGD steps: 86\n",
      "SGD loss: tf.Tensor(0.18944876, shape=(), dtype=float32)\n",
      "SGD steps: 59\n",
      "SGD loss: tf.Tensor(0.18381749, shape=(), dtype=float32)\n",
      "SGD steps: 100\n",
      "SGD loss: tf.Tensor(0.17338449, shape=(), dtype=float32)\n",
      "SGD steps: 33\n",
      "SGD loss: tf.Tensor(0.16295639, shape=(), dtype=float32)\n",
      "SGD steps: 89\n",
      "SGD loss: tf.Tensor(0.15161663, shape=(), dtype=float32)\n",
      "SGD steps: 191\n",
      "SGD loss: tf.Tensor(0.14723128, shape=(), dtype=float32)\n",
      "SGD steps: 114\n",
      "SGD loss: tf.Tensor(0.14226434, shape=(), dtype=float32)\n",
      "SGD steps: 44\n",
      "SGD loss: tf.Tensor(0.13660355, shape=(), dtype=float32)\n",
      "SGD steps: 47\n",
      "SGD loss: tf.Tensor(0.13132349, shape=(), dtype=float32)\n",
      "SGD steps: 70\n",
      "SGD loss: tf.Tensor(0.12517184, shape=(), dtype=float32)\n",
      "SGD steps: 115\n",
      "SGD loss: tf.Tensor(0.11998274, shape=(), dtype=float32)\n",
      "SGD steps: 84\n",
      "SGD loss: tf.Tensor(0.11292472, shape=(), dtype=float32)\n",
      "SGD steps: 124\n",
      "SGD loss: tf.Tensor(0.10630241, shape=(), dtype=float32)\n",
      "SGD steps: 118\n",
      "SGD loss: tf.Tensor(0.099194296, shape=(), dtype=float32)\n",
      "SGD steps: 95\n",
      "SGD loss: tf.Tensor(0.09750673, shape=(), dtype=float32)\n",
      "SGD steps: 60\n",
      "SGD loss: tf.Tensor(0.096441485, shape=(), dtype=float32)\n",
      "SGD steps: 15\n",
      "SGD loss: tf.Tensor(0.096151665, shape=(), dtype=float32)\n",
      "SGD steps: 1\n",
      "SGD loss: tf.Tensor(0.096461594, shape=(), dtype=float32)\n",
      "SGD steps: 1\n",
      "SGD loss: tf.Tensor(0.09664434, shape=(), dtype=float32)\n",
      "SGD steps: 9\n",
      "Rank_time: 16.201744318008423\n",
      "Model_time: 50.81543588638306\n"
     ]
    },
    {
     "data": {
      "text/html": [
       "\n",
       "<div id=\"altair-viz-c96f963f24174273932c731338bef0c6\"></div>\n",
       "<script type=\"text/javascript\">\n",
       "  (function(spec, embedOpt){\n",
       "    let outputDiv = document.currentScript.previousElementSibling;\n",
       "    if (outputDiv.id !== \"altair-viz-c96f963f24174273932c731338bef0c6\") {\n",
       "      outputDiv = document.getElementById(\"altair-viz-c96f963f24174273932c731338bef0c6\");\n",
       "    }\n",
       "    const paths = {\n",
       "      \"vega\": \"https://cdn.jsdelivr.net/npm//vega@5?noext\",\n",
       "      \"vega-lib\": \"https://cdn.jsdelivr.net/npm//vega-lib?noext\",\n",
       "      \"vega-lite\": \"https://cdn.jsdelivr.net/npm//vega-lite@4.8.1?noext\",\n",
       "      \"vega-embed\": \"https://cdn.jsdelivr.net/npm//vega-embed@6?noext\",\n",
       "    };\n",
       "\n",
       "    function loadScript(lib) {\n",
       "      return new Promise(function(resolve, reject) {\n",
       "        var s = document.createElement('script');\n",
       "        s.src = paths[lib];\n",
       "        s.async = true;\n",
       "        s.onload = () => resolve(paths[lib]);\n",
       "        s.onerror = () => reject(`Error loading script: ${paths[lib]}`);\n",
       "        document.getElementsByTagName(\"head\")[0].appendChild(s);\n",
       "      });\n",
       "    }\n",
       "\n",
       "    function showError(err) {\n",
       "      outputDiv.innerHTML = `<div class=\"error\" style=\"color:red;\">${err}</div>`;\n",
       "      throw err;\n",
       "    }\n",
       "\n",
       "    function displayChart(vegaEmbed) {\n",
       "      vegaEmbed(outputDiv, spec, embedOpt)\n",
       "        .catch(err => showError(`Javascript Error: ${err.message}<br>This usually means there's a typo in your chart specification. See the javascript console for the full traceback.`));\n",
       "    }\n",
       "\n",
       "    if(typeof define === \"function\" && define.amd) {\n",
       "      requirejs.config({paths});\n",
       "      require([\"vega-embed\"], displayChart, err => showError(`Error loading script: ${err.message}`));\n",
       "    } else if (typeof vegaEmbed === \"function\") {\n",
       "      displayChart(vegaEmbed);\n",
       "    } else {\n",
       "      loadScript(\"vega\")\n",
       "        .then(() => loadScript(\"vega-lite\"))\n",
       "        .then(() => loadScript(\"vega-embed\"))\n",
       "        .catch(showError)\n",
       "        .then(() => displayChart(vegaEmbed));\n",
       "    }\n",
       "  })({\"config\": {\"view\": {\"continuousWidth\": 400, \"continuousHeight\": 300}}, \"data\": {\"name\": \"data-6dfeeeee18a01a409c0a43e56fa41a21\"}, \"mark\": \"line\", \"encoding\": {\"color\": {\"type\": \"nominal\", \"field\": \"Method\"}, \"x\": {\"type\": \"quantitative\", \"axis\": {\"grid\": false, \"tickCount\": 51}, \"field\": \"K\"}, \"y\": {\"type\": \"quantitative\", \"field\": \"Complain\", \"scale\": {\"domain\": [-0.0034379661083221436, 0.17135335505008698]}}}, \"$schema\": \"https://vega.github.io/schema/vega-lite/v4.8.1.json\", \"datasets\": {\"data-6dfeeeee18a01a409c0a43e56fa41a21\": [{\"Complain\": 0.1703948676586151, \"Impact\": 0.20434572297179915, \"F1\": 0.8174107060320042, \"K\": 1, \"Method\": \"Rain\"}, {\"Complain\": 0.17135335505008698, \"Impact\": 0.20211052822818731, \"F1\": 0.8186911243630448, \"K\": 100, \"Method\": \"Rain\"}, {\"Complain\": 0.16944225132465363, \"Impact\": 0.1988093242041537, \"F1\": 0.8186911243630448, \"K\": 200, \"Method\": \"Rain\"}, {\"Complain\": 0.16591693460941315, \"Impact\": 0.1947221542128577, \"F1\": 0.817829799538166, \"K\": 300, \"Method\": \"Rain\"}, {\"Complain\": 0.16244129836559296, \"Impact\": 0.19075926422447045, \"F1\": 0.8191974383083428, \"K\": 400, \"Method\": \"Rain\"}, {\"Complain\": 0.15924321115016937, \"Impact\": 0.1873639670956407, \"F1\": 0.8213647503031832, \"K\": 500, \"Method\": \"Rain\"}, {\"Complain\": 0.15430349111557007, \"Impact\": 0.18336240444877244, \"F1\": 0.8215729011228387, \"K\": 600, \"Method\": \"Rain\"}, {\"Complain\": 0.1495392620563507, \"Impact\": 0.1792521114835105, \"F1\": 0.8228490894228463, \"K\": 700, \"Method\": \"Rain\"}, {\"Complain\": 0.1449621617794037, \"Impact\": 0.17534330824415323, \"F1\": 0.822641296626279, \"K\": 800, \"Method\": \"Rain\"}, {\"Complain\": 0.13985827565193176, \"Impact\": 0.1714321859564591, \"F1\": 0.8217206063838446, \"K\": 900, \"Method\": \"Rain\"}, {\"Complain\": 0.13647830486297607, \"Impact\": 0.16836575240515972, \"F1\": 0.8220766195721473, \"K\": 1000, \"Method\": \"Rain\"}, {\"Complain\": 0.13256172835826874, \"Impact\": 0.1652004774158927, \"F1\": 0.8219288738400308, \"K\": 1100, \"Method\": \"Rain\"}, {\"Complain\": 0.12845675647258759, \"Impact\": 0.16225240756417791, \"F1\": 0.8212170863333655, \"K\": 1200, \"Method\": \"Rain\"}, {\"Complain\": 0.1232246458530426, \"Impact\": 0.15835751679125173, \"F1\": 0.8244251801061719, \"K\": 1300, \"Method\": \"Rain\"}, {\"Complain\": 0.11843028664588928, \"Impact\": 0.15481830305129807, \"F1\": 0.8223982864724559, \"K\": 1400, \"Method\": \"Rain\"}, {\"Complain\": 0.11071628332138062, \"Impact\": 0.15006047836126046, \"F1\": 0.8223432919793787, \"K\": 1500, \"Method\": \"Rain\"}, {\"Complain\": 0.10257488489151001, \"Impact\": 0.1448407158082764, \"F1\": 0.8194194162443214, \"K\": 1600, \"Method\": \"Rain\"}, {\"Complain\": 0.09223394095897675, \"Impact\": 0.13939758158664695, \"F1\": 0.8195786766372979, \"K\": 1700, \"Method\": \"Rain\"}, {\"Complain\": 0.08308620750904083, \"Impact\": 0.13425823112472482, \"F1\": 0.8195786766372979, \"K\": 1800, \"Method\": \"Rain\"}, {\"Complain\": 0.07461239397525787, \"Impact\": 0.1290517883239138, \"F1\": 0.8190266568351066, \"K\": 1900, \"Method\": \"Rain\"}, {\"Complain\": 0.06432127952575684, \"Impact\": 0.1237371220987879, \"F1\": 0.8142659377271675, \"K\": 2000, \"Method\": \"Rain\"}, {\"Complain\": 0.0553935170173645, \"Impact\": 0.11879612574508847, \"F1\": 0.8142544678848405, \"K\": 2100, \"Method\": \"Rain\"}, {\"Complain\": 0.04637850821018219, \"Impact\": 0.1136742753566663, \"F1\": 0.8130256629526145, \"K\": 2200, \"Method\": \"Rain\"}, {\"Complain\": 0.043265730142593384, \"Impact\": 0.10993929751732054, \"F1\": 0.8130256629526145, \"K\": 2300, \"Method\": \"Rain\"}, {\"Complain\": 0.04126393795013428, \"Impact\": 0.1058794192806545, \"F1\": 0.8130256629526145, \"K\": 2400, \"Method\": \"Rain\"}, {\"Complain\": 0.03916715085506439, \"Impact\": 0.10252840264491744, \"F1\": 0.8112795279717178, \"K\": 2500, \"Method\": \"Rain\"}, {\"Complain\": 0.03390602767467499, \"Impact\": 0.09722298328927476, \"F1\": 0.8114562903513394, \"K\": 2600, \"Method\": \"Rain\"}, {\"Complain\": 0.029519647359848022, \"Impact\": 0.09359156508729578, \"F1\": 0.8109268616368009, \"K\": 2700, \"Method\": \"Rain\"}, {\"Complain\": 0.023107320070266724, \"Impact\": 0.08779529664986536, \"F1\": 0.8112786520037542, \"K\": 2800, \"Method\": \"Rain\"}, {\"Complain\": 0.015586763620376587, \"Impact\": 0.08165391705611673, \"F1\": 0.807531479000764, \"K\": 2900, \"Method\": \"Rain\"}, {\"Complain\": 0.010294348001480103, \"Impact\": 0.07604430681490854, \"F1\": 0.8063552787122423, \"K\": 3000, \"Method\": \"Rain\"}, {\"Complain\": 0.006931781768798828, \"Impact\": 0.0722545596713136, \"F1\": 0.8054608458194581, \"K\": 3100, \"Method\": \"Rain\"}, {\"Complain\": 0.0039844810962677, \"Impact\": 0.06739181179961354, \"F1\": 0.8037143135512194, \"K\": 3200, \"Method\": \"Rain\"}, {\"Complain\": -0.0011990666389465332, \"Impact\": 0.0620665228234024, \"F1\": 0.8038587303612503, \"K\": 3300, \"Method\": \"Rain\"}, {\"Complain\": -0.002468690276145935, \"Impact\": 0.07640260604632199, \"F1\": 0.8033791341113315, \"K\": 3400, \"Method\": \"Rain\"}, {\"Complain\": -0.0034379661083221436, \"Impact\": 0.09121489200044633, \"F1\": 0.8026100293473912, \"K\": 3500, \"Method\": \"Rain\"}, {\"Complain\": -0.00019699335098266602, \"Impact\": 0.10652750850529268, \"F1\": 0.8049130049505382, \"K\": 3600, \"Method\": \"Rain\"}, {\"Complain\": 0.002560228109359741, \"Impact\": 0.12236624136488378, \"F1\": 0.8044886860313858, \"K\": 3700, \"Method\": \"Rain\"}, {\"Complain\": 0.002780422568321228, \"Impact\": 0.11738051025351204, \"F1\": 0.802014344005774, \"K\": 3800, \"Method\": \"Rain\"}, {\"Complain\": 0.0021299123764038086, \"Impact\": 0.11081825480354059, \"F1\": 0.8014472235501648, \"K\": 3900, \"Method\": \"Rain\"}, {\"Complain\": 0.000983595848083496, \"Impact\": 0.10403568049889668, \"F1\": 0.7928569724189309, \"K\": 4000, \"Method\": \"Rain\"}, {\"Complain\": -0.0001618415117263794, \"Impact\": 0.09714088623553925, \"F1\": 0.7921075756864786, \"K\": 4100, \"Method\": \"Rain\"}, {\"Complain\": 0.0005895048379898071, \"Impact\": 0.11361678098164718, \"F1\": 0.792627663499755, \"K\": 4200, \"Method\": \"Rain\"}, {\"Complain\": 0.000644385814666748, \"Impact\": 0.10660695845230117, \"F1\": 0.7915948149584267, \"K\": 4300, \"Method\": \"Rain\"}, {\"Complain\": 0.00043275952339172363, \"Impact\": 0.09947920485752201, \"F1\": 0.7893187974368786, \"K\": 4400, \"Method\": \"Rain\"}, {\"Complain\": -0.0006103590130805969, \"Impact\": 0.09223051889771436, \"F1\": 0.7887077053905077, \"K\": 4500, \"Method\": \"Rain\"}, {\"Complain\": -0.00048577040433883667, \"Impact\": 0.10929589109448802, \"F1\": 0.7890479892093621, \"K\": 4600, \"Method\": \"Rain\"}, {\"Complain\": -0.0003332197666168213, \"Impact\": 0.1236291841914028, \"F1\": 0.7890479892093621, \"K\": 4700, \"Method\": \"Rain\"}, {\"Complain\": -0.00030568987131118774, \"Impact\": 0.1347760712323503, \"F1\": 0.7890479892093621, \"K\": 4800, \"Method\": \"Rain\"}, {\"Complain\": -0.0002750679850578308, \"Impact\": 0.13733870914894772, \"F1\": 0.7890479892093621, \"K\": 4900, \"Method\": \"Rain\"}, {\"Complain\": -0.00010915100574493408, \"Impact\": 0.13940892225771148, \"F1\": 0.7890479892093621, \"K\": 5000, \"Method\": \"Rain\"}]}}, {\"mode\": \"vega-lite\"});\n",
       "</script>"
      ],
      "text/plain": [
       "alt.Chart(...)"
      ]
     },
     "execution_count": 17,
     "metadata": {},
     "output_type": "execute_result"
    }
   ],
   "source": [
    "from tqdm.notebook import tnrange, trange\n",
    "K = 5000\n",
    "corrsel = proc.corrsel\n",
    "manager = ModelManagerLM(proc.x_train, proc.y_train, LogReg(1), 256)\n",
    "manager.model.set_weights(manager0.model.get_weights())\n",
    "manager.delta = tf.Variable(manager0.delta.value(), name=\"delta\")\n",
    "ranker = InfluenceRanker(manager=manager, on=proc.complain)\n",
    "fixer = AutoFixer(manager, corrsel, K)\n",
    "\n",
    "impacts = []\n",
    "AQs = []\n",
    "weighted_f1 = []\n",
    "rank_list = []\n",
    "rank_time_rain = 0\n",
    "model_time_rain = 0\n",
    "AQ = proc.complain(manager).AQ\n",
    "f1 = f1_score(proc.y_test.numpy(), manager.model.predict(proc.x_test).numpy(), average='weighted')\n",
    "AQs.append(float(AQ))\n",
    "weighted_f1.append(f1)\n",
    "\n",
    "x, y = manager.get_remaining()\n",
    "male_ids = (x[:, 0] == 1).numpy()\n",
    "female_ids = (x[:, 0] == 0).numpy()\n",
    "one_ids = (y == 1).numpy()\n",
    "zero_ids = (y == 0).numpy()\n",
    "male_impact = (male_ids[:] & one_ids[:]).sum() / male_ids.sum()\n",
    "female_impact = (female_ids[:] & one_ids[:]).sum() / female_ids.sum()\n",
    "impacts.append(abs(female_impact - male_impact))\n",
    "\n",
    "step_size = 100\n",
    "rain_k = int(np.ceil(K / step_size))\n",
    "for k in trange(0, rain_k):\n",
    "    nfix = min(step_size, K - step_size * k)\n",
    "    assert nfix > 0\n",
    "\n",
    "    start = time.time()\n",
    "    rank = rank_fix(ranker, fixer, nfix)\n",
    "    middle = time.time()\n",
    "    manager.fit(max_iter=1000, tol=1e-5, print_value=True)\n",
    "    end = time.time()\n",
    "    \n",
    "    rank_list.append(rank.numpy())\n",
    "    rank_time_rain += middle - start\n",
    "    model_time_rain += end - middle\n",
    "    \n",
    "    x, y = manager.get_remaining()\n",
    "    male_ids = (x[:, 0] == 1).numpy()\n",
    "    female_ids = (x[:, 0] == 0).numpy()\n",
    "    one_ids = (y == 1).numpy()\n",
    "    zero_ids = (y == 0).numpy()\n",
    "\n",
    "    male_impact = (male_ids[:] & one_ids[:]).sum() / male_ids.sum()\n",
    "    female_impact = (female_ids[:] & one_ids[:]).sum() / female_ids.sum()\n",
    "    impact = abs(female_impact - male_impact)\n",
    "    AQ = proc.complain(manager).AQ\n",
    "    f1 = f1_score(proc.y_test.numpy(), manager.model.predict(proc.x_test).numpy(), average='weighted')\n",
    "    impacts.append(impact)\n",
    "    AQs.append(float(AQ))\n",
    "    weighted_f1.append(f1)\n",
    "\n",
    "print(\"Rank_time:\", rank_time_rain)\n",
    "print(\"Model_time:\", model_time_rain)\n",
    "\n",
    "df_rain = pd.DataFrame({\n",
    "    \"Complain\": np.array(AQs),\n",
    "    \"Impact\": np.array(impacts),\n",
    "    \"F1\": np.array(weighted_f1),\n",
    "    \"K\": [1] + list(range(step_size, K + step_size, step_size)),\n",
    "    \"Method\": np.repeat(\"Rain\", len(AQs)),\n",
    "})\n",
    "alt.Chart(pd.concat([df_rain])).mark_line().encode(\n",
    "    alt.X('K:Q', axis=alt.Axis(tickCount=df_rain.shape[0], grid=False)),\n",
    "    alt.Y(\"Complain:Q\", scale=alt.Scale(domain=[min(AQs),max(AQs)])),\n",
    "    color = \"Method\"\n",
    ")"
   ]
  },
  {
   "cell_type": "code",
   "execution_count": 12,
   "metadata": {
    "collapsed": true
   },
   "outputs": [
    {
     "data": {
      "text/html": [
       "\n",
       "<div id=\"altair-viz-4e4f52c0b9834378a49f3f849010cf1b\"></div>\n",
       "<script type=\"text/javascript\">\n",
       "  (function(spec, embedOpt){\n",
       "    let outputDiv = document.currentScript.previousElementSibling;\n",
       "    if (outputDiv.id !== \"altair-viz-4e4f52c0b9834378a49f3f849010cf1b\") {\n",
       "      outputDiv = document.getElementById(\"altair-viz-4e4f52c0b9834378a49f3f849010cf1b\");\n",
       "    }\n",
       "    const paths = {\n",
       "      \"vega\": \"https://cdn.jsdelivr.net/npm//vega@5?noext\",\n",
       "      \"vega-lib\": \"https://cdn.jsdelivr.net/npm//vega-lib?noext\",\n",
       "      \"vega-lite\": \"https://cdn.jsdelivr.net/npm//vega-lite@4.8.1?noext\",\n",
       "      \"vega-embed\": \"https://cdn.jsdelivr.net/npm//vega-embed@6?noext\",\n",
       "    };\n",
       "\n",
       "    function loadScript(lib) {\n",
       "      return new Promise(function(resolve, reject) {\n",
       "        var s = document.createElement('script');\n",
       "        s.src = paths[lib];\n",
       "        s.async = true;\n",
       "        s.onload = () => resolve(paths[lib]);\n",
       "        s.onerror = () => reject(`Error loading script: ${paths[lib]}`);\n",
       "        document.getElementsByTagName(\"head\")[0].appendChild(s);\n",
       "      });\n",
       "    }\n",
       "\n",
       "    function showError(err) {\n",
       "      outputDiv.innerHTML = `<div class=\"error\" style=\"color:red;\">${err}</div>`;\n",
       "      throw err;\n",
       "    }\n",
       "\n",
       "    function displayChart(vegaEmbed) {\n",
       "      vegaEmbed(outputDiv, spec, embedOpt)\n",
       "        .catch(err => showError(`Javascript Error: ${err.message}<br>This usually means there's a typo in your chart specification. See the javascript console for the full traceback.`));\n",
       "    }\n",
       "\n",
       "    if(typeof define === \"function\" && define.amd) {\n",
       "      requirejs.config({paths});\n",
       "      require([\"vega-embed\"], displayChart, err => showError(`Error loading script: ${err.message}`));\n",
       "    } else if (typeof vegaEmbed === \"function\") {\n",
       "      displayChart(vegaEmbed);\n",
       "    } else {\n",
       "      loadScript(\"vega\")\n",
       "        .then(() => loadScript(\"vega-lite\"))\n",
       "        .then(() => loadScript(\"vega-embed\"))\n",
       "        .catch(showError)\n",
       "        .then(() => displayChart(vegaEmbed));\n",
       "    }\n",
       "  })({\"config\": {\"view\": {\"continuousWidth\": 400, \"continuousHeight\": 300}}, \"data\": {\"name\": \"data-0aff59745d60f4f745516b4625ea2022\"}, \"mark\": \"line\", \"encoding\": {\"color\": {\"type\": \"nominal\", \"field\": \"Method\"}, \"x\": {\"type\": \"quantitative\", \"axis\": {\"grid\": false, \"tickCount\": 36}, \"field\": \"K\"}, \"y\": {\"type\": \"quantitative\", \"field\": \"Impact\"}}, \"$schema\": \"https://vega.github.io/schema/vega-lite/v4.8.1.json\", \"datasets\": {\"data-0aff59745d60f4f745516b4625ea2022\": [{\"Complain\": 0.180945485830307, \"Impact\": 0.19454483647234272, \"F1\": 0.8158017726592359, \"K\": 1, \"Method\": \"Rain\"}, {\"Complain\": 0.18212583661079407, \"Impact\": 0.1920388460664217, \"F1\": 0.8162845393939688, \"K\": 100, \"Method\": \"Rain\"}, {\"Complain\": 0.18080809712409973, \"Impact\": 0.18836281478346384, \"F1\": 0.8161244889092586, \"K\": 200, \"Method\": \"Rain\"}, {\"Complain\": 0.17840297520160675, \"Impact\": 0.18413610487826265, \"F1\": 0.8167595194897336, \"K\": 300, \"Method\": \"Rain\"}, {\"Complain\": 0.17562326788902283, \"Impact\": 0.18019139339891133, \"F1\": 0.8179327500132725, \"K\": 400, \"Method\": \"Rain\"}, {\"Complain\": 0.17299015820026398, \"Impact\": 0.1764727736991295, \"F1\": 0.8180869532220885, \"K\": 500, \"Method\": \"Rain\"}, {\"Complain\": 0.16937963664531708, \"Impact\": 0.17275349021581546, \"F1\": 0.8177338694372679, \"K\": 600, \"Method\": \"Rain\"}, {\"Complain\": 0.16429273784160614, \"Impact\": 0.1685966909305135, \"F1\": 0.8169161386120442, \"K\": 700, \"Method\": \"Rain\"}, {\"Complain\": 0.15977470576763153, \"Impact\": 0.16534802456041264, \"F1\": 0.817181374554973, \"K\": 800, \"Method\": \"Rain\"}, {\"Complain\": 0.15669630467891693, \"Impact\": 0.16291299961208044, \"F1\": 0.8176866418027203, \"K\": 900, \"Method\": \"Rain\"}, {\"Complain\": 0.1528891623020172, \"Impact\": 0.1601104041737415, \"F1\": 0.817485318839808, \"K\": 1000, \"Method\": \"Rain\"}, {\"Complain\": 0.14796732366085052, \"Impact\": 0.1569763156473024, \"F1\": 0.8172832208601412, \"K\": 1100, \"Method\": \"Rain\"}, {\"Complain\": 0.14369796216487885, \"Impact\": 0.15447768763909508, \"F1\": 0.8167277499333364, \"K\": 1200, \"Method\": \"Rain\"}, {\"Complain\": 0.13954973220825195, \"Impact\": 0.1507829216565177, \"F1\": 0.816375295966572, \"K\": 1300, \"Method\": \"Rain\"}, {\"Complain\": 0.13275830447673798, \"Impact\": 0.14614474101391894, \"F1\": 0.8165215564133926, \"K\": 1400, \"Method\": \"Rain\"}, {\"Complain\": 0.12333512306213379, \"Impact\": 0.14086651191605826, \"F1\": 0.8184868644952539, \"K\": 1500, \"Method\": \"Rain\"}, {\"Complain\": 0.11366589367389679, \"Impact\": 0.13572364807005638, \"F1\": 0.820966550428636, \"K\": 1600, \"Method\": \"Rain\"}, {\"Complain\": 0.10581742227077484, \"Impact\": 0.13058336462074435, \"F1\": 0.8184868644952539, \"K\": 1700, \"Method\": \"Rain\"}, {\"Complain\": 0.09641163051128387, \"Impact\": 0.12515459419297437, \"F1\": 0.816589204473346, \"K\": 1800, \"Method\": \"Rain\"}, {\"Complain\": 0.08638076484203339, \"Impact\": 0.1196097392026609, \"F1\": 0.8141345596241523, \"K\": 1900, \"Method\": \"Rain\"}, {\"Complain\": 0.07721196115016937, \"Impact\": 0.11474867688891018, \"F1\": 0.8134206201575502, \"K\": 2000, \"Method\": \"Rain\"}, {\"Complain\": 0.06737613677978516, \"Impact\": 0.10940549216932295, \"F1\": 0.8130693947924652, \"K\": 2100, \"Method\": \"Rain\"}, {\"Complain\": 0.06449149549007416, \"Impact\": 0.10403104877549049, \"F1\": 0.8130693947924652, \"K\": 2200, \"Method\": \"Rain\"}, {\"Complain\": 0.06172199547290802, \"Impact\": 0.09994764997654897, \"F1\": 0.8130693947924652, \"K\": 2300, \"Method\": \"Rain\"}, {\"Complain\": 0.05734610557556152, \"Impact\": 0.0940085810603739, \"F1\": 0.8134206201575502, \"K\": 2400, \"Method\": \"Rain\"}, {\"Complain\": 0.05022265017032623, \"Impact\": 0.08797780323567232, \"F1\": 0.8080049073677054, \"K\": 2500, \"Method\": \"Rain\"}, {\"Complain\": 0.04504033923149109, \"Impact\": 0.08185317577161964, \"F1\": 0.8013038677266505, \"K\": 2600, \"Method\": \"Rain\"}, {\"Complain\": 0.04096101224422455, \"Impact\": 0.0756324907877418, \"F1\": 0.8016496057667013, \"K\": 2700, \"Method\": \"Rain\"}, {\"Complain\": 0.036484941840171814, \"Impact\": 0.06931347060019848, \"F1\": 0.8005608914699824, \"K\": 2800, \"Method\": \"Rain\"}, {\"Complain\": 0.030569419264793396, \"Impact\": 0.06289376494121567, \"F1\": 0.8000977710579585, \"K\": 2900, \"Method\": \"Rain\"}, {\"Complain\": 0.025074392557144165, \"Impact\": 0.05706833202917874, \"F1\": 0.7987905346527749, \"K\": 3000, \"Method\": \"Rain\"}, {\"Complain\": 0.02025797963142395, \"Impact\": 0.050455904735151796, \"F1\": 0.7992712421915178, \"K\": 3100, \"Method\": \"Rain\"}, {\"Complain\": 0.014594301581382751, \"Impact\": 0.043735669056124, \"F1\": 0.7967494505937961, \"K\": 3200, \"Method\": \"Rain\"}, {\"Complain\": 0.008962675929069519, \"Impact\": 0.03690496677597796, \"F1\": 0.7936079719167954, \"K\": 3300, \"Method\": \"Rain\"}, {\"Complain\": 0.002449631690979004, \"Impact\": 0.029961051563369062, \"F1\": 0.7920113779172573, \"K\": 3400, \"Method\": \"Rain\"}, {\"Complain\": -0.004841640591621399, \"Impact\": 0.02316068675048627, \"F1\": 0.7914393188239783, \"K\": 3500, \"Method\": \"Rain\"}]}}, {\"mode\": \"vega-lite\"});\n",
       "</script>"
      ],
      "text/plain": [
       "alt.Chart(...)"
      ]
     },
     "execution_count": 12,
     "metadata": {},
     "output_type": "execute_result"
    }
   ],
   "source": [
    "alt.Chart(pd.concat([df_rain])).mark_line().encode(\n",
    "    alt.X('K:Q', axis=alt.Axis(tickCount=df_rain.shape[0], grid=False)),\n",
    "    alt.Y(\"Impact:Q\"),\n",
    "    color = \"Method\"\n",
    ")"
   ]
  },
  {
   "cell_type": "code",
   "execution_count": 13,
   "metadata": {
    "collapsed": true
   },
   "outputs": [
    {
     "data": {
      "text/html": [
       "\n",
       "<div id=\"altair-viz-1d74974c9410429d80cf48c46904f92e\"></div>\n",
       "<script type=\"text/javascript\">\n",
       "  (function(spec, embedOpt){\n",
       "    let outputDiv = document.currentScript.previousElementSibling;\n",
       "    if (outputDiv.id !== \"altair-viz-1d74974c9410429d80cf48c46904f92e\") {\n",
       "      outputDiv = document.getElementById(\"altair-viz-1d74974c9410429d80cf48c46904f92e\");\n",
       "    }\n",
       "    const paths = {\n",
       "      \"vega\": \"https://cdn.jsdelivr.net/npm//vega@5?noext\",\n",
       "      \"vega-lib\": \"https://cdn.jsdelivr.net/npm//vega-lib?noext\",\n",
       "      \"vega-lite\": \"https://cdn.jsdelivr.net/npm//vega-lite@4.8.1?noext\",\n",
       "      \"vega-embed\": \"https://cdn.jsdelivr.net/npm//vega-embed@6?noext\",\n",
       "    };\n",
       "\n",
       "    function loadScript(lib) {\n",
       "      return new Promise(function(resolve, reject) {\n",
       "        var s = document.createElement('script');\n",
       "        s.src = paths[lib];\n",
       "        s.async = true;\n",
       "        s.onload = () => resolve(paths[lib]);\n",
       "        s.onerror = () => reject(`Error loading script: ${paths[lib]}`);\n",
       "        document.getElementsByTagName(\"head\")[0].appendChild(s);\n",
       "      });\n",
       "    }\n",
       "\n",
       "    function showError(err) {\n",
       "      outputDiv.innerHTML = `<div class=\"error\" style=\"color:red;\">${err}</div>`;\n",
       "      throw err;\n",
       "    }\n",
       "\n",
       "    function displayChart(vegaEmbed) {\n",
       "      vegaEmbed(outputDiv, spec, embedOpt)\n",
       "        .catch(err => showError(`Javascript Error: ${err.message}<br>This usually means there's a typo in your chart specification. See the javascript console for the full traceback.`));\n",
       "    }\n",
       "\n",
       "    if(typeof define === \"function\" && define.amd) {\n",
       "      requirejs.config({paths});\n",
       "      require([\"vega-embed\"], displayChart, err => showError(`Error loading script: ${err.message}`));\n",
       "    } else if (typeof vegaEmbed === \"function\") {\n",
       "      displayChart(vegaEmbed);\n",
       "    } else {\n",
       "      loadScript(\"vega\")\n",
       "        .then(() => loadScript(\"vega-lite\"))\n",
       "        .then(() => loadScript(\"vega-embed\"))\n",
       "        .catch(showError)\n",
       "        .then(() => displayChart(vegaEmbed));\n",
       "    }\n",
       "  })({\"config\": {\"view\": {\"continuousWidth\": 400, \"continuousHeight\": 300}}, \"data\": {\"name\": \"data-0aff59745d60f4f745516b4625ea2022\"}, \"mark\": \"line\", \"encoding\": {\"color\": {\"type\": \"nominal\", \"field\": \"Method\"}, \"x\": {\"type\": \"quantitative\", \"axis\": {\"grid\": false, \"tickCount\": 36}, \"field\": \"K\"}, \"y\": {\"type\": \"quantitative\", \"field\": \"F1\", \"scale\": {\"domain\": [0, 1]}}}, \"$schema\": \"https://vega.github.io/schema/vega-lite/v4.8.1.json\", \"datasets\": {\"data-0aff59745d60f4f745516b4625ea2022\": [{\"Complain\": 0.180945485830307, \"Impact\": 0.19454483647234272, \"F1\": 0.8158017726592359, \"K\": 1, \"Method\": \"Rain\"}, {\"Complain\": 0.18212583661079407, \"Impact\": 0.1920388460664217, \"F1\": 0.8162845393939688, \"K\": 100, \"Method\": \"Rain\"}, {\"Complain\": 0.18080809712409973, \"Impact\": 0.18836281478346384, \"F1\": 0.8161244889092586, \"K\": 200, \"Method\": \"Rain\"}, {\"Complain\": 0.17840297520160675, \"Impact\": 0.18413610487826265, \"F1\": 0.8167595194897336, \"K\": 300, \"Method\": \"Rain\"}, {\"Complain\": 0.17562326788902283, \"Impact\": 0.18019139339891133, \"F1\": 0.8179327500132725, \"K\": 400, \"Method\": \"Rain\"}, {\"Complain\": 0.17299015820026398, \"Impact\": 0.1764727736991295, \"F1\": 0.8180869532220885, \"K\": 500, \"Method\": \"Rain\"}, {\"Complain\": 0.16937963664531708, \"Impact\": 0.17275349021581546, \"F1\": 0.8177338694372679, \"K\": 600, \"Method\": \"Rain\"}, {\"Complain\": 0.16429273784160614, \"Impact\": 0.1685966909305135, \"F1\": 0.8169161386120442, \"K\": 700, \"Method\": \"Rain\"}, {\"Complain\": 0.15977470576763153, \"Impact\": 0.16534802456041264, \"F1\": 0.817181374554973, \"K\": 800, \"Method\": \"Rain\"}, {\"Complain\": 0.15669630467891693, \"Impact\": 0.16291299961208044, \"F1\": 0.8176866418027203, \"K\": 900, \"Method\": \"Rain\"}, {\"Complain\": 0.1528891623020172, \"Impact\": 0.1601104041737415, \"F1\": 0.817485318839808, \"K\": 1000, \"Method\": \"Rain\"}, {\"Complain\": 0.14796732366085052, \"Impact\": 0.1569763156473024, \"F1\": 0.8172832208601412, \"K\": 1100, \"Method\": \"Rain\"}, {\"Complain\": 0.14369796216487885, \"Impact\": 0.15447768763909508, \"F1\": 0.8167277499333364, \"K\": 1200, \"Method\": \"Rain\"}, {\"Complain\": 0.13954973220825195, \"Impact\": 0.1507829216565177, \"F1\": 0.816375295966572, \"K\": 1300, \"Method\": \"Rain\"}, {\"Complain\": 0.13275830447673798, \"Impact\": 0.14614474101391894, \"F1\": 0.8165215564133926, \"K\": 1400, \"Method\": \"Rain\"}, {\"Complain\": 0.12333512306213379, \"Impact\": 0.14086651191605826, \"F1\": 0.8184868644952539, \"K\": 1500, \"Method\": \"Rain\"}, {\"Complain\": 0.11366589367389679, \"Impact\": 0.13572364807005638, \"F1\": 0.820966550428636, \"K\": 1600, \"Method\": \"Rain\"}, {\"Complain\": 0.10581742227077484, \"Impact\": 0.13058336462074435, \"F1\": 0.8184868644952539, \"K\": 1700, \"Method\": \"Rain\"}, {\"Complain\": 0.09641163051128387, \"Impact\": 0.12515459419297437, \"F1\": 0.816589204473346, \"K\": 1800, \"Method\": \"Rain\"}, {\"Complain\": 0.08638076484203339, \"Impact\": 0.1196097392026609, \"F1\": 0.8141345596241523, \"K\": 1900, \"Method\": \"Rain\"}, {\"Complain\": 0.07721196115016937, \"Impact\": 0.11474867688891018, \"F1\": 0.8134206201575502, \"K\": 2000, \"Method\": \"Rain\"}, {\"Complain\": 0.06737613677978516, \"Impact\": 0.10940549216932295, \"F1\": 0.8130693947924652, \"K\": 2100, \"Method\": \"Rain\"}, {\"Complain\": 0.06449149549007416, \"Impact\": 0.10403104877549049, \"F1\": 0.8130693947924652, \"K\": 2200, \"Method\": \"Rain\"}, {\"Complain\": 0.06172199547290802, \"Impact\": 0.09994764997654897, \"F1\": 0.8130693947924652, \"K\": 2300, \"Method\": \"Rain\"}, {\"Complain\": 0.05734610557556152, \"Impact\": 0.0940085810603739, \"F1\": 0.8134206201575502, \"K\": 2400, \"Method\": \"Rain\"}, {\"Complain\": 0.05022265017032623, \"Impact\": 0.08797780323567232, \"F1\": 0.8080049073677054, \"K\": 2500, \"Method\": \"Rain\"}, {\"Complain\": 0.04504033923149109, \"Impact\": 0.08185317577161964, \"F1\": 0.8013038677266505, \"K\": 2600, \"Method\": \"Rain\"}, {\"Complain\": 0.04096101224422455, \"Impact\": 0.0756324907877418, \"F1\": 0.8016496057667013, \"K\": 2700, \"Method\": \"Rain\"}, {\"Complain\": 0.036484941840171814, \"Impact\": 0.06931347060019848, \"F1\": 0.8005608914699824, \"K\": 2800, \"Method\": \"Rain\"}, {\"Complain\": 0.030569419264793396, \"Impact\": 0.06289376494121567, \"F1\": 0.8000977710579585, \"K\": 2900, \"Method\": \"Rain\"}, {\"Complain\": 0.025074392557144165, \"Impact\": 0.05706833202917874, \"F1\": 0.7987905346527749, \"K\": 3000, \"Method\": \"Rain\"}, {\"Complain\": 0.02025797963142395, \"Impact\": 0.050455904735151796, \"F1\": 0.7992712421915178, \"K\": 3100, \"Method\": \"Rain\"}, {\"Complain\": 0.014594301581382751, \"Impact\": 0.043735669056124, \"F1\": 0.7967494505937961, \"K\": 3200, \"Method\": \"Rain\"}, {\"Complain\": 0.008962675929069519, \"Impact\": 0.03690496677597796, \"F1\": 0.7936079719167954, \"K\": 3300, \"Method\": \"Rain\"}, {\"Complain\": 0.002449631690979004, \"Impact\": 0.029961051563369062, \"F1\": 0.7920113779172573, \"K\": 3400, \"Method\": \"Rain\"}, {\"Complain\": -0.004841640591621399, \"Impact\": 0.02316068675048627, \"F1\": 0.7914393188239783, \"K\": 3500, \"Method\": \"Rain\"}]}}, {\"mode\": \"vega-lite\"});\n",
       "</script>"
      ],
      "text/plain": [
       "alt.Chart(...)"
      ]
     },
     "execution_count": 13,
     "metadata": {},
     "output_type": "execute_result"
    }
   ],
   "source": [
    "# Forget about F1, because F1 has the prior knowledge that the test data is correct, but we don't think data is valid\n",
    "alt.Chart(pd.concat([df_rain])).mark_line().encode(\n",
    "    alt.X('K:Q', axis=alt.Axis(tickCount=df_rain.shape[0], grid=False)),\n",
    "    alt.Y(\"F1:Q\", scale=alt.Scale(domain=[0,1])),\n",
    "    color = \"Method\"\n",
    ")"
   ]
  },
  {
   "cell_type": "code",
   "execution_count": 14,
   "metadata": {
    "collapsed": true
   },
   "outputs": [
    {
     "data": {
      "text/plain": [
       "0.0008256797031810786"
      ]
     },
     "execution_count": 14,
     "metadata": {},
     "output_type": "execute_result"
    }
   ],
   "source": [
    "# Rain\n",
    "y = tf.squeeze(manager.model(proc.x_test))\n",
    "male_ids = (proc.x_test[:, 0] == 1).numpy()\n",
    "female_ids = (proc.x_test[:, 0] == 0).numpy()\n",
    "one_ids = (y >= 0.51).numpy()\n",
    "zero_ids = (y < 0.51).numpy()\n",
    "\n",
    "male_impact = (male_ids[:] & one_ids[:]).sum() / male_ids.sum()\n",
    "female_impact = (female_ids[:] & one_ids[:]).sum() / female_ids.sum()\n",
    "impact = female_impact - male_impact\n",
    "impact"
   ]
  },
  {
   "cell_type": "code",
   "execution_count": 15,
   "metadata": {
    "collapsed": true
   },
   "outputs": [],
   "source": [
    "male_ids = (proc.x_train[:, 0] == 1).numpy()\n",
    "female_ids = (proc.x_train[:, 0] == 0).numpy()\n",
    "one_ids = (proc.y_train == 1).numpy()\n",
    "zero_ids = (proc.y_train == 0).numpy()\n",
    "\n",
    "# male_ids = (proc.x_train[:, 0] == 1).numpy()\n",
    "# female_ids = (proc.x_train[:, 0] == 0).numpy()\n",
    "# one_ids = (proc.y_train == 1).numpy()\n",
    "# zero_ids = (proc.y_train == 0).numpy()\n",
    "\n",
    "total_deletion = 3500\n",
    "female_ids_deletion_candidates = np.where((female_ids[:] & zero_ids[:]))[0]\n",
    "male_ids_deletion_candidates = np.where((male_ids[:] & one_ids[:]))[0]\n",
    "deletion_candidates = np.concatenate([female_ids_deletion_candidates, male_ids_deletion_candidates])\n",
    "deletion_remaining_candidates = deletion_candidates[total_deletion:]\n",
    "\n",
    "female_ids_nondeletion_candidates = np.where((female_ids[:] & one_ids[:]))[0]\n",
    "male_ids_nondeletion_candidates = np.where((male_ids[:] & zero_ids[:]))[0]\n",
    "new_train_ids = np.concatenate([female_ids_nondeletion_candidates, male_ids_nondeletion_candidates, deletion_remaining_candidates])\n",
    "new_train_ids = tf.convert_to_tensor(new_train_ids, dtype=tf.int64)\n",
    "x_new_train = tf.gather(proc.x_train, new_train_ids)\n",
    "y_new_train = tf.gather(proc.y_train, new_train_ids)\n",
    "\n"
   ]
  },
  {
   "cell_type": "code",
   "execution_count": 16,
   "metadata": {
    "collapsed": true
   },
   "outputs": [
    {
     "data": {
      "text/plain": [
       "-0.09072006662301221"
      ]
     },
     "execution_count": 16,
     "metadata": {},
     "output_type": "execute_result"
    }
   ],
   "source": [
    "remaining_male_ids = (x_new_train[:, 0] == 1).numpy()\n",
    "remaining_female_ids = (x_new_train[:, 0] == 0).numpy()\n",
    "remaining_one_ids = (y_new_train == 1).numpy()\n",
    "remaining_zero_ids = (y_new_train == 0).numpy()\n",
    "\n",
    "male_impact = (remaining_male_ids[:] & remaining_one_ids[:]).sum() / remaining_male_ids.sum()\n",
    "female_impact = (remaining_female_ids[:] & remaining_one_ids[:]).sum() / remaining_female_ids.sum()\n",
    "female_impact - male_impact"
   ]
  },
  {
   "cell_type": "code",
   "execution_count": 6,
   "metadata": {},
   "outputs": [
    {
     "ename": "NameError",
     "evalue": "name 'x_new_train' is not defined",
     "output_type": "error",
     "traceback": [
      "\u001b[0;31m---------------------------------------------------------------------------\u001b[0m",
      "\u001b[0;31mNameError\u001b[0m                                 Traceback (most recent call last)",
      "\u001b[0;32m<ipython-input-6-5e986a6abc32>\u001b[0m in \u001b[0;36m<module>\u001b[0;34m\u001b[0m\n\u001b[1;32m      1\u001b[0m \u001b[0;31m# human heuristic deletion\u001b[0m\u001b[0;34m\u001b[0m\u001b[0;34m\u001b[0m\u001b[0;34m\u001b[0m\u001b[0m\n\u001b[1;32m      2\u001b[0m \u001b[0mmodel_random\u001b[0m \u001b[0;34m=\u001b[0m \u001b[0mLogReg\u001b[0m\u001b[0;34m(\u001b[0m\u001b[0;36m1\u001b[0m\u001b[0;34m)\u001b[0m\u001b[0;34m\u001b[0m\u001b[0;34m\u001b[0m\u001b[0m\n\u001b[0;32m----> 3\u001b[0;31m \u001b[0mmanager_random\u001b[0m \u001b[0;34m=\u001b[0m \u001b[0mModelManagerLM\u001b[0m\u001b[0;34m(\u001b[0m\u001b[0mx_new_train\u001b[0m\u001b[0;34m,\u001b[0m \u001b[0my_new_train\u001b[0m\u001b[0;34m,\u001b[0m \u001b[0mmodel_random\u001b[0m\u001b[0;34m,\u001b[0m \u001b[0;36m256\u001b[0m\u001b[0;34m)\u001b[0m\u001b[0;34m\u001b[0m\u001b[0;34m\u001b[0m\u001b[0m\n\u001b[0m\u001b[1;32m      4\u001b[0m \u001b[0mstart\u001b[0m \u001b[0;34m=\u001b[0m \u001b[0mtime\u001b[0m\u001b[0;34m.\u001b[0m\u001b[0mtime\u001b[0m\u001b[0;34m(\u001b[0m\u001b[0;34m)\u001b[0m\u001b[0;34m\u001b[0m\u001b[0;34m\u001b[0m\u001b[0m\n\u001b[1;32m      5\u001b[0m \u001b[0mmanager_random\u001b[0m\u001b[0;34m.\u001b[0m\u001b[0mfit\u001b[0m\u001b[0;34m(\u001b[0m\u001b[0mprint_value\u001b[0m\u001b[0;34m=\u001b[0m\u001b[0;32mTrue\u001b[0m\u001b[0;34m,\u001b[0m \u001b[0mmax_iter\u001b[0m\u001b[0;34m=\u001b[0m\u001b[0;36m2000\u001b[0m\u001b[0;34m,\u001b[0m \u001b[0mtol\u001b[0m\u001b[0;34m=\u001b[0m\u001b[0;36m1e-5\u001b[0m\u001b[0;34m)\u001b[0m\u001b[0;34m\u001b[0m\u001b[0;34m\u001b[0m\u001b[0m\n",
      "\u001b[0;31mNameError\u001b[0m: name 'x_new_train' is not defined"
     ]
    }
   ],
   "source": [
    "# human heuristic deletion\n",
    "model_random = LogReg(1)\n",
    "manager_random = ModelManagerLM(x_new_train, y_new_train, model_random, 256)\n",
    "start = time.time()\n",
    "manager_random.fit(print_value=True, max_iter=2000, tol=1e-5)\n",
    "print(time.time() - start)\n",
    "manager_random.report(x_new_train, y_new_train, proc.x_test, proc.y_test)\n",
    "print(proc.complain(manager_random).AQ)"
   ]
  },
  {
   "cell_type": "code",
   "execution_count": 14,
   "metadata": {},
   "outputs": [
    {
     "name": "stdout",
     "output_type": "stream",
     "text": [
      "SGD loss: tf.Tensor(0.06862382, shape=(), dtype=float32)\n",
      "SGD steps: 49999\n",
      "591.2330694198608\n",
      "Model name: LinearCombTest\n",
      "On Training\n",
      "               precision    recall  f1-score   support\n",
      "\n",
      "         0.0       0.80      0.97      0.88     16672\n",
      "         1.0       0.74      0.23      0.35      5306\n",
      "\n",
      "    accuracy                           0.79     21978\n",
      "   macro avg       0.77      0.60      0.61     21978\n",
      "weighted avg       0.78      0.79      0.75     21978\n",
      "\n",
      "On Testing\n",
      "               precision    recall  f1-score   support\n",
      "\n",
      "         0.0       0.81      0.98      0.89      1867\n",
      "         1.0       0.77      0.26      0.39       575\n",
      "\n",
      "    accuracy                           0.81      2442\n",
      "   macro avg       0.79      0.62      0.64      2442\n",
      "weighted avg       0.80      0.81      0.77      2442\n",
      "\n",
      "Model name: LinearCombTest\n",
      "On Training\n",
      "               precision    recall  f1-score   support\n",
      "\n",
      "         0.0       0.80      0.97      0.88     16672\n",
      "         1.0       0.74      0.23      0.35      5306\n",
      "\n",
      "    accuracy                           0.79     21978\n",
      "   macro avg       0.77      0.60      0.61     21978\n",
      "weighted avg       0.78      0.79      0.75     21978\n",
      "\n",
      "On Testing\n",
      "               precision    recall  f1-score   support\n",
      "\n",
      "         0.0       0.80      0.97      0.88      6181\n",
      "         1.0       0.71      0.22      0.33      1960\n",
      "\n",
      "    accuracy                           0.79      8141\n",
      "   macro avg       0.75      0.59      0.60      8141\n",
      "weighted avg       0.78      0.79      0.74      8141\n",
      "\n"
     ]
    }
   ],
   "source": [
    "# from mlsql.lc_protocol import fit as lc_fit\n",
    "# from mlsql.lc_protocol import fit_test as lc_fit_test\n",
    "# from mlsql.lc_protocol import report as lc_report\n",
    "# from models.linear_comb import LinearComb\n",
    "# model0_a = LinearComb(1)\n",
    "# manager0_a = ModelManagerLM(proc.x_a_train, proc.y_train, model0_a, 256)\n",
    "# model0_b = LinearComb(1)\n",
    "# manager0_b = ModelManagerLM(proc.x_b_train, proc.y_train, model0_b, 256)\n",
    "# # enc_time, cpu_time = lc_fit_test(manager0_a, manager0_b, max_iter=2000, tol=1e-6, lr=0.5, print_value=True)\n",
    "# enc_time, cpu_time = lc_fit(manager0_a, manager0_b, max_iter=1000, tol=1e-6, lr=0.5, print_value=True)\n",
    "# print(enc_time, cpu_time)\n",
    "# lc_report(manager0_a, manager0_b, proc.x_a_train, proc.x_b_train, proc.y_train, \n",
    "#           proc.x_a_test, proc.x_b_test, proc.y_test)\n",
    "from models.linear_comb_test import LinearCombTest\n",
    "from mlsql.manager_test import ModelManagerTest\n",
    "\n",
    "model = LinearCombTest(1)\n",
    "manager_test0 = ModelManagerTest(proc.x_a_train, proc.x_b_train, proc.y_train, model, 256)\n",
    "start = time.time()\n",
    "# tol=1e-7, lr=0.5\n",
    "manager_test0.fit(print_value=True, tol=1e-10, lr=0.02, max_iter=50000)\n",
    "print(time.time() - start)\n",
    "manager_test0.report(proc.x_a_train, proc.x_b_train, proc.y_train, proc.x_a_test, proc.x_b_test, proc.y_test)\n",
    "manager_test0.report(proc.x_a_train, proc.x_b_train, proc.y_train, proc.x_a_query, proc.x_b_query, proc.y_query)"
   ]
  },
  {
   "cell_type": "code",
   "execution_count": null,
   "metadata": {},
   "outputs": [],
   "source": [
    "AQ = proc.test_complain(manager_test).AQ\n",
    "f1 = f1_score(proc.y_test.numpy(), manager_test.model.predict(proc.x_a_test, proc.x_b_test).numpy(), average='weighted')\n",
    "# f1 = f1_score(proc.y_query.numpy(), manager_test.model.predict(proc.x_a_query, proc.x_b_query).numpy(), average='weighted')\n",
    "x_a, _, y = manager_test.get_remaining()\n",
    "male_ids = (x_a[:, 0] == 1).numpy()\n",
    "female_ids = (x_a[:, 0] == 0).numpy()\n",
    "one_ids = (y == 1).numpy()\n",
    "zero_ids = (y == 0).numpy()\n",
    "\n",
    "male_impact = (male_ids[:] & one_ids[:]).sum() / male_ids.sum()\n",
    "female_impact = (female_ids[:] & one_ids[:]).sum() / female_ids.sum()\n",
    "AQs.append(float(AQ))\n",
    "weighted_f1.append(f1)\n",
    "impacts.append(abs(female_impact - male_impact))\n",
    "print(male_impact, female_impact)"
   ]
  },
  {
   "cell_type": "code",
   "execution_count": 15,
   "metadata": {},
   "outputs": [
    {
     "name": "stderr",
     "output_type": "stream",
     "text": [
      "  2%|▏         | 1/50 [00:01<01:28,  1.80s/it]"
     ]
    },
    {
     "name": "stdout",
     "output_type": "stream",
     "text": [
      "SGD loss: tf.Tensor(0.06791393, shape=(), dtype=float32)\n",
      "SGD steps: 1\n"
     ]
    },
    {
     "name": "stderr",
     "output_type": "stream",
     "text": [
      "\r",
      "  4%|▍         | 2/50 [00:02<00:55,  1.17s/it]"
     ]
    },
    {
     "name": "stdout",
     "output_type": "stream",
     "text": [
      "SGD loss: tf.Tensor(0.066932335, shape=(), dtype=float32)\n",
      "SGD steps: 1\n"
     ]
    },
    {
     "name": "stderr",
     "output_type": "stream",
     "text": [
      "\r",
      "  6%|▌         | 3/50 [00:03<00:47,  1.01s/it]"
     ]
    },
    {
     "name": "stdout",
     "output_type": "stream",
     "text": [
      "SGD loss: tf.Tensor(0.06624294, shape=(), dtype=float32)\n",
      "SGD steps: 10\n"
     ]
    },
    {
     "name": "stderr",
     "output_type": "stream",
     "text": [
      "\r",
      "  8%|▊         | 4/50 [00:11<02:59,  3.91s/it]"
     ]
    },
    {
     "name": "stdout",
     "output_type": "stream",
     "text": [
      "SGD loss: tf.Tensor(0.06531933, shape=(), dtype=float32)\n",
      "SGD steps: 640\n"
     ]
    },
    {
     "name": "stderr",
     "output_type": "stream",
     "text": [
      "\r",
      " 10%|█         | 5/50 [00:29<06:33,  8.74s/it]"
     ]
    },
    {
     "name": "stdout",
     "output_type": "stream",
     "text": [
      "SGD loss: tf.Tensor(0.064209044, shape=(), dtype=float32)\n",
      "SGD steps: 1429\n"
     ]
    },
    {
     "name": "stderr",
     "output_type": "stream",
     "text": [
      "\r",
      " 12%|█▏        | 6/50 [00:54<10:27, 14.27s/it]"
     ]
    },
    {
     "name": "stdout",
     "output_type": "stream",
     "text": [
      "SGD loss: tf.Tensor(0.06304134, shape=(), dtype=float32)\n",
      "SGD steps: 1872\n"
     ]
    },
    {
     "name": "stderr",
     "output_type": "stream",
     "text": [
      "\r",
      " 14%|█▍        | 7/50 [01:13<11:23, 15.89s/it]"
     ]
    },
    {
     "name": "stdout",
     "output_type": "stream",
     "text": [
      "SGD loss: tf.Tensor(0.06219103, shape=(), dtype=float32)\n",
      "SGD steps: 1551\n"
     ]
    },
    {
     "name": "stderr",
     "output_type": "stream",
     "text": [
      "\r",
      " 16%|█▌        | 8/50 [01:31<11:40, 16.67s/it]"
     ]
    },
    {
     "name": "stdout",
     "output_type": "stream",
     "text": [
      "SGD loss: tf.Tensor(0.0611306, shape=(), dtype=float32)\n",
      "SGD steps: 1475\n"
     ]
    },
    {
     "name": "stderr",
     "output_type": "stream",
     "text": [
      "\r",
      " 18%|█▊        | 9/50 [01:55<12:50, 18.80s/it]"
     ]
    },
    {
     "name": "stdout",
     "output_type": "stream",
     "text": [
      "SGD loss: tf.Tensor(0.060152885, shape=(), dtype=float32)\n",
      "SGD steps: 1881\n"
     ]
    },
    {
     "name": "stderr",
     "output_type": "stream",
     "text": [
      "\r",
      " 20%|██        | 10/50 [02:10<11:52, 17.81s/it]"
     ]
    },
    {
     "name": "stdout",
     "output_type": "stream",
     "text": [
      "SGD loss: tf.Tensor(0.05916344, shape=(), dtype=float32)\n",
      "SGD steps: 1253\n"
     ]
    },
    {
     "name": "stderr",
     "output_type": "stream",
     "text": [
      "\r",
      " 22%|██▏       | 11/50 [02:23<10:39, 16.41s/it]"
     ]
    },
    {
     "name": "stdout",
     "output_type": "stream",
     "text": [
      "SGD loss: tf.Tensor(0.058484666, shape=(), dtype=float32)\n",
      "SGD steps: 1016\n"
     ]
    },
    {
     "name": "stderr",
     "output_type": "stream",
     "text": [
      "\r",
      " 24%|██▍       | 12/50 [02:47<11:50, 18.69s/it]"
     ]
    },
    {
     "name": "stdout",
     "output_type": "stream",
     "text": [
      "SGD loss: tf.Tensor(0.057453476, shape=(), dtype=float32)\n",
      "SGD steps: 1956\n"
     ]
    },
    {
     "name": "stderr",
     "output_type": "stream",
     "text": [
      "\r",
      " 26%|██▌       | 13/50 [03:02<10:49, 17.55s/it]"
     ]
    },
    {
     "name": "stdout",
     "output_type": "stream",
     "text": [
      "SGD loss: tf.Tensor(0.05645238, shape=(), dtype=float32)\n",
      "SGD steps: 1203\n"
     ]
    },
    {
     "name": "stderr",
     "output_type": "stream",
     "text": [
      "\r",
      " 28%|██▊       | 14/50 [03:20<10:38, 17.72s/it]"
     ]
    },
    {
     "name": "stdout",
     "output_type": "stream",
     "text": [
      "SGD loss: tf.Tensor(0.055478055, shape=(), dtype=float32)\n",
      "SGD steps: 1484\n"
     ]
    },
    {
     "name": "stderr",
     "output_type": "stream",
     "text": [
      "\r",
      " 30%|███       | 15/50 [03:32<09:17, 15.94s/it]"
     ]
    },
    {
     "name": "stdout",
     "output_type": "stream",
     "text": [
      "SGD loss: tf.Tensor(0.054767687, shape=(), dtype=float32)\n",
      "SGD steps: 946\n"
     ]
    },
    {
     "name": "stderr",
     "output_type": "stream",
     "text": [
      "\r",
      " 32%|███▏      | 16/50 [03:42<08:01, 14.18s/it]"
     ]
    },
    {
     "name": "stdout",
     "output_type": "stream",
     "text": [
      "SGD loss: tf.Tensor(0.054230746, shape=(), dtype=float32)\n",
      "SGD steps: 784\n"
     ]
    },
    {
     "name": "stderr",
     "output_type": "stream",
     "text": [
      "\r",
      " 34%|███▍      | 17/50 [03:57<07:49, 14.22s/it]"
     ]
    },
    {
     "name": "stdout",
     "output_type": "stream",
     "text": [
      "SGD loss: tf.Tensor(0.05348339, shape=(), dtype=float32)\n",
      "SGD steps: 1156\n"
     ]
    },
    {
     "name": "stderr",
     "output_type": "stream",
     "text": [
      "\r",
      " 36%|███▌      | 18/50 [04:08<07:06, 13.32s/it]"
     ]
    },
    {
     "name": "stdout",
     "output_type": "stream",
     "text": [
      "SGD loss: tf.Tensor(0.052813154, shape=(), dtype=float32)\n",
      "SGD steps: 888\n"
     ]
    },
    {
     "name": "stderr",
     "output_type": "stream",
     "text": [
      "\r",
      " 38%|███▊      | 19/50 [04:20<06:41, 12.95s/it]"
     ]
    },
    {
     "name": "stdout",
     "output_type": "stream",
     "text": [
      "SGD loss: tf.Tensor(0.0522045, shape=(), dtype=float32)\n",
      "SGD steps: 983\n"
     ]
    },
    {
     "name": "stderr",
     "output_type": "stream",
     "text": [
      "\r",
      " 40%|████      | 20/50 [04:33<06:28, 12.96s/it]"
     ]
    },
    {
     "name": "stdout",
     "output_type": "stream",
     "text": [
      "SGD loss: tf.Tensor(0.05144164, shape=(), dtype=float32)\n",
      "SGD steps: 983\n"
     ]
    },
    {
     "name": "stderr",
     "output_type": "stream",
     "text": [
      "\r",
      " 42%|████▏     | 21/50 [04:44<05:57, 12.32s/it]"
     ]
    },
    {
     "name": "stdout",
     "output_type": "stream",
     "text": [
      "SGD loss: tf.Tensor(0.050838042, shape=(), dtype=float32)\n",
      "SGD steps: 867\n"
     ]
    },
    {
     "name": "stderr",
     "output_type": "stream",
     "text": [
      "\r",
      " 44%|████▍     | 22/50 [05:00<06:16, 13.43s/it]"
     ]
    },
    {
     "name": "stdout",
     "output_type": "stream",
     "text": [
      "SGD loss: tf.Tensor(0.05002204, shape=(), dtype=float32)\n",
      "SGD steps: 1306\n"
     ]
    },
    {
     "name": "stderr",
     "output_type": "stream",
     "text": [
      "\r",
      " 46%|████▌     | 23/50 [05:14<06:10, 13.74s/it]"
     ]
    },
    {
     "name": "stdout",
     "output_type": "stream",
     "text": [
      "SGD loss: tf.Tensor(0.049214944, shape=(), dtype=float32)\n",
      "SGD steps: 1173\n"
     ]
    },
    {
     "name": "stderr",
     "output_type": "stream",
     "text": [
      "\r",
      " 48%|████▊     | 24/50 [05:17<04:34, 10.57s/it]"
     ]
    },
    {
     "name": "stdout",
     "output_type": "stream",
     "text": [
      "SGD loss: tf.Tensor(0.049024902, shape=(), dtype=float32)\n",
      "SGD steps: 222\n"
     ]
    },
    {
     "name": "stderr",
     "output_type": "stream",
     "text": [
      "\r",
      " 50%|█████     | 25/50 [05:38<05:36, 13.46s/it]"
     ]
    },
    {
     "name": "stdout",
     "output_type": "stream",
     "text": [
      "SGD loss: tf.Tensor(0.048115086, shape=(), dtype=float32)\n",
      "SGD steps: 1685\n"
     ]
    },
    {
     "name": "stderr",
     "output_type": "stream",
     "text": [
      "\r",
      " 52%|█████▏    | 26/50 [05:39<03:56,  9.87s/it]"
     ]
    },
    {
     "name": "stdout",
     "output_type": "stream",
     "text": [
      "SGD loss: tf.Tensor(0.04806413, shape=(), dtype=float32)\n",
      "SGD steps: 77\n"
     ]
    },
    {
     "name": "stderr",
     "output_type": "stream",
     "text": [
      "\r",
      " 54%|█████▍    | 27/50 [05:43<03:04,  8.02s/it]"
     ]
    },
    {
     "name": "stdout",
     "output_type": "stream",
     "text": [
      "SGD loss: tf.Tensor(0.0478034, shape=(), dtype=float32)\n",
      "SGD steps: 271\n"
     ]
    },
    {
     "name": "stderr",
     "output_type": "stream",
     "text": [
      "\r",
      " 56%|█████▌    | 28/50 [05:49<02:43,  7.44s/it]"
     ]
    },
    {
     "name": "stdout",
     "output_type": "stream",
     "text": [
      "SGD loss: tf.Tensor(0.04775586, shape=(), dtype=float32)\n",
      "SGD steps: 474\n"
     ]
    },
    {
     "name": "stderr",
     "output_type": "stream",
     "text": [
      "\r",
      " 58%|█████▊    | 29/50 [06:02<03:15,  9.31s/it]"
     ]
    },
    {
     "name": "stdout",
     "output_type": "stream",
     "text": [
      "SGD loss: tf.Tensor(0.047676943, shape=(), dtype=float32)\n",
      "SGD steps: 1130\n"
     ]
    },
    {
     "name": "stderr",
     "output_type": "stream",
     "text": [
      "\r",
      " 60%|██████    | 30/50 [06:10<02:56,  8.81s/it]"
     ]
    },
    {
     "name": "stdout",
     "output_type": "stream",
     "text": [
      "SGD loss: tf.Tensor(0.047369648, shape=(), dtype=float32)\n",
      "SGD steps: 612\n"
     ]
    },
    {
     "name": "stderr",
     "output_type": "stream",
     "text": [
      "\r",
      " 62%|██████▏   | 31/50 [06:17<02:38,  8.33s/it]"
     ]
    },
    {
     "name": "stdout",
     "output_type": "stream",
     "text": [
      "SGD loss: tf.Tensor(0.046751294, shape=(), dtype=float32)\n",
      "SGD steps: 572\n"
     ]
    },
    {
     "name": "stderr",
     "output_type": "stream",
     "text": [
      "\r",
      " 64%|██████▍   | 32/50 [06:28<02:40,  8.94s/it]"
     ]
    },
    {
     "name": "stdout",
     "output_type": "stream",
     "text": [
      "SGD loss: tf.Tensor(0.046556097, shape=(), dtype=float32)\n",
      "SGD steps: 748\n"
     ]
    },
    {
     "name": "stderr",
     "output_type": "stream",
     "text": [
      "\r",
      " 66%|██████▌   | 33/50 [06:55<04:05, 14.43s/it]"
     ]
    },
    {
     "name": "stdout",
     "output_type": "stream",
     "text": [
      "SGD loss: tf.Tensor(0.04607356, shape=(), dtype=float32)\n",
      "SGD steps: 2183\n"
     ]
    },
    {
     "name": "stderr",
     "output_type": "stream",
     "text": [
      "\r",
      " 68%|██████▊   | 34/50 [07:06<03:32, 13.31s/it]"
     ]
    },
    {
     "name": "stdout",
     "output_type": "stream",
     "text": [
      "SGD loss: tf.Tensor(0.045717873, shape=(), dtype=float32)\n",
      "SGD steps: 848\n"
     ]
    },
    {
     "name": "stderr",
     "output_type": "stream",
     "text": [
      "\r",
      " 70%|███████   | 35/50 [07:15<03:00, 12.06s/it]"
     ]
    },
    {
     "name": "stdout",
     "output_type": "stream",
     "text": [
      "SGD loss: tf.Tensor(0.045456685, shape=(), dtype=float32)\n",
      "SGD steps: 762\n"
     ]
    },
    {
     "name": "stderr",
     "output_type": "stream",
     "text": [
      "\r",
      " 72%|███████▏  | 36/50 [07:24<02:37, 11.24s/it]"
     ]
    },
    {
     "name": "stdout",
     "output_type": "stream",
     "text": [
      "SGD loss: tf.Tensor(0.045045946, shape=(), dtype=float32)\n",
      "SGD steps: 755\n"
     ]
    },
    {
     "name": "stderr",
     "output_type": "stream",
     "text": [
      "\r",
      " 74%|███████▍  | 37/50 [07:37<02:33, 11.78s/it]"
     ]
    },
    {
     "name": "stdout",
     "output_type": "stream",
     "text": [
      "SGD loss: tf.Tensor(0.044614747, shape=(), dtype=float32)\n",
      "SGD steps: 1052\n"
     ]
    },
    {
     "name": "stderr",
     "output_type": "stream",
     "text": [
      "\r",
      " 76%|███████▌  | 38/50 [08:00<03:01, 15.10s/it]"
     ]
    },
    {
     "name": "stdout",
     "output_type": "stream",
     "text": [
      "SGD loss: tf.Tensor(0.04365789, shape=(), dtype=float32)\n",
      "SGD steps: 1874\n"
     ]
    },
    {
     "name": "stderr",
     "output_type": "stream",
     "text": [
      "\r",
      " 78%|███████▊  | 39/50 [08:23<03:12, 17.54s/it]"
     ]
    },
    {
     "name": "stdout",
     "output_type": "stream",
     "text": [
      "SGD loss: tf.Tensor(0.042760883, shape=(), dtype=float32)\n",
      "SGD steps: 1998\n"
     ]
    },
    {
     "name": "stderr",
     "output_type": "stream",
     "text": [
      "\r",
      " 80%|████████  | 40/50 [08:33<02:31, 15.14s/it]"
     ]
    },
    {
     "name": "stdout",
     "output_type": "stream",
     "text": [
      "SGD loss: tf.Tensor(0.041901343, shape=(), dtype=float32)\n",
      "SGD steps: 813\n"
     ]
    },
    {
     "name": "stderr",
     "output_type": "stream",
     "text": [
      "\r",
      " 82%|████████▏ | 41/50 [08:48<02:16, 15.14s/it]"
     ]
    },
    {
     "name": "stdout",
     "output_type": "stream",
     "text": [
      "SGD loss: tf.Tensor(0.041064102, shape=(), dtype=float32)\n",
      "SGD steps: 1307\n"
     ]
    },
    {
     "name": "stderr",
     "output_type": "stream",
     "text": [
      "\r",
      " 84%|████████▍ | 42/50 [09:00<01:54, 14.34s/it]"
     ]
    },
    {
     "name": "stdout",
     "output_type": "stream",
     "text": [
      "SGD loss: tf.Tensor(0.04020826, shape=(), dtype=float32)\n",
      "SGD steps: 1048\n"
     ]
    },
    {
     "name": "stderr",
     "output_type": "stream",
     "text": [
      "\r",
      " 86%|████████▌ | 43/50 [09:21<01:53, 16.16s/it]"
     ]
    },
    {
     "name": "stdout",
     "output_type": "stream",
     "text": [
      "SGD loss: tf.Tensor(0.039226856, shape=(), dtype=float32)\n",
      "SGD steps: 1726\n"
     ]
    },
    {
     "name": "stderr",
     "output_type": "stream",
     "text": [
      "\r",
      " 88%|████████▊ | 44/50 [09:37<01:36, 16.07s/it]"
     ]
    },
    {
     "name": "stdout",
     "output_type": "stream",
     "text": [
      "SGD loss: tf.Tensor(0.038067043, shape=(), dtype=float32)\n",
      "SGD steps: 1266\n"
     ]
    },
    {
     "name": "stderr",
     "output_type": "stream",
     "text": [
      "\r",
      " 90%|█████████ | 45/50 [09:53<01:20, 16.12s/it]"
     ]
    },
    {
     "name": "stdout",
     "output_type": "stream",
     "text": [
      "SGD loss: tf.Tensor(0.03724463, shape=(), dtype=float32)\n",
      "SGD steps: 1349\n"
     ]
    },
    {
     "name": "stderr",
     "output_type": "stream",
     "text": [
      "\r",
      " 92%|█████████▏| 46/50 [10:13<01:09, 17.25s/it]"
     ]
    },
    {
     "name": "stdout",
     "output_type": "stream",
     "text": [
      "SGD loss: tf.Tensor(0.036183227, shape=(), dtype=float32)\n",
      "SGD steps: 1665\n"
     ]
    },
    {
     "name": "stderr",
     "output_type": "stream",
     "text": [
      "\r",
      " 94%|█████████▍| 47/50 [10:32<00:53, 17.82s/it]"
     ]
    },
    {
     "name": "stdout",
     "output_type": "stream",
     "text": [
      "SGD loss: tf.Tensor(0.035012025, shape=(), dtype=float32)\n",
      "SGD steps: 1489\n"
     ]
    },
    {
     "name": "stderr",
     "output_type": "stream",
     "text": [
      "\r",
      " 96%|█████████▌| 48/50 [10:56<00:39, 19.77s/it]"
     ]
    },
    {
     "name": "stdout",
     "output_type": "stream",
     "text": [
      "SGD loss: tf.Tensor(0.033624645, shape=(), dtype=float32)\n",
      "SGD steps: 1949\n"
     ]
    },
    {
     "name": "stderr",
     "output_type": "stream",
     "text": [
      "\r",
      " 98%|█████████▊| 49/50 [11:08<00:17, 17.43s/it]"
     ]
    },
    {
     "name": "stdout",
     "output_type": "stream",
     "text": [
      "SGD loss: tf.Tensor(0.03171212, shape=(), dtype=float32)\n",
      "SGD steps: 985\n"
     ]
    },
    {
     "name": "stderr",
     "output_type": "stream",
     "text": [
      "100%|██████████| 50/50 [11:27<00:00, 13.75s/it]"
     ]
    },
    {
     "name": "stdout",
     "output_type": "stream",
     "text": [
      "SGD loss: tf.Tensor(0.030328289, shape=(), dtype=float32)\n",
      "SGD steps: 1604\n",
      "Rank_time: 29.96768307685852\n",
      "Model_time: 656.5517866611481\n"
     ]
    },
    {
     "name": "stderr",
     "output_type": "stream",
     "text": [
      "\n"
     ]
    },
    {
     "data": {
      "text/html": [
       "\n",
       "<div id=\"altair-viz-c5c07d6c9a25409bb3efd0653f33ca2a\"></div>\n",
       "<script type=\"text/javascript\">\n",
       "  (function(spec, embedOpt){\n",
       "    let outputDiv = document.currentScript.previousElementSibling;\n",
       "    if (outputDiv.id !== \"altair-viz-c5c07d6c9a25409bb3efd0653f33ca2a\") {\n",
       "      outputDiv = document.getElementById(\"altair-viz-c5c07d6c9a25409bb3efd0653f33ca2a\");\n",
       "    }\n",
       "    const paths = {\n",
       "      \"vega\": \"https://cdn.jsdelivr.net/npm//vega@5?noext\",\n",
       "      \"vega-lib\": \"https://cdn.jsdelivr.net/npm//vega-lib?noext\",\n",
       "      \"vega-lite\": \"https://cdn.jsdelivr.net/npm//vega-lite@4.8.1?noext\",\n",
       "      \"vega-embed\": \"https://cdn.jsdelivr.net/npm//vega-embed@6?noext\",\n",
       "    };\n",
       "\n",
       "    function loadScript(lib) {\n",
       "      return new Promise(function(resolve, reject) {\n",
       "        var s = document.createElement('script');\n",
       "        s.src = paths[lib];\n",
       "        s.async = true;\n",
       "        s.onload = () => resolve(paths[lib]);\n",
       "        s.onerror = () => reject(`Error loading script: ${paths[lib]}`);\n",
       "        document.getElementsByTagName(\"head\")[0].appendChild(s);\n",
       "      });\n",
       "    }\n",
       "\n",
       "    function showError(err) {\n",
       "      outputDiv.innerHTML = `<div class=\"error\" style=\"color:red;\">${err}</div>`;\n",
       "      throw err;\n",
       "    }\n",
       "\n",
       "    function displayChart(vegaEmbed) {\n",
       "      vegaEmbed(outputDiv, spec, embedOpt)\n",
       "        .catch(err => showError(`Javascript Error: ${err.message}<br>This usually means there's a typo in your chart specification. See the javascript console for the full traceback.`));\n",
       "    }\n",
       "\n",
       "    if(typeof define === \"function\" && define.amd) {\n",
       "      requirejs.config({paths});\n",
       "      require([\"vega-embed\"], displayChart, err => showError(`Error loading script: ${err.message}`));\n",
       "    } else if (typeof vegaEmbed === \"function\") {\n",
       "      displayChart(vegaEmbed);\n",
       "    } else {\n",
       "      loadScript(\"vega\")\n",
       "        .then(() => loadScript(\"vega-lite\"))\n",
       "        .then(() => loadScript(\"vega-embed\"))\n",
       "        .catch(showError)\n",
       "        .then(() => displayChart(vegaEmbed));\n",
       "    }\n",
       "  })({\"config\": {\"view\": {\"continuousWidth\": 400, \"continuousHeight\": 300}}, \"data\": {\"name\": \"data-1f0b478da8f754781c977ed3ccffdf96\"}, \"mark\": \"line\", \"encoding\": {\"color\": {\"type\": \"nominal\", \"field\": \"Method\"}, \"x\": {\"type\": \"quantitative\", \"axis\": {\"grid\": false, \"tickCount\": 51}, \"field\": \"K\"}, \"y\": {\"type\": \"quantitative\", \"field\": \"Complain\"}}, \"$schema\": \"https://vega.github.io/schema/vega-lite/v4.8.1.json\", \"datasets\": {\"data-1f0b478da8f754781c977ed3ccffdf96\": [{\"Complain\": 0.11759814620018005, \"Impact\": 0.20434572297179915, \"F1\": 0.7679409611909416, \"K\": 0, \"Method\": \"Rain\", \"Test_impact\": 0.05467614386493659}, {\"Complain\": 0.1175975501537323, \"Impact\": 0.19978469800843537, \"F1\": 0.7679409611909416, \"K\": 100, \"Method\": \"Rain\", \"Test_impact\": 0.10778997627881516}, {\"Complain\": 0.11759623885154724, \"Impact\": 0.19509007463547956, \"F1\": 0.7679409611909416, \"K\": 200, \"Method\": \"Rain\", \"Test_impact\": 0.10778997627881516}, {\"Complain\": 0.11758172512054443, \"Impact\": 0.19053973763790444, \"F1\": 0.7679409611909416, \"K\": 300, \"Method\": \"Rain\", \"Test_impact\": 0.10778997627881516}, {\"Complain\": 0.11644496023654938, \"Impact\": 0.1856170507900632, \"F1\": 0.7533273644076142, \"K\": 400, \"Method\": \"Rain\", \"Test_impact\": 0.08218022018125418}, {\"Complain\": 0.11358390748500824, \"Impact\": 0.18062510348709937, \"F1\": 0.7503127826946488, \"K\": 500, \"Method\": \"Rain\", \"Test_impact\": 0.07608265920564443}, {\"Complain\": 0.10978898406028748, \"Impact\": 0.17570857109800203, \"F1\": 0.7423508531911642, \"K\": 600, \"Method\": \"Rain\", \"Test_impact\": 0.06937534213247369}, {\"Complain\": 0.10674205422401428, \"Impact\": 0.17128215128786195, \"F1\": 0.7459925428682977, \"K\": 700, \"Method\": \"Rain\", \"Test_impact\": 0.07242412262027857}, {\"Complain\": 0.10357850790023804, \"Impact\": 0.1660905359092239, \"F1\": 0.7411846874275978, \"K\": 800, \"Method\": \"Rain\", \"Test_impact\": 0.06754607383979076}, {\"Complain\": 0.09957441687583923, \"Impact\": 0.1612085931188889, \"F1\": 0.7404479359546281, \"K\": 900, \"Method\": \"Rain\", \"Test_impact\": 0.06507967885165135}, {\"Complain\": 0.09683966636657715, \"Impact\": 0.1558730131901997, \"F1\": 0.7404479359546281, \"K\": 1000, \"Method\": \"Rain\", \"Test_impact\": 0.06507967885165135}, {\"Complain\": 0.09462638199329376, \"Impact\": 0.15177191375159493, \"F1\": 0.7404479359546281, \"K\": 1100, \"Method\": \"Rain\", \"Test_impact\": 0.06507967885165135}, {\"Complain\": 0.09024760127067566, \"Impact\": 0.14674825501879185, \"F1\": 0.7470229990838422, \"K\": 1200, \"Method\": \"Rain\", \"Test_impact\": 0.07056748372970013}, {\"Complain\": 0.08750084042549133, \"Impact\": 0.14133217777741558, \"F1\": 0.7470229990838422, \"K\": 1300, \"Method\": \"Rain\", \"Test_impact\": 0.07056748372970013}, {\"Complain\": 0.08405371010303497, \"Impact\": 0.13588010099154268, \"F1\": 0.7441161281640273, \"K\": 1400, \"Method\": \"Rain\", \"Test_impact\": 0.06812845933945623}, {\"Complain\": 0.08184102177619934, \"Impact\": 0.13017954999271475, \"F1\": 0.7441161281640273, \"K\": 1500, \"Method\": \"Rain\", \"Test_impact\": 0.06812845933945623}, {\"Complain\": 0.07992370426654816, \"Impact\": 0.12439262046522813, \"F1\": 0.7429563417129175, \"K\": 1600, \"Method\": \"Rain\", \"Test_impact\": 0.0662991910467733}, {\"Complain\": 0.07706452906131744, \"Impact\": 0.11851733412382463, \"F1\": 0.7429563417129175, \"K\": 1700, \"Method\": \"Rain\", \"Test_impact\": 0.0662991910467733}, {\"Complain\": 0.07493965327739716, \"Impact\": 0.11255165180824768, \"F1\": 0.7347918147320915, \"K\": 1800, \"Method\": \"Rain\", \"Test_impact\": 0.059591873973602584}, {\"Complain\": 0.07263107597827911, \"Impact\": 0.1064934711235634, \"F1\": 0.716830420489307, \"K\": 1900, \"Method\": \"Rain\", \"Test_impact\": 0.04373821543701721}, {\"Complain\": 0.07027602195739746, \"Impact\": 0.10076525567615081, \"F1\": 0.7090477940737743, \"K\": 2000, \"Method\": \"Rain\", \"Test_impact\": 0.03459187397360258}, {\"Complain\": 0.06824740767478943, \"Impact\": 0.09676942197230685, \"F1\": 0.7082281336098397, \"K\": 2100, \"Method\": \"Rain\", \"Test_impact\": 0.033982117876041606}, {\"Complain\": 0.0651349276304245, \"Impact\": 0.09110468940200388, \"F1\": 0.7028918691054924, \"K\": 2200, \"Method\": \"Rain\", \"Test_impact\": 0.026055288607748923}, {\"Complain\": 0.0625162422657013, \"Impact\": 0.08600025717390095, \"F1\": 0.699508475649562, \"K\": 2300, \"Method\": \"Rain\", \"Test_impact\": 0.02361626421750502}, {\"Complain\": 0.06204064190387726, \"Impact\": 0.0833440455245744, \"F1\": 0.699508475649562, \"K\": 2400, \"Method\": \"Rain\", \"Test_impact\": 0.02361626421750502}, {\"Complain\": 0.05841909348964691, \"Impact\": 0.07889448237071109, \"F1\": 0.695231450433409, \"K\": 2500, \"Method\": \"Rain\", \"Test_impact\": 0.0298506781825923}, {\"Complain\": 0.0582699179649353, \"Impact\": 0.07696180657665641, \"F1\": 0.695231450433409, \"K\": 2600, \"Method\": \"Rain\", \"Test_impact\": 0.0298506781825923}, {\"Complain\": 0.057746246457099915, \"Impact\": 0.07406424260620763, \"F1\": 0.6935055023432577, \"K\": 2700, \"Method\": \"Rain\", \"Test_impact\": 0.02863116598747035}, {\"Complain\": 0.056856051087379456, \"Impact\": 0.0721035079320923, \"F1\": 0.6978040997787118, \"K\": 2800, \"Method\": \"Rain\", \"Test_impact\": 0.022396752022383067}, {\"Complain\": 0.05484879016876221, \"Impact\": 0.07033729517182369, \"F1\": 0.6978040997787118, \"K\": 2900, \"Method\": \"Rain\", \"Test_impact\": 0.022396752022383067}, {\"Complain\": 0.0537150502204895, \"Impact\": 0.06737852832251282, \"F1\": 0.6978040997787118, \"K\": 3000, \"Method\": \"Rain\", \"Test_impact\": 0.022396752022383067}, {\"Complain\": 0.05259163677692413, \"Impact\": 0.0628037133095253, \"F1\": 0.6944952544295728, \"K\": 3100, \"Method\": \"Rain\", \"Test_impact\": 0.016908947144334288}, {\"Complain\": 0.05117394030094147, \"Impact\": 0.05967857717782876, \"F1\": 0.6944952544295728, \"K\": 3200, \"Method\": \"Rain\", \"Test_impact\": 0.016908947144334288}, {\"Complain\": 0.04742208123207092, \"Impact\": 0.05613157042930944, \"F1\": 0.6944952544295728, \"K\": 3300, \"Method\": \"Rain\", \"Test_impact\": 0.016908947144334288}, {\"Complain\": 0.046038299798965454, \"Impact\": 0.05235415217607313, \"F1\": 0.6944952544295728, \"K\": 3400, \"Method\": \"Rain\", \"Test_impact\": 0.016908947144334288}, {\"Complain\": 0.044803470373153687, \"Impact\": 0.04836062644725428, \"F1\": 0.6944952544295728, \"K\": 3500, \"Method\": \"Rain\", \"Test_impact\": 0.016908947144334288}, {\"Complain\": 0.04363511502742767, \"Impact\": 0.044649587992008855, \"F1\": 0.6944952544295728, \"K\": 3600, \"Method\": \"Rain\", \"Test_impact\": 0.016908947144334288}, {\"Complain\": 0.042047515511512756, \"Impact\": 0.040026838197286446, \"F1\": 0.6944952544295728, \"K\": 3700, \"Method\": \"Rain\", \"Test_impact\": 0.016908947144334288}, {\"Complain\": 0.03943973779678345, \"Impact\": 0.03314063566188112, \"F1\": 0.6928540680663284, \"K\": 3800, \"Method\": \"Rain\", \"Test_impact\": 0.012640654461407459}, {\"Complain\": 0.03680087625980377, \"Impact\": 0.026089872408429624, \"F1\": 0.6919722605016995, \"K\": 3900, \"Method\": \"Rain\", \"Test_impact\": 0.012030898363846482}, {\"Complain\": 0.03570908308029175, \"Impact\": 0.018920139050305, \"F1\": 0.690201738331758, \"K\": 4000, \"Method\": \"Rain\", \"Test_impact\": 0.01081138616872453}, {\"Complain\": 0.033890172839164734, \"Impact\": 0.011894557675652895, \"F1\": 0.690201738331758, \"K\": 4100, \"Method\": \"Rain\", \"Test_impact\": 0.01081138616872453}, {\"Complain\": 0.032458141446113586, \"Impact\": 0.004484003242745033, \"F1\": 0.6875285108939287, \"K\": 4200, \"Method\": \"Rain\", \"Test_impact\": 0.008982117876041605}, {\"Complain\": 0.030114755034446716, \"Impact\": 0.0030547836600176292, \"F1\": 0.6821180684078918, \"K\": 4300, \"Method\": \"Rain\", \"Test_impact\": 0.012750136852989476}, {\"Complain\": 0.028462573885917664, \"Impact\": 0.010725160489517271, \"F1\": 0.6805232196056654, \"K\": 4400, \"Method\": \"Rain\", \"Test_impact\": 0.010920868560306551}, {\"Complain\": 0.02676357328891754, \"Impact\": 0.01853060294376599, \"F1\": 0.674275589949908, \"K\": 4500, \"Method\": \"Rain\", \"Test_impact\": 0.007899458670397177}, {\"Complain\": 0.024718135595321655, \"Impact\": 0.026474710213332683, \"F1\": 0.674275589949908, \"K\": 4600, \"Method\": \"Rain\", \"Test_impact\": 0.007899458670397177}, {\"Complain\": 0.023001685738563538, \"Impact\": 0.034561210515155455, \"F1\": 0.6634875292169861, \"K\": 4700, \"Method\": \"Rain\", \"Test_impact\": 0.0012468827930174563}, {\"Complain\": 0.020794644951820374, \"Impact\": 0.04279396692661511, \"F1\": 0.6634875292169861, \"K\": 4800, \"Method\": \"Rain\", \"Test_impact\": 0.0012468827930174563}, {\"Complain\": 0.019711986184120178, \"Impact\": 0.028245511885684, \"F1\": 0.6634875292169861, \"K\": 4900, \"Method\": \"Rain\", \"Test_impact\": 0.0012468827930174563}, {\"Complain\": 0.017521768808364868, \"Impact\": 0.03662852849811936, \"F1\": 0.6634875292169861, \"K\": 5000, \"Method\": \"Rain\", \"Test_impact\": 0.0012468827930174563}]}}, {\"mode\": \"vega-lite\"});\n",
       "</script>"
      ],
      "text/plain": [
       "alt.Chart(...)"
      ]
     },
     "execution_count": 15,
     "metadata": {},
     "output_type": "execute_result"
    }
   ],
   "source": [
    "K=5000\n",
    "manager_test = ModelManagerTest(proc.x_a_train, proc.x_b_train, proc.y_train, LinearCombTest(1), 256)\n",
    "manager_test.model.set_weights(manager_test0.model.get_weights())\n",
    "manager_test.delta = tf.Variable(manager_test0.delta.value(), name=\"delta\")\n",
    "ranker = InfluenceRanker(manager=manager_test, on=proc.test_complain)\n",
    "fixer = AutoFixer(manager_test, proc.corrsel, K)\n",
    "\n",
    "impacts = []\n",
    "test_impacts = []\n",
    "AQs = []\n",
    "weighted_f1 = []\n",
    "rank_list = []\n",
    "rank_time_rain = 0\n",
    "model_time_rain = 0\n",
    "\n",
    "AQ = proc.test_complain(manager_test).AQ\n",
    "f1 = f1_score(proc.y_test.numpy(), manager_test.model.predict(proc.x_a_test, proc.x_b_test).numpy(), average='weighted')\n",
    "# f1 = f1_score(proc.y_query.numpy(), manager_test.model.predict(proc.x_a_query, proc.x_b_query).numpy(), average='weighted')\n",
    "x_a, _, y = manager_test.get_remaining()\n",
    "male_ids = (x_a[:, 0] == 1).numpy()\n",
    "female_ids = (x_a[:, 0] == 0).numpy()\n",
    "one_ids = (y == 1).numpy()\n",
    "zero_ids = (y == 0).numpy()\n",
    "\n",
    "male_impact = (male_ids[:] & one_ids[:]).sum() / male_ids.sum()\n",
    "female_impact = (female_ids[:] & one_ids[:]).sum() / female_ids.sum()\n",
    "AQs.append(float(AQ))\n",
    "weighted_f1.append(f1)\n",
    "impacts.append(abs(female_impact - male_impact))\n",
    "\n",
    "y = tf.squeeze(manager_test.model(proc.x_a_test, proc.x_b_test))\n",
    "male_ids = (proc.x_a_test[:, 0] == 1).numpy()\n",
    "female_ids = (proc.x_a_test[:, 0] == 0).numpy()\n",
    "one_ids = (y >= 0.5).numpy()\n",
    "zero_ids = (y < 0.5).numpy()\n",
    "\n",
    "male_impact = (male_ids[:] & one_ids[:]).sum() / male_ids.sum()\n",
    "female_impact = (female_ids[:] & one_ids[:]).sum() / female_ids.sum()\n",
    "test_impacts.append(abs(female_impact / male_impact))\n",
    "\n",
    "step_size = 100\n",
    "rain_k = int(np.ceil(K / step_size))\n",
    "for k in trange(0, rain_k):\n",
    "    nfix = min(step_size, K - step_size * k)\n",
    "    assert nfix > 0\n",
    "\n",
    "    start = time.time()\n",
    "    rank = rank_fix(ranker, fixer, nfix)\n",
    "    middle = time.time()\n",
    "    # tol=1e-7, lr=0.5\n",
    "    manager_test.fit(max_iter=10000, tol=1e-7, lr=0.02, print_value=True)\n",
    "    end = time.time()\n",
    "    \n",
    "    rank_list.append(rank.numpy())\n",
    "    rank_time_rain += middle - start\n",
    "    model_time_rain += end - middle\n",
    "    \n",
    "    x_a, _, y = manager_test.get_remaining()\n",
    "    male_ids = (x_a[:, 0] == 1).numpy()\n",
    "    female_ids = (x_a[:, 0] == 0).numpy()\n",
    "    one_ids = (y == 1).numpy()\n",
    "    zero_ids = (y == 0).numpy()\n",
    "\n",
    "    male_impact = (male_ids[:] & one_ids[:]).sum() / male_ids.sum()\n",
    "    female_impact = (female_ids[:] & one_ids[:]).sum() / female_ids.sum()\n",
    "    impact = abs(female_impact - male_impact)\n",
    "\n",
    "    AQ = proc.test_complain(manager_test).AQ\n",
    "    f1 = f1_score(proc.y_test.numpy(), manager_test.model.predict(proc.x_a_test, proc.x_b_test).numpy(), average='weighted')\n",
    "#     f1 = f1_score(proc.y_query.numpy(), manager_test.model.predict(proc.x_a_query, proc.x_b_query).numpy(), average='weighted')\n",
    "    impacts.append(impact)\n",
    "    AQs.append(float(AQ))\n",
    "    weighted_f1.append(f1)\n",
    "    \n",
    "    y = tf.squeeze(manager_test.model(proc.x_a_test, proc.x_b_test))\n",
    "    male_ids = (proc.x_a_test[:, 0] == 1).numpy()\n",
    "    female_ids = (proc.x_a_test[:, 0] == 0).numpy()\n",
    "    one_ids = (y >= 0.5).numpy()\n",
    "    zero_ids = (y < 0.5).numpy()\n",
    "\n",
    "    male_impact = (male_ids[:] & one_ids[:]).sum() / male_ids.sum()\n",
    "    female_impact = (female_ids[:] & one_ids[:]).sum() / female_ids.sum()\n",
    "    test_impacts.append(abs(female_impact - male_impact))\n",
    "    \n",
    "\n",
    "print(\"Rank_time:\", rank_time_rain)\n",
    "print(\"Model_time:\", model_time_rain)\n",
    "AC = proc.test_complain(manager_test).AC\n",
    "\n",
    "df_rain_test = pd.DataFrame({\n",
    "    \"Complain\": np.array(AQs) - AC,\n",
    "    \"Impact\": np.array(impacts),\n",
    "    \"F1\": np.array(weighted_f1),\n",
    "    \"K\": list(range(0, K, step_size)) + [K],\n",
    "    \"Method\": np.repeat(\"Rain\", len(AQs)),\n",
    "    \"Test_impact\": np.array(test_impacts),\n",
    "})\n",
    "alt.Chart(pd.concat([df_rain_test])).mark_line().encode(\n",
    "    alt.X('K:Q', axis=alt.Axis(tickCount=df_rain_test.shape[0], grid=False)),\n",
    "    alt.Y(\"Complain:Q\"),\n",
    "    color = \"Method\"\n",
    ")"
   ]
  },
  {
   "cell_type": "code",
   "execution_count": 18,
   "metadata": {},
   "outputs": [
    {
     "data": {
      "text/html": [
       "\n",
       "<div id=\"altair-viz-e483c91c845a40a7a66eb1a46d9b4b8e\"></div>\n",
       "<script type=\"text/javascript\">\n",
       "  (function(spec, embedOpt){\n",
       "    let outputDiv = document.currentScript.previousElementSibling;\n",
       "    if (outputDiv.id !== \"altair-viz-e483c91c845a40a7a66eb1a46d9b4b8e\") {\n",
       "      outputDiv = document.getElementById(\"altair-viz-e483c91c845a40a7a66eb1a46d9b4b8e\");\n",
       "    }\n",
       "    const paths = {\n",
       "      \"vega\": \"https://cdn.jsdelivr.net/npm//vega@5?noext\",\n",
       "      \"vega-lib\": \"https://cdn.jsdelivr.net/npm//vega-lib?noext\",\n",
       "      \"vega-lite\": \"https://cdn.jsdelivr.net/npm//vega-lite@4.8.1?noext\",\n",
       "      \"vega-embed\": \"https://cdn.jsdelivr.net/npm//vega-embed@6?noext\",\n",
       "    };\n",
       "\n",
       "    function loadScript(lib) {\n",
       "      return new Promise(function(resolve, reject) {\n",
       "        var s = document.createElement('script');\n",
       "        s.src = paths[lib];\n",
       "        s.async = true;\n",
       "        s.onload = () => resolve(paths[lib]);\n",
       "        s.onerror = () => reject(`Error loading script: ${paths[lib]}`);\n",
       "        document.getElementsByTagName(\"head\")[0].appendChild(s);\n",
       "      });\n",
       "    }\n",
       "\n",
       "    function showError(err) {\n",
       "      outputDiv.innerHTML = `<div class=\"error\" style=\"color:red;\">${err}</div>`;\n",
       "      throw err;\n",
       "    }\n",
       "\n",
       "    function displayChart(vegaEmbed) {\n",
       "      vegaEmbed(outputDiv, spec, embedOpt)\n",
       "        .catch(err => showError(`Javascript Error: ${err.message}<br>This usually means there's a typo in your chart specification. See the javascript console for the full traceback.`));\n",
       "    }\n",
       "\n",
       "    if(typeof define === \"function\" && define.amd) {\n",
       "      requirejs.config({paths});\n",
       "      require([\"vega-embed\"], displayChart, err => showError(`Error loading script: ${err.message}`));\n",
       "    } else if (typeof vegaEmbed === \"function\") {\n",
       "      displayChart(vegaEmbed);\n",
       "    } else {\n",
       "      loadScript(\"vega\")\n",
       "        .then(() => loadScript(\"vega-lite\"))\n",
       "        .then(() => loadScript(\"vega-embed\"))\n",
       "        .catch(showError)\n",
       "        .then(() => displayChart(vegaEmbed));\n",
       "    }\n",
       "  })({\"config\": {\"view\": {\"continuousWidth\": 400, \"continuousHeight\": 300}}, \"data\": {\"name\": \"data-1f0b478da8f754781c977ed3ccffdf96\"}, \"mark\": \"line\", \"encoding\": {\"color\": {\"type\": \"nominal\", \"field\": \"Method\"}, \"x\": {\"type\": \"quantitative\", \"axis\": {\"grid\": false, \"tickCount\": 51}, \"field\": \"K\"}, \"y\": {\"type\": \"quantitative\", \"field\": \"F1\"}}, \"$schema\": \"https://vega.github.io/schema/vega-lite/v4.8.1.json\", \"datasets\": {\"data-1f0b478da8f754781c977ed3ccffdf96\": [{\"Complain\": 0.11759814620018005, \"Impact\": 0.20434572297179915, \"F1\": 0.7679409611909416, \"K\": 0, \"Method\": \"Rain\", \"Test_impact\": 0.05467614386493659}, {\"Complain\": 0.1175975501537323, \"Impact\": 0.19978469800843537, \"F1\": 0.7679409611909416, \"K\": 100, \"Method\": \"Rain\", \"Test_impact\": 0.10778997627881516}, {\"Complain\": 0.11759623885154724, \"Impact\": 0.19509007463547956, \"F1\": 0.7679409611909416, \"K\": 200, \"Method\": \"Rain\", \"Test_impact\": 0.10778997627881516}, {\"Complain\": 0.11758172512054443, \"Impact\": 0.19053973763790444, \"F1\": 0.7679409611909416, \"K\": 300, \"Method\": \"Rain\", \"Test_impact\": 0.10778997627881516}, {\"Complain\": 0.11644496023654938, \"Impact\": 0.1856170507900632, \"F1\": 0.7533273644076142, \"K\": 400, \"Method\": \"Rain\", \"Test_impact\": 0.08218022018125418}, {\"Complain\": 0.11358390748500824, \"Impact\": 0.18062510348709937, \"F1\": 0.7503127826946488, \"K\": 500, \"Method\": \"Rain\", \"Test_impact\": 0.07608265920564443}, {\"Complain\": 0.10978898406028748, \"Impact\": 0.17570857109800203, \"F1\": 0.7423508531911642, \"K\": 600, \"Method\": \"Rain\", \"Test_impact\": 0.06937534213247369}, {\"Complain\": 0.10674205422401428, \"Impact\": 0.17128215128786195, \"F1\": 0.7459925428682977, \"K\": 700, \"Method\": \"Rain\", \"Test_impact\": 0.07242412262027857}, {\"Complain\": 0.10357850790023804, \"Impact\": 0.1660905359092239, \"F1\": 0.7411846874275978, \"K\": 800, \"Method\": \"Rain\", \"Test_impact\": 0.06754607383979076}, {\"Complain\": 0.09957441687583923, \"Impact\": 0.1612085931188889, \"F1\": 0.7404479359546281, \"K\": 900, \"Method\": \"Rain\", \"Test_impact\": 0.06507967885165135}, {\"Complain\": 0.09683966636657715, \"Impact\": 0.1558730131901997, \"F1\": 0.7404479359546281, \"K\": 1000, \"Method\": \"Rain\", \"Test_impact\": 0.06507967885165135}, {\"Complain\": 0.09462638199329376, \"Impact\": 0.15177191375159493, \"F1\": 0.7404479359546281, \"K\": 1100, \"Method\": \"Rain\", \"Test_impact\": 0.06507967885165135}, {\"Complain\": 0.09024760127067566, \"Impact\": 0.14674825501879185, \"F1\": 0.7470229990838422, \"K\": 1200, \"Method\": \"Rain\", \"Test_impact\": 0.07056748372970013}, {\"Complain\": 0.08750084042549133, \"Impact\": 0.14133217777741558, \"F1\": 0.7470229990838422, \"K\": 1300, \"Method\": \"Rain\", \"Test_impact\": 0.07056748372970013}, {\"Complain\": 0.08405371010303497, \"Impact\": 0.13588010099154268, \"F1\": 0.7441161281640273, \"K\": 1400, \"Method\": \"Rain\", \"Test_impact\": 0.06812845933945623}, {\"Complain\": 0.08184102177619934, \"Impact\": 0.13017954999271475, \"F1\": 0.7441161281640273, \"K\": 1500, \"Method\": \"Rain\", \"Test_impact\": 0.06812845933945623}, {\"Complain\": 0.07992370426654816, \"Impact\": 0.12439262046522813, \"F1\": 0.7429563417129175, \"K\": 1600, \"Method\": \"Rain\", \"Test_impact\": 0.0662991910467733}, {\"Complain\": 0.07706452906131744, \"Impact\": 0.11851733412382463, \"F1\": 0.7429563417129175, \"K\": 1700, \"Method\": \"Rain\", \"Test_impact\": 0.0662991910467733}, {\"Complain\": 0.07493965327739716, \"Impact\": 0.11255165180824768, \"F1\": 0.7347918147320915, \"K\": 1800, \"Method\": \"Rain\", \"Test_impact\": 0.059591873973602584}, {\"Complain\": 0.07263107597827911, \"Impact\": 0.1064934711235634, \"F1\": 0.716830420489307, \"K\": 1900, \"Method\": \"Rain\", \"Test_impact\": 0.04373821543701721}, {\"Complain\": 0.07027602195739746, \"Impact\": 0.10076525567615081, \"F1\": 0.7090477940737743, \"K\": 2000, \"Method\": \"Rain\", \"Test_impact\": 0.03459187397360258}, {\"Complain\": 0.06824740767478943, \"Impact\": 0.09676942197230685, \"F1\": 0.7082281336098397, \"K\": 2100, \"Method\": \"Rain\", \"Test_impact\": 0.033982117876041606}, {\"Complain\": 0.0651349276304245, \"Impact\": 0.09110468940200388, \"F1\": 0.7028918691054924, \"K\": 2200, \"Method\": \"Rain\", \"Test_impact\": 0.026055288607748923}, {\"Complain\": 0.0625162422657013, \"Impact\": 0.08600025717390095, \"F1\": 0.699508475649562, \"K\": 2300, \"Method\": \"Rain\", \"Test_impact\": 0.02361626421750502}, {\"Complain\": 0.06204064190387726, \"Impact\": 0.0833440455245744, \"F1\": 0.699508475649562, \"K\": 2400, \"Method\": \"Rain\", \"Test_impact\": 0.02361626421750502}, {\"Complain\": 0.05841909348964691, \"Impact\": 0.07889448237071109, \"F1\": 0.695231450433409, \"K\": 2500, \"Method\": \"Rain\", \"Test_impact\": 0.0298506781825923}, {\"Complain\": 0.0582699179649353, \"Impact\": 0.07696180657665641, \"F1\": 0.695231450433409, \"K\": 2600, \"Method\": \"Rain\", \"Test_impact\": 0.0298506781825923}, {\"Complain\": 0.057746246457099915, \"Impact\": 0.07406424260620763, \"F1\": 0.6935055023432577, \"K\": 2700, \"Method\": \"Rain\", \"Test_impact\": 0.02863116598747035}, {\"Complain\": 0.056856051087379456, \"Impact\": 0.0721035079320923, \"F1\": 0.6978040997787118, \"K\": 2800, \"Method\": \"Rain\", \"Test_impact\": 0.022396752022383067}, {\"Complain\": 0.05484879016876221, \"Impact\": 0.07033729517182369, \"F1\": 0.6978040997787118, \"K\": 2900, \"Method\": \"Rain\", \"Test_impact\": 0.022396752022383067}, {\"Complain\": 0.0537150502204895, \"Impact\": 0.06737852832251282, \"F1\": 0.6978040997787118, \"K\": 3000, \"Method\": \"Rain\", \"Test_impact\": 0.022396752022383067}, {\"Complain\": 0.05259163677692413, \"Impact\": 0.0628037133095253, \"F1\": 0.6944952544295728, \"K\": 3100, \"Method\": \"Rain\", \"Test_impact\": 0.016908947144334288}, {\"Complain\": 0.05117394030094147, \"Impact\": 0.05967857717782876, \"F1\": 0.6944952544295728, \"K\": 3200, \"Method\": \"Rain\", \"Test_impact\": 0.016908947144334288}, {\"Complain\": 0.04742208123207092, \"Impact\": 0.05613157042930944, \"F1\": 0.6944952544295728, \"K\": 3300, \"Method\": \"Rain\", \"Test_impact\": 0.016908947144334288}, {\"Complain\": 0.046038299798965454, \"Impact\": 0.05235415217607313, \"F1\": 0.6944952544295728, \"K\": 3400, \"Method\": \"Rain\", \"Test_impact\": 0.016908947144334288}, {\"Complain\": 0.044803470373153687, \"Impact\": 0.04836062644725428, \"F1\": 0.6944952544295728, \"K\": 3500, \"Method\": \"Rain\", \"Test_impact\": 0.016908947144334288}, {\"Complain\": 0.04363511502742767, \"Impact\": 0.044649587992008855, \"F1\": 0.6944952544295728, \"K\": 3600, \"Method\": \"Rain\", \"Test_impact\": 0.016908947144334288}, {\"Complain\": 0.042047515511512756, \"Impact\": 0.040026838197286446, \"F1\": 0.6944952544295728, \"K\": 3700, \"Method\": \"Rain\", \"Test_impact\": 0.016908947144334288}, {\"Complain\": 0.03943973779678345, \"Impact\": 0.03314063566188112, \"F1\": 0.6928540680663284, \"K\": 3800, \"Method\": \"Rain\", \"Test_impact\": 0.012640654461407459}, {\"Complain\": 0.03680087625980377, \"Impact\": 0.026089872408429624, \"F1\": 0.6919722605016995, \"K\": 3900, \"Method\": \"Rain\", \"Test_impact\": 0.012030898363846482}, {\"Complain\": 0.03570908308029175, \"Impact\": 0.018920139050305, \"F1\": 0.690201738331758, \"K\": 4000, \"Method\": \"Rain\", \"Test_impact\": 0.01081138616872453}, {\"Complain\": 0.033890172839164734, \"Impact\": 0.011894557675652895, \"F1\": 0.690201738331758, \"K\": 4100, \"Method\": \"Rain\", \"Test_impact\": 0.01081138616872453}, {\"Complain\": 0.032458141446113586, \"Impact\": 0.004484003242745033, \"F1\": 0.6875285108939287, \"K\": 4200, \"Method\": \"Rain\", \"Test_impact\": 0.008982117876041605}, {\"Complain\": 0.030114755034446716, \"Impact\": 0.0030547836600176292, \"F1\": 0.6821180684078918, \"K\": 4300, \"Method\": \"Rain\", \"Test_impact\": 0.012750136852989476}, {\"Complain\": 0.028462573885917664, \"Impact\": 0.010725160489517271, \"F1\": 0.6805232196056654, \"K\": 4400, \"Method\": \"Rain\", \"Test_impact\": 0.010920868560306551}, {\"Complain\": 0.02676357328891754, \"Impact\": 0.01853060294376599, \"F1\": 0.674275589949908, \"K\": 4500, \"Method\": \"Rain\", \"Test_impact\": 0.007899458670397177}, {\"Complain\": 0.024718135595321655, \"Impact\": 0.026474710213332683, \"F1\": 0.674275589949908, \"K\": 4600, \"Method\": \"Rain\", \"Test_impact\": 0.007899458670397177}, {\"Complain\": 0.023001685738563538, \"Impact\": 0.034561210515155455, \"F1\": 0.6634875292169861, \"K\": 4700, \"Method\": \"Rain\", \"Test_impact\": 0.0012468827930174563}, {\"Complain\": 0.020794644951820374, \"Impact\": 0.04279396692661511, \"F1\": 0.6634875292169861, \"K\": 4800, \"Method\": \"Rain\", \"Test_impact\": 0.0012468827930174563}, {\"Complain\": 0.019711986184120178, \"Impact\": 0.028245511885684, \"F1\": 0.6634875292169861, \"K\": 4900, \"Method\": \"Rain\", \"Test_impact\": 0.0012468827930174563}, {\"Complain\": 0.017521768808364868, \"Impact\": 0.03662852849811936, \"F1\": 0.6634875292169861, \"K\": 5000, \"Method\": \"Rain\", \"Test_impact\": 0.0012468827930174563}]}}, {\"mode\": \"vega-lite\"});\n",
       "</script>"
      ],
      "text/plain": [
       "alt.Chart(...)"
      ]
     },
     "execution_count": 18,
     "metadata": {},
     "output_type": "execute_result"
    }
   ],
   "source": [
    "alt.Chart(pd.concat([df_rain_test])).mark_line().encode(\n",
    "    alt.X('K:Q', axis=alt.Axis(tickCount=df_rain_test.shape[0], grid=False)),\n",
    "    alt.Y(\"F1:Q\"),\n",
    "    color = \"Method\"\n",
    ")"
   ]
  },
  {
   "cell_type": "code",
   "execution_count": 24,
   "metadata": {},
   "outputs": [
    {
     "data": {
      "text/plain": [
       "[0.20434572297179915,\n",
       " 0.20211052822818731,\n",
       " 0.1988093242041537,\n",
       " 0.1947221542128577,\n",
       " 0.19075926422447045,\n",
       " 0.1873639670956407,\n",
       " 0.18336240444877244,\n",
       " 0.1792521114835105,\n",
       " 0.17534330824415323,\n",
       " 0.1714321859564591,\n",
       " 0.16836575240515972,\n",
       " 0.1652004774158927,\n",
       " 0.16225240756417791,\n",
       " 0.15835751679125173,\n",
       " 0.15481830305129807,\n",
       " 0.15006047836126046,\n",
       " 0.1448407158082764,\n",
       " 0.13939758158664695,\n",
       " 0.13425823112472482,\n",
       " 0.1290517883239138,\n",
       " 0.1237371220987879,\n",
       " 0.11879612574508847,\n",
       " 0.1136742753566663,\n",
       " 0.10993929751732054,\n",
       " 0.1058794192806545,\n",
       " 0.10252840264491744,\n",
       " 0.09722298328927476,\n",
       " 0.09359156508729578,\n",
       " 0.08779529664986536,\n",
       " 0.08165391705611673,\n",
       " 0.07604430681490854,\n",
       " 0.0722545596713136,\n",
       " 0.06739181179961354,\n",
       " 0.0620665228234024,\n",
       " 0.07640260604632199,\n",
       " 0.09121489200044633,\n",
       " 0.10652750850529268,\n",
       " 0.12236624136488378,\n",
       " 0.11738051025351204,\n",
       " 0.11081825480354059,\n",
       " 0.10403568049889668,\n",
       " 0.09714088623553925,\n",
       " 0.11361678098164718,\n",
       " 0.10660695845230117,\n",
       " 0.09947920485752201,\n",
       " 0.09223051889771436,\n",
       " 0.10929589109448802,\n",
       " 0.1236291841914028,\n",
       " 0.1347760712323503,\n",
       " 0.13733870914894772,\n",
       " 0.13940892225771148]"
      ]
     },
     "execution_count": 24,
     "metadata": {},
     "output_type": "execute_result"
    }
   ],
   "source": [
    "impacts"
   ]
  },
  {
   "cell_type": "code",
   "execution_count": 21,
   "metadata": {},
   "outputs": [
    {
     "data": {
      "text/plain": [
       "[0.8174107060320042,\n",
       " 0.8186911243630448,\n",
       " 0.8186911243630448,\n",
       " 0.817829799538166,\n",
       " 0.8191974383083428,\n",
       " 0.8213647503031832,\n",
       " 0.8215729011228387,\n",
       " 0.8228490894228463,\n",
       " 0.822641296626279,\n",
       " 0.8217206063838446,\n",
       " 0.8220766195721473,\n",
       " 0.8219288738400308,\n",
       " 0.8212170863333655,\n",
       " 0.8244251801061719,\n",
       " 0.8223982864724559,\n",
       " 0.8223432919793787,\n",
       " 0.8194194162443214,\n",
       " 0.8195786766372979,\n",
       " 0.8195786766372979,\n",
       " 0.8190266568351066,\n",
       " 0.8142659377271675,\n",
       " 0.8142544678848405,\n",
       " 0.8130256629526145,\n",
       " 0.8130256629526145,\n",
       " 0.8130256629526145,\n",
       " 0.8112795279717178,\n",
       " 0.8114562903513394,\n",
       " 0.8109268616368009,\n",
       " 0.8112786520037542,\n",
       " 0.807531479000764,\n",
       " 0.8063552787122423,\n",
       " 0.8054608458194581,\n",
       " 0.8037143135512194,\n",
       " 0.8038587303612503,\n",
       " 0.8033791341113315,\n",
       " 0.8026100293473912,\n",
       " 0.8049130049505382,\n",
       " 0.8044886860313858,\n",
       " 0.802014344005774,\n",
       " 0.8014472235501648,\n",
       " 0.7928569724189309,\n",
       " 0.7921075756864786,\n",
       " 0.792627663499755,\n",
       " 0.7915948149584267,\n",
       " 0.7893187974368786,\n",
       " 0.7887077053905077,\n",
       " 0.7890479892093621,\n",
       " 0.7890479892093621,\n",
       " 0.7890479892093621,\n",
       " 0.7890479892093621,\n",
       " 0.7890479892093621]"
      ]
     },
     "execution_count": 21,
     "metadata": {},
     "output_type": "execute_result"
    }
   ],
   "source": [
    "weighted_f1"
   ]
  },
  {
   "cell_type": "code",
   "execution_count": 22,
   "metadata": {},
   "outputs": [
    {
     "data": {
      "text/plain": [
       "0.1412478336221837"
      ]
     },
     "execution_count": 22,
     "metadata": {},
     "output_type": "execute_result"
    }
   ],
   "source": [
    "male_impact"
   ]
  },
  {
   "cell_type": "code",
   "execution_count": 23,
   "metadata": {},
   "outputs": [
    {
     "data": {
      "text/plain": [
       "0.0018389113644722325"
      ]
     },
     "execution_count": 23,
     "metadata": {},
     "output_type": "execute_result"
    }
   ],
   "source": [
    "female_impact"
   ]
  },
  {
   "cell_type": "code",
   "execution_count": 32,
   "metadata": {},
   "outputs": [
    {
     "data": {
      "text/html": [
       "\n",
       "<div id=\"altair-viz-3d143af110de4aa09829a953e5a8f927\"></div>\n",
       "<script type=\"text/javascript\">\n",
       "  (function(spec, embedOpt){\n",
       "    let outputDiv = document.currentScript.previousElementSibling;\n",
       "    if (outputDiv.id !== \"altair-viz-3d143af110de4aa09829a953e5a8f927\") {\n",
       "      outputDiv = document.getElementById(\"altair-viz-3d143af110de4aa09829a953e5a8f927\");\n",
       "    }\n",
       "    const paths = {\n",
       "      \"vega\": \"https://cdn.jsdelivr.net/npm//vega@5?noext\",\n",
       "      \"vega-lib\": \"https://cdn.jsdelivr.net/npm//vega-lib?noext\",\n",
       "      \"vega-lite\": \"https://cdn.jsdelivr.net/npm//vega-lite@4.8.1?noext\",\n",
       "      \"vega-embed\": \"https://cdn.jsdelivr.net/npm//vega-embed@6?noext\",\n",
       "    };\n",
       "\n",
       "    function loadScript(lib) {\n",
       "      return new Promise(function(resolve, reject) {\n",
       "        var s = document.createElement('script');\n",
       "        s.src = paths[lib];\n",
       "        s.async = true;\n",
       "        s.onload = () => resolve(paths[lib]);\n",
       "        s.onerror = () => reject(`Error loading script: ${paths[lib]}`);\n",
       "        document.getElementsByTagName(\"head\")[0].appendChild(s);\n",
       "      });\n",
       "    }\n",
       "\n",
       "    function showError(err) {\n",
       "      outputDiv.innerHTML = `<div class=\"error\" style=\"color:red;\">${err}</div>`;\n",
       "      throw err;\n",
       "    }\n",
       "\n",
       "    function displayChart(vegaEmbed) {\n",
       "      vegaEmbed(outputDiv, spec, embedOpt)\n",
       "        .catch(err => showError(`Javascript Error: ${err.message}<br>This usually means there's a typo in your chart specification. See the javascript console for the full traceback.`));\n",
       "    }\n",
       "\n",
       "    if(typeof define === \"function\" && define.amd) {\n",
       "      requirejs.config({paths});\n",
       "      require([\"vega-embed\"], displayChart, err => showError(`Error loading script: ${err.message}`));\n",
       "    } else if (typeof vegaEmbed === \"function\") {\n",
       "      displayChart(vegaEmbed);\n",
       "    } else {\n",
       "      loadScript(\"vega\")\n",
       "        .then(() => loadScript(\"vega-lite\"))\n",
       "        .then(() => loadScript(\"vega-embed\"))\n",
       "        .catch(showError)\n",
       "        .then(() => displayChart(vegaEmbed));\n",
       "    }\n",
       "  })({\"config\": {\"view\": {\"continuousWidth\": 400, \"continuousHeight\": 300}}, \"data\": {\"name\": \"data-5e9e9da0dceade3fcacd3fc33b168941\"}, \"mark\": \"line\", \"encoding\": {\"color\": {\"type\": \"nominal\", \"field\": \"Method\"}, \"x\": {\"type\": \"quantitative\", \"axis\": {\"grid\": false, \"tickCount\": 51}, \"field\": \"K\"}, \"y\": {\"type\": \"quantitative\", \"field\": \"F1\"}}, \"$schema\": \"https://vega.github.io/schema/vega-lite/v4.8.1.json\", \"datasets\": {\"data-5e9e9da0dceade3fcacd3fc33b168941\": [{\"Complain\": 0.1555478274822235, \"Impact\": 0.19454483647234272, \"F1\": 0.8062001927764836, \"K\": 0, \"Method\": \"Rain\", \"Test_impact\": 0.1960851296416493}, {\"Complain\": 0.15554770827293396, \"Impact\": 0.19149898966080955, \"F1\": 0.8062001927764836, \"K\": 100, \"Method\": \"Rain\", \"Test_impact\": 0.1431360622833161}, {\"Complain\": 0.15554648637771606, \"Impact\": 0.18807487316217392, \"F1\": 0.8062001927764836, \"K\": 200, \"Method\": \"Rain\", \"Test_impact\": 0.1431360622833161}, {\"Complain\": 0.15554174780845642, \"Impact\": 0.18335517529616358, \"F1\": 0.8062001927764836, \"K\": 300, \"Method\": \"Rain\", \"Test_impact\": 0.1431360622833161}, {\"Complain\": 0.15553632378578186, \"Impact\": 0.18644441725034125, \"F1\": 0.8062001927764836, \"K\": 400, \"Method\": \"Rain\", \"Test_impact\": 0.1431360622833161}, {\"Complain\": 0.15552522242069244, \"Impact\": 0.18400786310415984, \"F1\": 0.8062001927764836, \"K\": 500, \"Method\": \"Rain\", \"Test_impact\": 0.1431360622833161}, {\"Complain\": 0.15320584177970886, \"Impact\": 0.1793097548860031, \"F1\": 0.805988618713834, \"K\": 600, \"Method\": \"Rain\", \"Test_impact\": 0.14191655008819415}, {\"Complain\": 0.15154744684696198, \"Impact\": 0.1749346890056626, \"F1\": 0.8040876506785597, \"K\": 700, \"Method\": \"Rain\", \"Test_impact\": 0.13886776960038927}, {\"Complain\": 0.15029951930046082, \"Impact\": 0.1732316725117065, \"F1\": 0.8035233042327417, \"K\": 800, \"Method\": \"Rain\", \"Test_impact\": 0.1401146523934067}, {\"Complain\": 0.14766910672187805, \"Impact\": 0.1683017136770018, \"F1\": 0.8034321619808703, \"K\": 900, \"Method\": \"Rain\", \"Test_impact\": 0.13706587190560188}, {\"Complain\": 0.1445331871509552, \"Impact\": 0.16437380907382768, \"F1\": 0.7989813701106931, \"K\": 1000, \"Method\": \"Rain\", \"Test_impact\": 0.13035855483243114}, {\"Complain\": 0.14286692440509796, \"Impact\": 0.16087102115384216, \"F1\": 0.7951346235134038, \"K\": 1100, \"Method\": \"Rain\", \"Test_impact\": 0.12243172556413844}, {\"Complain\": 0.13894441723823547, \"Impact\": 0.1556935651358322, \"F1\": 0.7939053094097606, \"K\": 1200, \"Method\": \"Rain\", \"Test_impact\": 0.11633416458852867}, {\"Complain\": 0.13596221804618835, \"Impact\": 0.1568908207308422, \"F1\": 0.7889636011836016, \"K\": 1300, \"Method\": \"Rain\", \"Test_impact\": 0.10840733532023598}, {\"Complain\": 0.13250261545181274, \"Impact\": 0.15163315064582533, \"F1\": 0.7889636011836016, \"K\": 1400, \"Method\": \"Rain\", \"Test_impact\": 0.10840733532023598}, {\"Complain\": 0.13011159002780914, \"Impact\": 0.15633006050821424, \"F1\": 0.7880965375525133, \"K\": 1500, \"Method\": \"Rain\", \"Test_impact\": 0.10657806702755308}, {\"Complain\": 0.1258339285850525, \"Impact\": 0.15125742724522168, \"F1\": 0.7880965375525133, \"K\": 1600, \"Method\": \"Rain\", \"Test_impact\": 0.10657806702755308}, {\"Complain\": 0.12138582766056061, \"Impact\": 0.14565519813216932, \"F1\": 0.7880965375525133, \"K\": 1700, \"Method\": \"Rain\", \"Test_impact\": 0.10657806702755308}, {\"Complain\": 0.12053517997264862, \"Impact\": 0.14850089994163843, \"F1\": 0.7893022337559598, \"K\": 1800, \"Method\": \"Rain\", \"Test_impact\": 0.10408430144151817}, {\"Complain\": 0.1187770813703537, \"Impact\": 0.14278790694022245, \"F1\": 0.7893022337559598, \"K\": 1900, \"Method\": \"Rain\", \"Test_impact\": 0.10408430144151817}, {\"Complain\": 0.1142355352640152, \"Impact\": 0.13698781235317728, \"F1\": 0.7887728991676205, \"K\": 2000, \"Method\": \"Rain\", \"Test_impact\": 0.10164527705127427}, {\"Complain\": 0.1113472431898117, \"Impact\": 0.13164123858672655, \"F1\": 0.7885059282793102, \"K\": 2100, \"Method\": \"Rain\", \"Test_impact\": 0.10042576485615232}, {\"Complain\": 0.11080268025398254, \"Impact\": 0.13420592436893275, \"F1\": 0.7885059282793102, \"K\": 2200, \"Method\": \"Rain\", \"Test_impact\": 0.10042576485615232}, {\"Complain\": 0.10824811458587646, \"Impact\": 0.12859152174942734, \"F1\": 0.7887728991676205, \"K\": 2300, \"Method\": \"Rain\", \"Test_impact\": 0.09793199927011739}, {\"Complain\": 0.10522007942199707, \"Impact\": 0.12249941952104164, \"F1\": 0.7887728991676205, \"K\": 2400, \"Method\": \"Rain\", \"Test_impact\": 0.09793199927011739}, {\"Complain\": 0.10126461088657379, \"Impact\": 0.11693938826634026, \"F1\": 0.7887728991676205, \"K\": 2500, \"Method\": \"Rain\", \"Test_impact\": 0.09793199927011739}, {\"Complain\": 0.09759390354156494, \"Impact\": 0.1113532410294666, \"F1\": 0.7881678202292355, \"K\": 2600, \"Method\": \"Rain\", \"Test_impact\": 0.09732224317255642}, {\"Complain\": 0.09421993792057037, \"Impact\": 0.10715975003180975, \"F1\": 0.7875617583162714, \"K\": 2700, \"Method\": \"Rain\", \"Test_impact\": 0.09856912596557388}, {\"Complain\": 0.09155018627643585, \"Impact\": 0.10334946085408327, \"F1\": 0.7891113934130695, \"K\": 2800, \"Method\": \"Rain\", \"Test_impact\": 0.09546560428197799}, {\"Complain\": 0.08887043595314026, \"Impact\": 0.09900741693796895, \"F1\": 0.7891113934130695, \"K\": 2900, \"Method\": \"Rain\", \"Test_impact\": 0.09546560428197799}, {\"Complain\": 0.08850966393947601, \"Impact\": 0.09801279056970079, \"F1\": 0.7891113934130695, \"K\": 3000, \"Method\": \"Rain\", \"Test_impact\": 0.09546560428197799}, {\"Complain\": 0.08532007038593292, \"Impact\": 0.0930387802597154, \"F1\": 0.7891113934130695, \"K\": 3100, \"Method\": \"Rain\", \"Test_impact\": 0.09546560428197799}, {\"Complain\": 0.08507423102855682, \"Impact\": 0.09456691280297069, \"F1\": 0.7891113934130695, \"K\": 3200, \"Method\": \"Rain\", \"Test_impact\": 0.09546560428197799}, {\"Complain\": 0.08143530786037445, \"Impact\": 0.08782668887078673, \"F1\": 0.7891113934130695, \"K\": 3300, \"Method\": \"Rain\", \"Test_impact\": 0.09546560428197799}, {\"Complain\": 0.0795733779668808, \"Impact\": 0.08396919644249622, \"F1\": 0.7885059282793102, \"K\": 3400, \"Method\": \"Rain\", \"Test_impact\": 0.09485584818441702}, {\"Complain\": 0.0752936452627182, \"Impact\": 0.07747072547527334, \"F1\": 0.7878994779363783, \"K\": 3500, \"Method\": \"Rain\", \"Test_impact\": 0.09424609208685604}, {\"Complain\": 0.07242611050605774, \"Impact\": 0.07352941328449893, \"F1\": 0.7882374071247874, \"K\": 3600, \"Method\": \"Rain\", \"Test_impact\": 0.09363633598929506}, {\"Complain\": 0.06832024455070496, \"Impact\": 0.06786461076996028, \"F1\": 0.7882374071247874, \"K\": 3700, \"Method\": \"Rain\", \"Test_impact\": 0.09363633598929506}, {\"Complain\": 0.06517018377780914, \"Impact\": 0.06258646091238557, \"F1\": 0.7882374071247874, \"K\": 3800, \"Method\": \"Rain\", \"Test_impact\": 0.09363633598929506}, {\"Complain\": 0.06117764115333557, \"Impact\": 0.05637926811799944, \"F1\": 0.7876295763996243, \"K\": 3900, \"Method\": \"Rain\", \"Test_impact\": 0.09488321878231251}, {\"Complain\": 0.05728854238986969, \"Impact\": 0.05289849931029894, \"F1\": 0.7876295763996243, \"K\": 4000, \"Method\": \"Rain\", \"Test_impact\": 0.09488321878231251}, {\"Complain\": 0.05107417702674866, \"Impact\": 0.04909071676742692, \"F1\": 0.7878994779363783, \"K\": 4100, \"Method\": \"Rain\", \"Test_impact\": 0.09238945319627762}, {\"Complain\": 0.048461899161338806, \"Impact\": 0.04751598239308952, \"F1\": 0.7885059282793102, \"K\": 4200, \"Method\": \"Rain\", \"Test_impact\": 0.09114257040326015}, {\"Complain\": 0.0456555038690567, \"Impact\": 0.044508320687362365, \"F1\": 0.7891113934130695, \"K\": 4300, \"Method\": \"Rain\", \"Test_impact\": 0.08989568761024269}, {\"Complain\": 0.036980241537094116, \"Impact\": 0.03843797979297267, \"F1\": 0.7891113934130695, \"K\": 4400, \"Method\": \"Rain\", \"Test_impact\": 0.08989568761024269}, {\"Complain\": 0.03512498736381531, \"Impact\": 0.03605955662650562, \"F1\": 0.790242848783835, \"K\": 4500, \"Method\": \"Rain\", \"Test_impact\": 0.08366127364515541}, {\"Complain\": 0.03343173861503601, \"Impact\": 0.0336356585366205, \"F1\": 0.790242848783835, \"K\": 4600, \"Method\": \"Rain\", \"Test_impact\": 0.08366127364515541}, {\"Complain\": 0.03292383253574371, \"Impact\": 0.026966756158212618, \"F1\": 0.790242848783835, \"K\": 4700, \"Method\": \"Rain\", \"Test_impact\": 0.08366127364515541}, {\"Complain\": 0.03179921209812164, \"Impact\": 0.019960586128762087, \"F1\": 0.790242848783835, \"K\": 4800, \"Method\": \"Rain\", \"Test_impact\": 0.08366127364515541}, {\"Complain\": 0.030551105737686157, \"Impact\": 0.013397203273554134, \"F1\": 0.790242848783835, \"K\": 4900, \"Method\": \"Rain\", \"Test_impact\": 0.08366127364515541}, {\"Complain\": 0.028263181447982788, \"Impact\": 0.006120815109217095, \"F1\": 0.790242848783835, \"K\": 5000, \"Method\": \"Rain\", \"Test_impact\": 0.08366127364515541}]}}, {\"mode\": \"vega-lite\"});\n",
       "</script>"
      ],
      "text/plain": [
       "alt.Chart(...)"
      ]
     },
     "execution_count": 32,
     "metadata": {},
     "output_type": "execute_result"
    }
   ],
   "source": [
    "alt.Chart(pd.concat([df_rain_test])).mark_line().encode(\n",
    "    alt.X('K:Q', axis=alt.Axis(tickCount=df_rain_test.shape[0], grid=False)),\n",
    "    alt.Y(\"F1\"),\n",
    "    color = \"Method\"\n",
    ")"
   ]
  },
  {
   "cell_type": "code",
   "execution_count": 329,
   "metadata": {},
   "outputs": [
    {
     "data": {
      "text/html": [
       "\n",
       "<div id=\"altair-viz-008b01d3e5354c848aa0f4cce9e70c72\"></div>\n",
       "<script type=\"text/javascript\">\n",
       "  (function(spec, embedOpt){\n",
       "    let outputDiv = document.currentScript.previousElementSibling;\n",
       "    if (outputDiv.id !== \"altair-viz-008b01d3e5354c848aa0f4cce9e70c72\") {\n",
       "      outputDiv = document.getElementById(\"altair-viz-008b01d3e5354c848aa0f4cce9e70c72\");\n",
       "    }\n",
       "    const paths = {\n",
       "      \"vega\": \"https://cdn.jsdelivr.net/npm//vega@5?noext\",\n",
       "      \"vega-lib\": \"https://cdn.jsdelivr.net/npm//vega-lib?noext\",\n",
       "      \"vega-lite\": \"https://cdn.jsdelivr.net/npm//vega-lite@4.8.1?noext\",\n",
       "      \"vega-embed\": \"https://cdn.jsdelivr.net/npm//vega-embed@6?noext\",\n",
       "    };\n",
       "\n",
       "    function loadScript(lib) {\n",
       "      return new Promise(function(resolve, reject) {\n",
       "        var s = document.createElement('script');\n",
       "        s.src = paths[lib];\n",
       "        s.async = true;\n",
       "        s.onload = () => resolve(paths[lib]);\n",
       "        s.onerror = () => reject(`Error loading script: ${paths[lib]}`);\n",
       "        document.getElementsByTagName(\"head\")[0].appendChild(s);\n",
       "      });\n",
       "    }\n",
       "\n",
       "    function showError(err) {\n",
       "      outputDiv.innerHTML = `<div class=\"error\" style=\"color:red;\">${err}</div>`;\n",
       "      throw err;\n",
       "    }\n",
       "\n",
       "    function displayChart(vegaEmbed) {\n",
       "      vegaEmbed(outputDiv, spec, embedOpt)\n",
       "        .catch(err => showError(`Javascript Error: ${err.message}<br>This usually means there's a typo in your chart specification. See the javascript console for the full traceback.`));\n",
       "    }\n",
       "\n",
       "    if(typeof define === \"function\" && define.amd) {\n",
       "      requirejs.config({paths});\n",
       "      require([\"vega-embed\"], displayChart, err => showError(`Error loading script: ${err.message}`));\n",
       "    } else if (typeof vegaEmbed === \"function\") {\n",
       "      displayChart(vegaEmbed);\n",
       "    } else {\n",
       "      loadScript(\"vega\")\n",
       "        .then(() => loadScript(\"vega-lite\"))\n",
       "        .then(() => loadScript(\"vega-embed\"))\n",
       "        .catch(showError)\n",
       "        .then(() => displayChart(vegaEmbed));\n",
       "    }\n",
       "  })({\"config\": {\"view\": {\"continuousWidth\": 400, \"continuousHeight\": 300}}, \"data\": {\"name\": \"data-719cca6ab5e88e8161ee9012909aeaed\"}, \"mark\": \"line\", \"encoding\": {\"color\": {\"type\": \"nominal\", \"field\": \"Method\"}, \"x\": {\"type\": \"quantitative\", \"axis\": {\"grid\": false, \"tickCount\": 41}, \"field\": \"K\"}, \"y\": {\"type\": \"quantitative\", \"field\": \"Complain\"}}, \"$schema\": \"https://vega.github.io/schema/vega-lite/v4.8.1.json\", \"datasets\": {\"data-719cca6ab5e88e8161ee9012909aeaed\": [{\"Complain\": 0.11732679605484009, \"Impact\": 0.358169342190663, \"F1\": 0.7260856621999222, \"K\": 0, \"Method\": \"Rain\"}, {\"Complain\": 0.11724250018596649, \"Impact\": 0.3636819098572744, \"F1\": 0.7282786844682758, \"K\": 100, \"Method\": \"Rain\"}, {\"Complain\": 0.11693689227104187, \"Impact\": 0.3694172280207184, \"F1\": 0.7282786844682758, \"K\": 200, \"Method\": \"Rain\"}, {\"Complain\": 0.11476059257984161, \"Impact\": 0.375562234633889, \"F1\": 0.7279199596245448, \"K\": 300, \"Method\": \"Rain\"}, {\"Complain\": 0.11249221861362457, \"Impact\": 0.3820052532069612, \"F1\": 0.7264394796373976, \"K\": 400, \"Method\": \"Rain\"}, {\"Complain\": 0.11018514633178711, \"Impact\": 0.38805448921772817, \"F1\": 0.7368603206997265, \"K\": 500, \"Method\": \"Rain\"}, {\"Complain\": 0.10897164046764374, \"Impact\": 0.3944139630003504, \"F1\": 0.7368603206997265, \"K\": 600, \"Method\": \"Rain\"}, {\"Complain\": 0.10662201046943665, \"Impact\": 0.4013178670486137, \"F1\": 0.7367689005362226, \"K\": 700, \"Method\": \"Rain\"}, {\"Complain\": 0.10414433479309082, \"Impact\": 0.4088447506743458, \"F1\": 0.7365514713108764, \"K\": 800, \"Method\": \"Rain\"}, {\"Complain\": 0.10144385695457458, \"Impact\": 0.4168117498429268, \"F1\": 0.737111842688411, \"K\": 900, \"Method\": \"Rain\"}, {\"Complain\": 0.0995832085609436, \"Impact\": 0.42046008260829537, \"F1\": 0.736677496109522, \"K\": 1000, \"Method\": \"Rain\"}, {\"Complain\": 0.09678469598293304, \"Impact\": 0.4289527188313153, \"F1\": 0.7368947352639816, \"K\": 1100, \"Method\": \"Rain\"}, {\"Complain\": 0.09491077065467834, \"Impact\": 0.4370262682130413, \"F1\": 0.7365514713108764, \"K\": 1200, \"Method\": \"Rain\"}, {\"Complain\": 0.09141306579113007, \"Impact\": 0.44608868078701175, \"F1\": 0.7363339099067817, \"K\": 1300, \"Method\": \"Rain\"}, {\"Complain\": 0.09074707329273224, \"Impact\": 0.4539143906290923, \"F1\": 0.753978283562978, \"K\": 1400, \"Method\": \"Rain\"}, {\"Complain\": 0.089729905128479, \"Impact\": 0.4634352352006524, \"F1\": 0.753978283562978, \"K\": 1500, \"Method\": \"Rain\"}, {\"Complain\": 0.0859004557132721, \"Impact\": 0.4743376704099896, \"F1\": 0.7358627026652588, \"K\": 1600, \"Method\": \"Rain\"}, {\"Complain\": 0.08353565633296967, \"Impact\": 0.48589142542540925, \"F1\": 0.730059868495904, \"K\": 1700, \"Method\": \"Rain\"}, {\"Complain\": 0.0807405561208725, \"Impact\": 0.4982606528241363, \"F1\": 0.7298376134156751, \"K\": 1800, \"Method\": \"Rain\"}, {\"Complain\": 0.07658518850803375, \"Impact\": 0.5109740035601233, \"F1\": 0.7251654113303183, \"K\": 1900, \"Method\": \"Rain\"}, {\"Complain\": 0.07477909326553345, \"Impact\": 0.5218351335201168, \"F1\": 0.7245368588119199, \"K\": 2000, \"Method\": \"Rain\"}, {\"Complain\": 0.0710454136133194, \"Impact\": 0.5339862965920374, \"F1\": 0.724083800967315, \"K\": 2100, \"Method\": \"Rain\"}, {\"Complain\": 0.06900547444820404, \"Impact\": 0.5470283609564647, \"F1\": 0.7238570551310691, \"K\": 2200, \"Method\": \"Rain\"}, {\"Complain\": 0.06544730067253113, \"Impact\": 0.5615982950931614, \"F1\": 0.7239447572963928, \"K\": 2300, \"Method\": \"Rain\"}, {\"Complain\": 0.06368033587932587, \"Impact\": 0.5735371527901195, \"F1\": 0.7237693665524627, \"K\": 2400, \"Method\": \"Rain\"}, {\"Complain\": 0.06323838233947754, \"Impact\": 0.5838483665514181, \"F1\": 0.7237693665524627, \"K\": 2500, \"Method\": \"Rain\"}, {\"Complain\": 0.06057095527648926, \"Impact\": 0.5932391786864503, \"F1\": 0.7436436939890516, \"K\": 2600, \"Method\": \"Rain\"}, {\"Complain\": 0.058079466223716736, \"Impact\": 0.6058782021536266, \"F1\": 0.7428858848709329, \"K\": 2700, \"Method\": \"Rain\"}, {\"Complain\": 0.05515141785144806, \"Impact\": 0.6220966461673133, \"F1\": 0.7395520411053446, \"K\": 2800, \"Method\": \"Rain\"}, {\"Complain\": 0.053159236907958984, \"Impact\": 0.6353681446234157, \"F1\": 0.7386873767341978, \"K\": 2900, \"Method\": \"Rain\"}, {\"Complain\": 0.05098728835582733, \"Impact\": 0.654333434127905, \"F1\": 0.7368256044178005, \"K\": 3000, \"Method\": \"Rain\"}, {\"Complain\": 0.047148674726486206, \"Impact\": 0.6733541487468199, \"F1\": 0.7362987222822335, \"K\": 3100, \"Method\": \"Rain\"}, {\"Complain\": 0.045582354068756104, \"Impact\": 0.6910820349885174, \"F1\": 0.7331676594630697, \"K\": 3200, \"Method\": \"Rain\"}, {\"Complain\": 0.04245710372924805, \"Impact\": 0.7149671224465382, \"F1\": 0.7331676594630697, \"K\": 3300, \"Method\": \"Rain\"}, {\"Complain\": 0.039319321513175964, \"Impact\": 0.742579433032111, \"F1\": 0.7313541280062641, \"K\": 3400, \"Method\": \"Rain\"}, {\"Complain\": 0.03857569396495819, \"Impact\": 0.7572484947727749, \"F1\": 0.731443948465615, \"K\": 3500, \"Method\": \"Rain\"}, {\"Complain\": 0.036889687180519104, \"Impact\": 0.7813802463912515, \"F1\": 0.712043356809999, \"K\": 3600, \"Method\": \"Rain\"}, {\"Complain\": 0.03570443391799927, \"Impact\": 0.8005886919394489, \"F1\": 0.712043356809999, \"K\": 3700, \"Method\": \"Rain\"}, {\"Complain\": 0.03406064212322235, \"Impact\": 0.8249299240747442, \"F1\": 0.7116528772709055, \"K\": 3800, \"Method\": \"Rain\"}, {\"Complain\": 0.03179234266281128, \"Impact\": 0.8625161539559888, \"F1\": 0.7099875200499262, \"K\": 3900, \"Method\": \"Rain\"}, {\"Complain\": 0.030233517289161682, \"Impact\": 0.9025383744308151, \"F1\": 0.7030804964240237, \"K\": 4000, \"Method\": \"Rain\"}]}}, {\"mode\": \"vega-lite\"});\n",
       "</script>"
      ],
      "text/plain": [
       "alt.Chart(...)"
      ]
     },
     "execution_count": 329,
     "metadata": {},
     "output_type": "execute_result"
    }
   ],
   "source": [
    "cut = int(3500 / step_size)\n",
    "df_rain_test_cut = pd.DataFrame({\n",
    "    \"Complain\": np.array(AQs)[:cut + 1] - AC,\n",
    "    \"Impact\": np.array(impacts)[:cut + 1],\n",
    "    \"F1\": np.array(weighted_f1)[:cut + 1],\n",
    "    \"K\": list(range(0, cut * step_size, step_size)) + [cut * step_size],\n",
    "    \"Method\": np.repeat(\"Rain\", cut + 1),\n",
    "})\n",
    "alt.Chart(pd.concat([df_rain_test])).mark_line().encode(\n",
    "    alt.X('K:Q', axis=alt.Axis(tickCount=df_rain_test.shape[0], grid=False)),\n",
    "    alt.Y(\"Complain:Q\"),\n",
    "    color = \"Method\"\n",
    ")"
   ]
  },
  {
   "cell_type": "code",
   "execution_count": 401,
   "metadata": {
    "scrolled": true
   },
   "outputs": [
    {
     "data": {
      "text/html": [
       "\n",
       "<div id=\"altair-viz-845141a176924054b7415821088d1db2\"></div>\n",
       "<script type=\"text/javascript\">\n",
       "  (function(spec, embedOpt){\n",
       "    let outputDiv = document.currentScript.previousElementSibling;\n",
       "    if (outputDiv.id !== \"altair-viz-845141a176924054b7415821088d1db2\") {\n",
       "      outputDiv = document.getElementById(\"altair-viz-845141a176924054b7415821088d1db2\");\n",
       "    }\n",
       "    const paths = {\n",
       "      \"vega\": \"https://cdn.jsdelivr.net/npm//vega@5?noext\",\n",
       "      \"vega-lib\": \"https://cdn.jsdelivr.net/npm//vega-lib?noext\",\n",
       "      \"vega-lite\": \"https://cdn.jsdelivr.net/npm//vega-lite@4.8.1?noext\",\n",
       "      \"vega-embed\": \"https://cdn.jsdelivr.net/npm//vega-embed@6?noext\",\n",
       "    };\n",
       "\n",
       "    function loadScript(lib) {\n",
       "      return new Promise(function(resolve, reject) {\n",
       "        var s = document.createElement('script');\n",
       "        s.src = paths[lib];\n",
       "        s.async = true;\n",
       "        s.onload = () => resolve(paths[lib]);\n",
       "        s.onerror = () => reject(`Error loading script: ${paths[lib]}`);\n",
       "        document.getElementsByTagName(\"head\")[0].appendChild(s);\n",
       "      });\n",
       "    }\n",
       "\n",
       "    function showError(err) {\n",
       "      outputDiv.innerHTML = `<div class=\"error\" style=\"color:red;\">${err}</div>`;\n",
       "      throw err;\n",
       "    }\n",
       "\n",
       "    function displayChart(vegaEmbed) {\n",
       "      vegaEmbed(outputDiv, spec, embedOpt)\n",
       "        .catch(err => showError(`Javascript Error: ${err.message}<br>This usually means there's a typo in your chart specification. See the javascript console for the full traceback.`));\n",
       "    }\n",
       "\n",
       "    if(typeof define === \"function\" && define.amd) {\n",
       "      requirejs.config({paths});\n",
       "      require([\"vega-embed\"], displayChart, err => showError(`Error loading script: ${err.message}`));\n",
       "    } else if (typeof vegaEmbed === \"function\") {\n",
       "      displayChart(vegaEmbed);\n",
       "    } else {\n",
       "      loadScript(\"vega\")\n",
       "        .then(() => loadScript(\"vega-lite\"))\n",
       "        .then(() => loadScript(\"vega-embed\"))\n",
       "        .catch(showError)\n",
       "        .then(() => displayChart(vegaEmbed));\n",
       "    }\n",
       "  })({\"config\": {\"view\": {\"continuousWidth\": 400, \"continuousHeight\": 300}}, \"data\": {\"name\": \"data-13466d5a8fbaf619f826ac2ab1e1ee7e\"}, \"mark\": \"line\", \"encoding\": {\"color\": {\"type\": \"nominal\", \"field\": \"Method\"}, \"x\": {\"type\": \"quantitative\", \"axis\": {\"grid\": false, \"tickCount\": 41}, \"field\": \"K\"}, \"y\": {\"type\": \"quantitative\", \"field\": \"F1\"}}, \"$schema\": \"https://vega.github.io/schema/vega-lite/v4.8.1.json\", \"datasets\": {\"data-13466d5a8fbaf619f826ac2ab1e1ee7e\": [{\"Complain\": 0.11732679605484009, \"Impact\": 0.358169342190663, \"F1\": 0.7260856621999222, \"K\": 0, \"Method\": \"Rain\"}, {\"Complain\": 0.11724250018596649, \"Impact\": 0.3636819098572744, \"F1\": 0.7282786844682758, \"K\": 100, \"Method\": \"Rain\"}, {\"Complain\": 0.11693689227104187, \"Impact\": 0.3694172280207184, \"F1\": 0.7282786844682758, \"K\": 200, \"Method\": \"Rain\"}, {\"Complain\": 0.11476059257984161, \"Impact\": 0.375562234633889, \"F1\": 0.7279199596245448, \"K\": 300, \"Method\": \"Rain\"}, {\"Complain\": 0.11249221861362457, \"Impact\": 0.3820052532069612, \"F1\": 0.7264394796373976, \"K\": 400, \"Method\": \"Rain\"}, {\"Complain\": 0.11018514633178711, \"Impact\": 0.38805448921772817, \"F1\": 0.7368603206997265, \"K\": 500, \"Method\": \"Rain\"}, {\"Complain\": 0.10897164046764374, \"Impact\": 0.3944139630003504, \"F1\": 0.7368603206997265, \"K\": 600, \"Method\": \"Rain\"}, {\"Complain\": 0.10662201046943665, \"Impact\": 0.4013178670486137, \"F1\": 0.7367689005362226, \"K\": 700, \"Method\": \"Rain\"}, {\"Complain\": 0.10414433479309082, \"Impact\": 0.4088447506743458, \"F1\": 0.7365514713108764, \"K\": 800, \"Method\": \"Rain\"}, {\"Complain\": 0.10144385695457458, \"Impact\": 0.4168117498429268, \"F1\": 0.737111842688411, \"K\": 900, \"Method\": \"Rain\"}, {\"Complain\": 0.0995832085609436, \"Impact\": 0.42046008260829537, \"F1\": 0.736677496109522, \"K\": 1000, \"Method\": \"Rain\"}, {\"Complain\": 0.09678469598293304, \"Impact\": 0.4289527188313153, \"F1\": 0.7368947352639816, \"K\": 1100, \"Method\": \"Rain\"}, {\"Complain\": 0.09491077065467834, \"Impact\": 0.4370262682130413, \"F1\": 0.7365514713108764, \"K\": 1200, \"Method\": \"Rain\"}, {\"Complain\": 0.09141306579113007, \"Impact\": 0.44608868078701175, \"F1\": 0.7363339099067817, \"K\": 1300, \"Method\": \"Rain\"}, {\"Complain\": 0.09074707329273224, \"Impact\": 0.4539143906290923, \"F1\": 0.753978283562978, \"K\": 1400, \"Method\": \"Rain\"}, {\"Complain\": 0.089729905128479, \"Impact\": 0.4634352352006524, \"F1\": 0.753978283562978, \"K\": 1500, \"Method\": \"Rain\"}, {\"Complain\": 0.0859004557132721, \"Impact\": 0.4743376704099896, \"F1\": 0.7358627026652588, \"K\": 1600, \"Method\": \"Rain\"}, {\"Complain\": 0.08353565633296967, \"Impact\": 0.48589142542540925, \"F1\": 0.730059868495904, \"K\": 1700, \"Method\": \"Rain\"}, {\"Complain\": 0.0807405561208725, \"Impact\": 0.4982606528241363, \"F1\": 0.7298376134156751, \"K\": 1800, \"Method\": \"Rain\"}, {\"Complain\": 0.07658518850803375, \"Impact\": 0.5109740035601233, \"F1\": 0.7251654113303183, \"K\": 1900, \"Method\": \"Rain\"}, {\"Complain\": 0.07477909326553345, \"Impact\": 0.5218351335201168, \"F1\": 0.7245368588119199, \"K\": 2000, \"Method\": \"Rain\"}, {\"Complain\": 0.0710454136133194, \"Impact\": 0.5339862965920374, \"F1\": 0.724083800967315, \"K\": 2100, \"Method\": \"Rain\"}, {\"Complain\": 0.06900547444820404, \"Impact\": 0.5470283609564647, \"F1\": 0.7238570551310691, \"K\": 2200, \"Method\": \"Rain\"}, {\"Complain\": 0.06544730067253113, \"Impact\": 0.5615982950931614, \"F1\": 0.7239447572963928, \"K\": 2300, \"Method\": \"Rain\"}, {\"Complain\": 0.06368033587932587, \"Impact\": 0.5735371527901195, \"F1\": 0.7237693665524627, \"K\": 2400, \"Method\": \"Rain\"}, {\"Complain\": 0.06323838233947754, \"Impact\": 0.5838483665514181, \"F1\": 0.7237693665524627, \"K\": 2500, \"Method\": \"Rain\"}, {\"Complain\": 0.06057095527648926, \"Impact\": 0.5932391786864503, \"F1\": 0.7436436939890516, \"K\": 2600, \"Method\": \"Rain\"}, {\"Complain\": 0.058079466223716736, \"Impact\": 0.6058782021536266, \"F1\": 0.7428858848709329, \"K\": 2700, \"Method\": \"Rain\"}, {\"Complain\": 0.05515141785144806, \"Impact\": 0.6220966461673133, \"F1\": 0.7395520411053446, \"K\": 2800, \"Method\": \"Rain\"}, {\"Complain\": 0.053159236907958984, \"Impact\": 0.6353681446234157, \"F1\": 0.7386873767341978, \"K\": 2900, \"Method\": \"Rain\"}, {\"Complain\": 0.05098728835582733, \"Impact\": 0.654333434127905, \"F1\": 0.7368256044178005, \"K\": 3000, \"Method\": \"Rain\"}, {\"Complain\": 0.047148674726486206, \"Impact\": 0.6733541487468199, \"F1\": 0.7362987222822335, \"K\": 3100, \"Method\": \"Rain\"}, {\"Complain\": 0.045582354068756104, \"Impact\": 0.6910820349885174, \"F1\": 0.7331676594630697, \"K\": 3200, \"Method\": \"Rain\"}, {\"Complain\": 0.04245710372924805, \"Impact\": 0.7149671224465382, \"F1\": 0.7331676594630697, \"K\": 3300, \"Method\": \"Rain\"}, {\"Complain\": 0.039319321513175964, \"Impact\": 0.742579433032111, \"F1\": 0.7313541280062641, \"K\": 3400, \"Method\": \"Rain\"}, {\"Complain\": 0.03857569396495819, \"Impact\": 0.7572484947727749, \"F1\": 0.731443948465615, \"K\": 3500, \"Method\": \"Rain\"}]}}, {\"mode\": \"vega-lite\"});\n",
       "</script>"
      ],
      "text/plain": [
       "alt.Chart(...)"
      ]
     },
     "execution_count": 401,
     "metadata": {},
     "output_type": "execute_result"
    }
   ],
   "source": [
    "alt.Chart(pd.concat([df_rain_test_cut])).mark_line().encode(\n",
    "    alt.X('K:Q', axis=alt.Axis(tickCount=df_rain_test.shape[0], grid=False)),\n",
    "    alt.Y(\"F1:Q\"),\n",
    "    color = \"Method\"\n",
    ")"
   ]
  },
  {
   "cell_type": "code",
   "execution_count": 400,
   "metadata": {},
   "outputs": [
    {
     "data": {
      "text/plain": [
       "0.807192544953406"
      ]
     },
     "execution_count": 400,
     "metadata": {},
     "output_type": "execute_result"
    }
   ],
   "source": [
    "y = tf.squeeze(manager_test.model(proc.x_a_test, proc.x_b_test))\n",
    "male_ids = (proc.x_a_test[:, 0] == 1).numpy()\n",
    "female_ids = (proc.x_a_test[:, 0] == 0).numpy()\n",
    "one_ids = (y >= 0.51).numpy()\n",
    "zero_ids = (y < 0.51).numpy()\n",
    "\n",
    "male_impact = (male_ids[:] & one_ids[:]).sum() / male_ids.sum()\n",
    "female_impact = (female_ids[:] & one_ids[:]).sum() / female_ids.sum()\n",
    "impact = female_impact / male_impact\n",
    "impact"
   ]
  },
  {
   "cell_type": "code",
   "execution_count": 398,
   "metadata": {},
   "outputs": [
    {
     "data": {
      "text/html": [
       "\n",
       "<div id=\"altair-viz-00f22ce040d542b394aace56365d351e\"></div>\n",
       "<script type=\"text/javascript\">\n",
       "  (function(spec, embedOpt){\n",
       "    let outputDiv = document.currentScript.previousElementSibling;\n",
       "    if (outputDiv.id !== \"altair-viz-00f22ce040d542b394aace56365d351e\") {\n",
       "      outputDiv = document.getElementById(\"altair-viz-00f22ce040d542b394aace56365d351e\");\n",
       "    }\n",
       "    const paths = {\n",
       "      \"vega\": \"https://cdn.jsdelivr.net/npm//vega@5?noext\",\n",
       "      \"vega-lib\": \"https://cdn.jsdelivr.net/npm//vega-lib?noext\",\n",
       "      \"vega-lite\": \"https://cdn.jsdelivr.net/npm//vega-lite@4.8.1?noext\",\n",
       "      \"vega-embed\": \"https://cdn.jsdelivr.net/npm//vega-embed@6?noext\",\n",
       "    };\n",
       "\n",
       "    function loadScript(lib) {\n",
       "      return new Promise(function(resolve, reject) {\n",
       "        var s = document.createElement('script');\n",
       "        s.src = paths[lib];\n",
       "        s.async = true;\n",
       "        s.onload = () => resolve(paths[lib]);\n",
       "        s.onerror = () => reject(`Error loading script: ${paths[lib]}`);\n",
       "        document.getElementsByTagName(\"head\")[0].appendChild(s);\n",
       "      });\n",
       "    }\n",
       "\n",
       "    function showError(err) {\n",
       "      outputDiv.innerHTML = `<div class=\"error\" style=\"color:red;\">${err}</div>`;\n",
       "      throw err;\n",
       "    }\n",
       "\n",
       "    function displayChart(vegaEmbed) {\n",
       "      vegaEmbed(outputDiv, spec, embedOpt)\n",
       "        .catch(err => showError(`Javascript Error: ${err.message}<br>This usually means there's a typo in your chart specification. See the javascript console for the full traceback.`));\n",
       "    }\n",
       "\n",
       "    if(typeof define === \"function\" && define.amd) {\n",
       "      requirejs.config({paths});\n",
       "      require([\"vega-embed\"], displayChart, err => showError(`Error loading script: ${err.message}`));\n",
       "    } else if (typeof vegaEmbed === \"function\") {\n",
       "      displayChart(vegaEmbed);\n",
       "    } else {\n",
       "      loadScript(\"vega\")\n",
       "        .then(() => loadScript(\"vega-lite\"))\n",
       "        .then(() => loadScript(\"vega-embed\"))\n",
       "        .catch(showError)\n",
       "        .then(() => displayChart(vegaEmbed));\n",
       "    }\n",
       "  })({\"config\": {\"view\": {\"continuousWidth\": 400, \"continuousHeight\": 300}}, \"data\": {\"name\": \"data-ba84ba2c322154f80501b94dc95815ef\"}, \"mark\": \"line\", \"encoding\": {\"color\": {\"type\": \"nominal\", \"field\": \"Method\"}, \"x\": {\"type\": \"quantitative\", \"axis\": {\"grid\": false, \"tickCount\": 41}, \"field\": \"K\"}, \"y\": {\"type\": \"quantitative\", \"field\": \"Test_impact\"}}, \"$schema\": \"https://vega.github.io/schema/vega-lite/v4.8.1.json\", \"datasets\": {\"data-ba84ba2c322154f80501b94dc95815ef\": [{\"Complain\": 0.11732679605484009, \"Impact\": 0.358169342190663, \"F1\": 0.723430277426918, \"K\": 0, \"Method\": \"Rain\", \"Test_impact\": 0.17362254740507221}, {\"Complain\": 0.11724250018596649, \"Impact\": 0.3636819098572744, \"F1\": 0.7294595868160462, \"K\": 100, \"Method\": \"Rain\", \"Test_impact\": 0.24166855588301972}, {\"Complain\": 0.11693689227104187, \"Impact\": 0.3694172280207184, \"F1\": 0.7294595868160462, \"K\": 200, \"Method\": \"Rain\", \"Test_impact\": 0.24166855588301972}, {\"Complain\": 0.11476059257984161, \"Impact\": 0.375562234633889, \"F1\": 0.7300465444893948, \"K\": 300, \"Method\": \"Rain\", \"Test_impact\": 0.24614389951048304}, {\"Complain\": 0.11249221861362457, \"Impact\": 0.3820052532069612, \"F1\": 0.7270390207975856, \"K\": 400, \"Method\": \"Rain\", \"Test_impact\": 0.25561097256857856}, {\"Complain\": 0.11018514633178711, \"Impact\": 0.38805448921772817, \"F1\": 0.736553043053403, \"K\": 500, \"Method\": \"Rain\", \"Test_impact\": 0.21969868716638158}, {\"Complain\": 0.10897164046764374, \"Impact\": 0.3944139630003504, \"F1\": 0.736553043053403, \"K\": 600, \"Method\": \"Rain\", \"Test_impact\": 0.21969868716638158}, {\"Complain\": 0.10662201046943665, \"Impact\": 0.4013178670486137, \"F1\": 0.736553043053403, \"K\": 700, \"Method\": \"Rain\", \"Test_impact\": 0.21969868716638158}, {\"Complain\": 0.10414433479309082, \"Impact\": 0.4088447506743458, \"F1\": 0.736553043053403, \"K\": 800, \"Method\": \"Rain\", \"Test_impact\": 0.21969868716638158}, {\"Complain\": 0.10144385695457458, \"Impact\": 0.4168117498429268, \"F1\": 0.736553043053403, \"K\": 900, \"Method\": \"Rain\", \"Test_impact\": 0.21969868716638158}, {\"Complain\": 0.0995832085609436, \"Impact\": 0.42046008260829537, \"F1\": 0.736553043053403, \"K\": 1000, \"Method\": \"Rain\", \"Test_impact\": 0.21969868716638158}, {\"Complain\": 0.09678469598293304, \"Impact\": 0.4289527188313153, \"F1\": 0.736553043053403, \"K\": 1100, \"Method\": \"Rain\", \"Test_impact\": 0.21969868716638158}, {\"Complain\": 0.09491077065467834, \"Impact\": 0.4370262682130413, \"F1\": 0.736553043053403, \"K\": 1200, \"Method\": \"Rain\", \"Test_impact\": 0.21969868716638158}, {\"Complain\": 0.09141306579113007, \"Impact\": 0.44608868078701175, \"F1\": 0.736553043053403, \"K\": 1300, \"Method\": \"Rain\", \"Test_impact\": 0.21969868716638158}, {\"Complain\": 0.09074707329273224, \"Impact\": 0.4539143906290923, \"F1\": 0.7469022829934905, \"K\": 1400, \"Method\": \"Rain\", \"Test_impact\": 0.1846079246328623}, {\"Complain\": 0.089729905128479, \"Impact\": 0.4634352352006524, \"F1\": 0.7469022829934905, \"K\": 1500, \"Method\": \"Rain\", \"Test_impact\": 0.1846079246328623}, {\"Complain\": 0.0859004557132721, \"Impact\": 0.4743376704099896, \"F1\": 0.73685326922737, \"K\": 1600, \"Method\": \"Rain\", \"Test_impact\": 0.22152950955943476}, {\"Complain\": 0.08353565633296967, \"Impact\": 0.48589142542540925, \"F1\": 0.7307944029579498, \"K\": 1700, \"Method\": \"Rain\", \"Test_impact\": 0.24388569859754283}, {\"Complain\": 0.0807405561208725, \"Impact\": 0.4982606528241363, \"F1\": 0.7300465444893948, \"K\": 1800, \"Method\": \"Rain\", \"Test_impact\": 0.24614389951048304}, {\"Complain\": 0.07658518850803375, \"Impact\": 0.5109740035601233, \"F1\": 0.7252549311352822, \"K\": 1900, \"Method\": \"Rain\", \"Test_impact\": 0.2889515342079584}, {\"Complain\": 0.07477909326553345, \"Impact\": 0.5218351335201168, \"F1\": 0.7226554168659433, \"K\": 2000, \"Method\": \"Rain\", \"Test_impact\": 0.3485604171389708}, {\"Complain\": 0.0710454136133194, \"Impact\": 0.5339862965920374, \"F1\": 0.7226554168659433, \"K\": 2100, \"Method\": \"Rain\", \"Test_impact\": 0.3485604171389708}, {\"Complain\": 0.06900547444820404, \"Impact\": 0.5470283609564647, \"F1\": 0.7226554168659433, \"K\": 2200, \"Method\": \"Rain\", \"Test_impact\": 0.3485604171389708}, {\"Complain\": 0.06544730067253113, \"Impact\": 0.5615982950931614, \"F1\": 0.7218814386901328, \"K\": 2300, \"Method\": \"Rain\", \"Test_impact\": 0.3253230559963727}, {\"Complain\": 0.06368033587932587, \"Impact\": 0.5735371527901195, \"F1\": 0.7218814386901328, \"K\": 2400, \"Method\": \"Rain\", \"Test_impact\": 0.3253230559963727}, {\"Complain\": 0.06323838233947754, \"Impact\": 0.5838483665514181, \"F1\": 0.7218814386901328, \"K\": 2500, \"Method\": \"Rain\", \"Test_impact\": 0.3253230559963727}, {\"Complain\": 0.06057095527648926, \"Impact\": 0.5932391786864503, \"F1\": 0.7367204652192232, \"K\": 2600, \"Method\": \"Rain\", \"Test_impact\": 0.2667244931150385}, {\"Complain\": 0.058079466223716736, \"Impact\": 0.6058782021536266, \"F1\": 0.7342121083533041, \"K\": 2700, \"Method\": \"Rain\", \"Test_impact\": 0.2921268257926612}, {\"Complain\": 0.05515141785144806, \"Impact\": 0.6220966461673133, \"F1\": 0.7318358172598535, \"K\": 2800, \"Method\": \"Rain\", \"Test_impact\": 0.33107706923168273}, {\"Complain\": 0.053159236907958984, \"Impact\": 0.6353681446234157, \"F1\": 0.7318358172598535, \"K\": 2900, \"Method\": \"Rain\", \"Test_impact\": 0.33107706923168273}, {\"Complain\": 0.05098728835582733, \"Impact\": 0.654333434127905, \"F1\": 0.7318358172598535, \"K\": 3000, \"Method\": \"Rain\", \"Test_impact\": 0.3539228850949549}, {\"Complain\": 0.047148674726486206, \"Impact\": 0.6733541487468199, \"F1\": 0.7310888358234127, \"K\": 3100, \"Method\": \"Rain\", \"Test_impact\": 0.3573590296104399}, {\"Complain\": 0.045582354068756104, \"Impact\": 0.6910820349885174, \"F1\": 0.7301765033171537, \"K\": 3200, \"Method\": \"Rain\", \"Test_impact\": 0.37179777828156885}, {\"Complain\": 0.04245710372924805, \"Impact\": 0.7149671224465382, \"F1\": 0.7294232367381853, \"K\": 3300, \"Method\": \"Rain\", \"Test_impact\": 0.35114234615481504}, {\"Complain\": 0.039319321513175964, \"Impact\": 0.742579433032111, \"F1\": 0.7243917538158212, \"K\": 3400, \"Method\": \"Rain\", \"Test_impact\": 0.35563265748671796}, {\"Complain\": 0.03857569396495819, \"Impact\": 0.7572484947727749, \"F1\": 0.7243917538158212, \"K\": 3500, \"Method\": \"Rain\", \"Test_impact\": 0.35563265748671796}, {\"Complain\": 0.036889687180519104, \"Impact\": 0.7813802463912515, \"F1\": 0.71275594746434, \"K\": 3600, \"Method\": \"Rain\", \"Test_impact\": 0.4741768766489573}, {\"Complain\": 0.03570443391799927, \"Impact\": 0.8005886919394489, \"F1\": 0.71275594746434, \"K\": 3700, \"Method\": \"Rain\", \"Test_impact\": 0.4741768766489573}, {\"Complain\": 0.03406064212322235, \"Impact\": 0.8249299240747442, \"F1\": 0.7111492793957248, \"K\": 3800, \"Method\": \"Rain\", \"Test_impact\": 0.48833141028026944}, {\"Complain\": 0.03179234266281128, \"Impact\": 0.8625161539559888, \"F1\": 0.7087251868012655, \"K\": 3900, \"Method\": \"Rain\", \"Test_impact\": 0.5112219451371571}, {\"Complain\": 0.030233517289161682, \"Impact\": 0.9025383744308151, \"F1\": 0.7015630452027775, \"K\": 4000, \"Method\": \"Rain\", \"Test_impact\": 0.654364089775561}]}}, {\"mode\": \"vega-lite\"});\n",
       "</script>"
      ],
      "text/plain": [
       "alt.Chart(...)"
      ]
     },
     "execution_count": 398,
     "metadata": {},
     "output_type": "execute_result"
    }
   ],
   "source": [
    "alt.Chart(pd.concat([df_rain_test])).mark_line().encode(\n",
    "    alt.X('K:Q', axis=alt.Axis(tickCount=df_rain_test.shape[0], grid=False)),\n",
    "    alt.Y(\"Test_impact:Q\"),\n",
    "    color = \"Method\"\n",
    ")"
   ]
  },
  {
   "cell_type": "code",
   "execution_count": 333,
   "metadata": {},
   "outputs": [
    {
     "name": "stdout",
     "output_type": "stream",
     "text": [
      "Model name: LinearCombTest\n",
      "On Training\n",
      "               precision    recall  f1-score   support\n",
      "\n",
      "         0.0       0.78      0.99      0.87     16698\n",
      "         1.0       0.79      0.11      0.19      5280\n",
      "\n",
      "    accuracy                           0.78     21978\n",
      "   macro avg       0.79      0.55      0.53     21978\n",
      "weighted avg       0.78      0.78      0.71     21978\n",
      "\n",
      "On Testing\n",
      "               precision    recall  f1-score   support\n",
      "\n",
      "         0.0       0.78      0.99      0.87      1861\n",
      "         1.0       0.77      0.09      0.16       581\n",
      "\n",
      "    accuracy                           0.78      2442\n",
      "   macro avg       0.77      0.54      0.51      2442\n",
      "weighted avg       0.78      0.78      0.70      2442\n",
      "\n"
     ]
    }
   ],
   "source": [
    "manager_test.report(proc.x_a_train, proc.x_b_train, proc.y_train, proc.x_a_test, proc.x_b_test, proc.y_test)\n"
   ]
  },
  {
   "cell_type": "code",
   "execution_count": 347,
   "metadata": {},
   "outputs": [
    {
     "data": {
      "text/plain": [
       "0.17362254740507221"
      ]
     },
     "execution_count": 347,
     "metadata": {},
     "output_type": "execute_result"
    }
   ],
   "source": [
    "y = tf.squeeze(manager_test0.model(proc.x_a_test, proc.x_b_test))\n",
    "male_ids = (proc.x_a_test[:, 0] == 1).numpy()\n",
    "female_ids = (proc.x_a_test[:, 0] == 0).numpy()\n",
    "one_ids = (y >= 0.5).numpy()\n",
    "zero_ids = (y < 0.5).numpy()\n",
    "\n",
    "male_impact = (male_ids[:] & one_ids[:]).sum() / male_ids.sum()\n",
    "female_impact = (female_ids[:] & one_ids[:]).sum() / female_ids.sum()\n",
    "impact = female_impact / male_impact\n",
    "impact"
   ]
  },
  {
   "cell_type": "code",
   "execution_count": 350,
   "metadata": {},
   "outputs": [
    {
     "data": {
      "text/plain": [
       "0.3460579320928448"
      ]
     },
     "execution_count": 350,
     "metadata": {},
     "output_type": "execute_result"
    }
   ],
   "source": [
    "# HHD\n",
    "y = tf.squeeze(manager_random.model(proc.x_test))\n",
    "male_ids = (proc.x_test[:, 0] == 1).numpy()\n",
    "female_ids = (proc.x_test[:, 0] == 0).numpy()\n",
    "one_ids = (y >= 0.5).numpy()\n",
    "zero_ids = (y < 0.5).numpy()\n",
    "\n",
    "male_impact = (male_ids[:] & one_ids[:]).sum() / male_ids.sum()\n",
    "female_impact = (female_ids[:] & one_ids[:]).sum() / female_ids.sum()\n",
    "impact = female_impact / male_impact\n",
    "impact"
   ]
  },
  {
   "cell_type": "code",
   "execution_count": 318,
   "metadata": {},
   "outputs": [
    {
     "data": {
      "text/plain": [
       "[0.358169342190663,\n",
       " 0.3636819098572744,\n",
       " 0.3694172280207184,\n",
       " 0.375562234633889,\n",
       " 0.3820052532069612,\n",
       " 0.38805448921772817,\n",
       " 0.3944139630003504,\n",
       " 0.4013178670486137,\n",
       " 0.4088447506743458,\n",
       " 0.4168117498429268,\n",
       " 0.42046008260829537,\n",
       " 0.4289527188313153,\n",
       " 0.4370262682130413,\n",
       " 0.44608868078701175,\n",
       " 0.4539143906290923,\n",
       " 0.4634352352006524,\n",
       " 0.4743376704099896,\n",
       " 0.48589142542540925,\n",
       " 0.4982606528241363,\n",
       " 0.5109740035601233,\n",
       " 0.5218351335201168,\n",
       " 0.5339862965920374,\n",
       " 0.5470283609564647,\n",
       " 0.5615982950931614,\n",
       " 0.5735371527901195,\n",
       " 0.5838483665514181,\n",
       " 0.5932391786864503,\n",
       " 0.6058782021536266,\n",
       " 0.6220966461673133,\n",
       " 0.6353681446234157,\n",
       " 0.654333434127905,\n",
       " 0.6733541487468199,\n",
       " 0.6910820349885174,\n",
       " 0.7149671224465382,\n",
       " 0.742579433032111,\n",
       " 0.7572484947727749,\n",
       " 0.7813802463912515,\n",
       " 0.8005886919394489,\n",
       " 0.8249299240747442,\n",
       " 0.8625161539559888,\n",
       " 0.9025383744308151]"
      ]
     },
     "execution_count": 318,
     "metadata": {},
     "output_type": "execute_result"
    }
   ],
   "source": [
    "impacts"
   ]
  },
  {
   "cell_type": "code",
   "execution_count": 267,
   "metadata": {},
   "outputs": [
    {
     "data": {
      "text/plain": [
       "<tf.Variable 'c2:0' shape=(1,) dtype=float32, numpy=array([1.3723994], dtype=float32)>"
      ]
     },
     "execution_count": 267,
     "metadata": {},
     "output_type": "execute_result"
    }
   ],
   "source": [
    "manager_test0.model.c2"
   ]
  },
  {
   "cell_type": "code",
   "execution_count": null,
   "metadata": {},
   "outputs": [],
   "source": []
  },
  {
   "cell_type": "code",
   "execution_count": null,
   "metadata": {},
   "outputs": [],
   "source": [
    "alt.Chart(pd.concat([df_rain_test])).mark_line().encode(\n",
    "    alt.X('K:Q', axis=alt.Axis(tickCount=df_rain_test.shape[0], grid=False)),\n",
    "    alt.Y(\"F1:Q\"),\n",
    "    color = \"Method\"\n",
    ")"
   ]
  },
  {
   "cell_type": "code",
   "execution_count": 105,
   "metadata": {},
   "outputs": [],
   "source": [
    "# from mlsql.lc_protocol import f1 as lc_f1\n",
    "# from mlsql.lc_protocol import rank_fix as lc_rank_fix\n",
    "# from mlsql.lc_protocol import complain_value\n",
    "# K = 30\n",
    "\n",
    "# model_a = LinearComb(1)\n",
    "# manager_a = ModelManagerLM(proc.x_a_train, proc.y_train, model_a, 256)\n",
    "# manager_a.model.set_weights(model0_a.get_weights())\n",
    "# manager_a.delta = tf.Variable(manager0_a.delta.value(), name=\"delta\")\n",
    "# model_b = LinearComb(1)\n",
    "# manager_b = ModelManagerLM(proc.x_b_train, proc.y_train, model_b, 256)\n",
    "# manager_b.model.set_weights(model0_b.get_weights())\n",
    "# manager_b.delta = tf.Variable(manager0_b.delta.value(), name=\"delta\")\n",
    "\n",
    "# fixer_a = AutoFixer(manager_a, corrsel, K)\n",
    "# fixer_b = AutoFixer(manager_b, corrsel, K)\n",
    "\n",
    "# AQs = []\n",
    "# weighted_f1 = []\n",
    "# rank_list = []\n",
    "# rank_time_rain = 0\n",
    "# model_time_enc, model_time_rain = 0, 0\n",
    "# query_data = proc.query_data()\n",
    "# AQ = complain_value(manager_a, manager_b, proc.fl_complain, query_data)\n",
    "# f1 = lc_f1(manager_a, manager_b, proc.x_a_test, proc.x_b_test, proc.y_test)\n",
    "# AQs.append(float(AQ))\n",
    "# weighted_f1.append(f1)\n",
    "\n",
    "# step_size = 10\n",
    "# rain_k = int(np.ceil(K / step_size))\n",
    "# for k in trange(0, rain_k):\n",
    "#     nfix = min(step_size, K - step_size * k)\n",
    "#     assert nfix > 0\n",
    "\n",
    "#     start = time.time()\n",
    "#     rank = lc_rank_fix(fixer_a, fixer_b, nfix, manager_a, manager_b, proc.fl_complain, query_data)\n",
    "# #     rank = lc_rank_fix(fixer_a, fixer_b, nfix, manager_a, manager_b, proc.lc_complain, query_data)\n",
    "#     middle = time.time()\n",
    "# #     enc_time, cpu_time = lc_fit_test(manager_a, manager_b, max_iter=1000, tol=1e-6, lr=0.5, print_value=True)\n",
    "#     enc_time, cpu_time = lc_fit(manager_a, manager_b, max_iter=10, tol=1e-6, lr=0.5, print_value=True)\n",
    "#     end = time.time()\n",
    "    \n",
    "#     rank_list.append(rank.numpy())\n",
    "#     rank_time_rain += middle - start\n",
    "#     model_time_rain += cpu_time\n",
    "#     model_time_enc += enc_time\n",
    "\n",
    "#     AQ = complain_value(manager_a, manager_b, proc.fl_complain, query_data)\n",
    "#     f1 = lc_f1(manager_a, manager_b, proc.x_a_test, proc.x_b_test, proc.y_test)\n",
    "#     AQs.append(float(AQ))\n",
    "#     weighted_f1.append(f1)\n",
    "\n",
    "# print(\"Rank_time:\", rank_time_rain)\n",
    "# print(\"Retrain_cpu_time:\", model_time_rain)\n",
    "# print(\"Retrain_enc_time:\", model_time_enc)\n",
    "\n",
    "# df_rain = pd.DataFrame({\n",
    "#     \"Complain\": np.array(AQs),\n",
    "#     \"F1\": np.array(weighted_f1),\n",
    "#     \"K\": [0] + list(range(step_size, K + step_size, step_size)),\n",
    "#     \"Method\": np.repeat(\"LC_Rain\", len(AQs)),\n",
    "# })\n",
    "# alt.Chart(pd.concat([df_rain])).mark_line().encode(\n",
    "#     alt.X('K:Q', axis=alt.Axis(tickCount=df_rain.shape[0], grid=False)),\n",
    "#     alt.Y(\"Complain:Q\", scale=alt.Scale(domain=[min(AQs),max(AQs)])),\n",
    "#     color = \"Method\"\n",
    "# )"
   ]
  },
  {
   "cell_type": "code",
   "execution_count": 50,
   "metadata": {
    "scrolled": true
   },
   "outputs": [
    {
     "data": {
      "text/html": [
       "\n",
       "<div id=\"altair-viz-db11d860a75f41ce995f9b77351c3f88\"></div>\n",
       "<script type=\"text/javascript\">\n",
       "  (function(spec, embedOpt){\n",
       "    let outputDiv = document.currentScript.previousElementSibling;\n",
       "    if (outputDiv.id !== \"altair-viz-db11d860a75f41ce995f9b77351c3f88\") {\n",
       "      outputDiv = document.getElementById(\"altair-viz-db11d860a75f41ce995f9b77351c3f88\");\n",
       "    }\n",
       "    const paths = {\n",
       "      \"vega\": \"https://cdn.jsdelivr.net/npm//vega@5?noext\",\n",
       "      \"vega-lib\": \"https://cdn.jsdelivr.net/npm//vega-lib?noext\",\n",
       "      \"vega-lite\": \"https://cdn.jsdelivr.net/npm//vega-lite@4.8.1?noext\",\n",
       "      \"vega-embed\": \"https://cdn.jsdelivr.net/npm//vega-embed@6?noext\",\n",
       "    };\n",
       "\n",
       "    function loadScript(lib) {\n",
       "      return new Promise(function(resolve, reject) {\n",
       "        var s = document.createElement('script');\n",
       "        s.src = paths[lib];\n",
       "        s.async = true;\n",
       "        s.onload = () => resolve(paths[lib]);\n",
       "        s.onerror = () => reject(`Error loading script: ${paths[lib]}`);\n",
       "        document.getElementsByTagName(\"head\")[0].appendChild(s);\n",
       "      });\n",
       "    }\n",
       "\n",
       "    function showError(err) {\n",
       "      outputDiv.innerHTML = `<div class=\"error\" style=\"color:red;\">${err}</div>`;\n",
       "      throw err;\n",
       "    }\n",
       "\n",
       "    function displayChart(vegaEmbed) {\n",
       "      vegaEmbed(outputDiv, spec, embedOpt)\n",
       "        .catch(err => showError(`Javascript Error: ${err.message}<br>This usually means there's a typo in your chart specification. See the javascript console for the full traceback.`));\n",
       "    }\n",
       "\n",
       "    if(typeof define === \"function\" && define.amd) {\n",
       "      requirejs.config({paths});\n",
       "      require([\"vega-embed\"], displayChart, err => showError(`Error loading script: ${err.message}`));\n",
       "    } else if (typeof vegaEmbed === \"function\") {\n",
       "      displayChart(vegaEmbed);\n",
       "    } else {\n",
       "      loadScript(\"vega\")\n",
       "        .then(() => loadScript(\"vega-lite\"))\n",
       "        .then(() => loadScript(\"vega-embed\"))\n",
       "        .catch(showError)\n",
       "        .then(() => displayChart(vegaEmbed));\n",
       "    }\n",
       "  })({\"config\": {\"view\": {\"continuousWidth\": 400, \"continuousHeight\": 300}}, \"data\": {\"name\": \"data-bf0fecd319e42d03124beae00a4f0d92\"}, \"mark\": \"line\", \"encoding\": {\"color\": {\"type\": \"nominal\", \"field\": \"Method\"}, \"x\": {\"type\": \"quantitative\", \"axis\": {\"grid\": false, \"tickCount\": 4}, \"field\": \"K\"}, \"y\": {\"type\": \"quantitative\", \"field\": \"F1\", \"scale\": {\"domain\": [0.65, 0.85]}}}, \"$schema\": \"https://vega.github.io/schema/vega-lite/v4.8.1.json\", \"datasets\": {\"data-bf0fecd319e42d03124beae00a4f0d92\": [{\"Complain\": 0.03841668512672189, \"F1\": 0.6818181818181819, \"K\": 0, \"Method\": \"LC_Rain\"}, {\"Complain\": 0.03842810273170477, \"F1\": 0.6818181818181819, \"K\": 10, \"Method\": \"LC_Rain\"}, {\"Complain\": 0.03880062472075227, \"F1\": 0.6818181818181819, \"K\": 20, \"Method\": \"LC_Rain\"}, {\"Complain\": 0.03908315181732172, \"F1\": 0.6818181818181819, \"K\": 30, \"Method\": \"LC_Rain\"}]}}, {\"mode\": \"vega-lite\"});\n",
       "</script>"
      ],
      "text/plain": [
       "alt.Chart(...)"
      ]
     },
     "execution_count": 50,
     "metadata": {},
     "output_type": "execute_result"
    }
   ],
   "source": [
    "alt.Chart(pd.concat([df_rain])).mark_line().encode(\n",
    "    alt.X('K:Q', axis=alt.Axis(tickCount=df_rain.shape[0], grid=False)),\n",
    "    alt.Y(\"F1:Q\", scale=alt.Scale(domain=[0.65, 0.85])),\n",
    "    color = \"Method\"\n",
    ")"
   ]
  },
  {
   "cell_type": "code",
   "execution_count": 10,
   "metadata": {},
   "outputs": [
    {
     "data": {
      "text/plain": [
       "<tf.Tensor: shape=(44,), dtype=int32, numpy=\n",
       "array([0, 0, 0, 0, 0, 0, 0, 1, 1, 0, 0, 0, 0, 0, 0, 0, 0, 0, 0, 0, 0, 0,\n",
       "       1, 0, 0, 0, 0, 0, 0, 0, 0, 0, 0, 1, 0, 0, 1, 0, 0, 0, 0, 1, 1, 0],\n",
       "      dtype=int32)>"
      ]
     },
     "execution_count": 10,
     "metadata": {},
     "output_type": "execute_result"
    }
   ],
   "source": [
    "from mlsql.lc_protocol import report, predict, hessian\n",
    "predict(manager_a, manager_b, proc.x_a_test, proc.x_b_test)"
   ]
  },
  {
   "cell_type": "code",
   "execution_count": 179,
   "metadata": {},
   "outputs": [
    {
     "data": {
      "text/plain": [
       "(array([  4,   5,   8,  28,  44,  54,  66,  72,  78, 132, 139, 150, 163,\n",
       "        164, 173, 194, 200, 207, 213, 235, 239, 244, 291, 303, 306, 318,\n",
       "        319, 328, 338, 352]),)"
      ]
     },
     "execution_count": 179,
     "metadata": {},
     "output_type": "execute_result"
    }
   ],
   "source": [
    "np.where(manager_a.delta.numpy() == 0)"
   ]
  },
  {
   "cell_type": "code",
   "execution_count": 180,
   "metadata": {},
   "outputs": [
    {
     "data": {
      "text/plain": [
       "(array([  4,   5,   8,  28,  44,  54,  66,  72,  78, 132, 139, 150, 163,\n",
       "        164, 173, 194, 200, 207, 213, 235, 239, 244, 291, 303, 306, 318,\n",
       "        319, 328, 338, 352]),)"
      ]
     },
     "execution_count": 180,
     "metadata": {},
     "output_type": "execute_result"
    }
   ],
   "source": [
    "np.where(manager_b.delta.numpy() == 0)"
   ]
  },
  {
   "cell_type": "code",
   "execution_count": 181,
   "metadata": {},
   "outputs": [
    {
     "data": {
      "text/plain": [
       "(array([  3,  24,  26,  29,  33,  38,  48,  62,  66,  72,  75,  79,  95,\n",
       "        103, 123, 153, 155, 158, 166, 187, 235, 245, 257, 277, 279, 297,\n",
       "        313, 319, 333, 348]),)"
      ]
     },
     "execution_count": 181,
     "metadata": {},
     "output_type": "execute_result"
    }
   ],
   "source": [
    "np.where(manager.delta.numpy() == 0)"
   ]
  },
  {
   "cell_type": "code",
   "execution_count": 41,
   "metadata": {},
   "outputs": [
    {
     "data": {
      "text/plain": [
       "6"
      ]
     },
     "execution_count": 41,
     "metadata": {},
     "output_type": "execute_result"
    }
   ],
   "source": [
    "from models.linear_comb import LinearComb\n",
    "from mlsql.utils.utils import pack\n",
    "len(pack(manager_a.variables))"
   ]
  },
  {
   "cell_type": "code",
   "execution_count": 15,
   "metadata": {},
   "outputs": [
    {
     "data": {
      "text/plain": [
       "8"
      ]
     },
     "execution_count": 15,
     "metadata": {},
     "output_type": "execute_result"
    }
   ],
   "source": [
    "manager0_b.egrads().shape[1]"
   ]
  },
  {
   "cell_type": "code",
   "execution_count": null,
   "metadata": {},
   "outputs": [],
   "source": []
  }
 ],
 "metadata": {
  "kernelspec": {
   "display_name": "Python 3",
   "language": "python",
   "name": "python3"
  },
  "language_info": {
   "codemirror_mode": {
    "name": "ipython",
    "version": 3
   },
   "file_extension": ".py",
   "mimetype": "text/x-python",
   "name": "python",
   "nbconvert_exporter": "python",
   "pygments_lexer": "ipython3",
   "version": "3.7.9"
  }
 },
 "nbformat": 4,
 "nbformat_minor": 4
}
