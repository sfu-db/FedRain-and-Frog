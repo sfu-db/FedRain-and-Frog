{
 "cells": [
  {
   "cell_type": "code",
   "execution_count": 1,
   "metadata": {},
   "outputs": [
    {
     "data": {
      "text/plain": [
       "DataTransformerRegistry.enable('default')"
      ]
     },
     "execution_count": 1,
     "metadata": {},
     "output_type": "execute_result"
    }
   ],
   "source": [
    "%load_ext autoreload\n",
    "%autoreload 2\n",
    "%matplotlib inline\n",
    "\n",
    "import sys\n",
    "sys.path.append(\"../\")\n",
    "\n",
    "import gurobipy\n",
    "from json import dumps, loads\n",
    "from time import time\n",
    "\n",
    "import matplotlib.pyplot as plt\n",
    "import numpy as np\n",
    "import pandas as pd\n",
    "from sklearn.linear_model import LogisticRegression as skLogisticRegression\n",
    "from sklearn.metrics import (classification_report, f1_score, precision_score, recall_score)\n",
    "from tqdm import tnrange, trange\n",
    "import tensorflow as tf\n",
    "\n",
    "from mlsql.influence import InfluenceRanker\n",
    "from mlsql.fixer import AutoFixer\n",
    "from mlsql.manager import ModelManagerLM\n",
    "from mlsql.manager_test import ModelManagerTest\n",
    "\n",
    "from models.simple_cnn import SimpleCNN\n",
    "from models.logreg import LogReg\n",
    "from models.linear_comb import LinearComb\n",
    "from models.linear_comb_test import LinearCombTest\n",
    "from processors.breastCancer import BreastCancerCorrProcessor\n",
    "\n",
    "\n",
    "import logging\n",
    "logging.getLogger(\"tensorflow\").setLevel(logging.CRITICAL)\n",
    "\n",
    "import time\n",
    "import altair as alt\n",
    "alt.data_transformers.disable_max_rows()"
   ]
  },
  {
   "cell_type": "code",
   "execution_count": 2,
   "metadata": {},
   "outputs": [],
   "source": [
    "# @tf.function\n",
    "def rank_fix(ranker, fixer, n):\n",
    "    rank = ranker.predict()\n",
    "    fixer.fix(rank, n)\n",
    "    return rank\n",
    "\n",
    "@tf.function\n",
    "def rankit(ranker):\n",
    "    rank = ranker.predict()\n",
    "    return rank\n",
    "\n",
    "\n",
    "@tf.function\n",
    "def fixit(fixer, rank, n):\n",
    "    fixer.fix(rank, n)\n",
    "\n",
    "\n",
    "# @tf.function\n",
    "def train(manager):\n",
    "    manager.fit()"
   ]
  },
  {
   "cell_type": "code",
   "execution_count": 3,
   "metadata": {},
   "outputs": [],
   "source": [
    "# Init\n",
    "# proc = DiabetesProcessor()\n",
    "# model = LogReg(1)\n",
    "# manager0 = ModelManagerLM(proc.x_train, proc.y_train, model, 256)\n",
    "# start = time.time()\n",
    "# manager0.fit(print_value=True, max_iter=2000)\n",
    "# print(time.time() - start)\n",
    "# manager0.report(proc.x_train, proc.y_train, proc.x_test, proc.y_test)"
   ]
  },
  {
   "cell_type": "code",
   "execution_count": 4,
   "metadata": {
    "scrolled": true
   },
   "outputs": [],
   "source": [
    "# Init\n",
    "proc = BreastCancerCorrProcessor()"
   ]
  },
  {
   "cell_type": "code",
   "execution_count": 5,
   "metadata": {},
   "outputs": [
    {
     "name": "stdout",
     "output_type": "stream",
     "text": [
      "SGD loss: tf.Tensor(0.5153446, shape=(), dtype=float32)\n",
      "SGD steps: 16903\n",
      "98.53495836257935\n",
      "Model name: LogReg\n",
      "On Training\n",
      "               precision    recall  f1-score   support\n",
      "\n",
      "         0.0       0.73      0.87      0.80       309\n",
      "         1.0       0.54      0.34      0.42       146\n",
      "\n",
      "    accuracy                           0.70       455\n",
      "   macro avg       0.64      0.60      0.61       455\n",
      "weighted avg       0.67      0.70      0.67       455\n",
      "\n",
      "On Testing\n",
      "               precision    recall  f1-score   support\n",
      "\n",
      "         0.0       0.49      1.00      0.66        24\n",
      "         1.0       1.00      0.24      0.39        33\n",
      "\n",
      "    accuracy                           0.56        57\n",
      "   macro avg       0.74      0.62      0.52        57\n",
      "weighted avg       0.79      0.56      0.50        57\n",
      "\n"
     ]
    }
   ],
   "source": [
    "model = LogReg(1)\n",
    "manager0 = ModelManagerLM(proc.x_train, proc.y_corr, model, 256)\n",
    "start = time.time()\n",
    "manager0.fit(print_value=True, tol=1e-7, lr=0.5, max_iter=50000)\n",
    "print(time.time() - start)\n",
    "manager0.report(proc.x_train, proc.y_corr, proc.x_test, proc.y_test)\n",
    "# manager0.report(proc.x_train, proc.y_corr, proc.x_query, proc.y_query)"
   ]
  },
  {
   "cell_type": "code",
   "execution_count": 51,
   "metadata": {},
   "outputs": [],
   "source": [
    "# K = 2600\n",
    "# corrsel = tf.cast(tf.ones(proc.y_train.shape[0]), dtype='bool')"
   ]
  },
  {
   "cell_type": "code",
   "execution_count": 6,
   "metadata": {},
   "outputs": [
    {
     "name": "stdout",
     "output_type": "stream",
     "text": [
      "146\n"
     ]
    }
   ],
   "source": [
    "# K = 87\n",
    "# corrsel = proc.corrsel\n",
    "# print(len(list(np.where(corrsel)[0])))\n",
    "corrsel = proc.corrsel\n",
    "K = len(list(np.where(corrsel)[0]))\n",
    "print(len(list(np.where(corrsel)[0])))"
   ]
  },
  {
   "cell_type": "code",
   "execution_count": 52,
   "metadata": {
    "scrolled": false
   },
   "outputs": [
    {
     "data": {
      "application/vnd.jupyter.widget-view+json": {
       "model_id": "412fbb66efbb4468989defc23ffd219d",
       "version_major": 2,
       "version_minor": 0
      },
      "text/plain": [
       "  0%|          | 0/8 [00:00<?, ?it/s]"
      ]
     },
     "metadata": {},
     "output_type": "display_data"
    },
    {
     "name": "stdout",
     "output_type": "stream",
     "text": [
      "SGD loss: tf.Tensor(0.5193515, shape=(), dtype=float32)\n",
      "SGD steps: 42\n",
      "SGD loss: tf.Tensor(0.5194956, shape=(), dtype=float32)\n",
      "SGD steps: 54\n",
      "SGD loss: tf.Tensor(0.5169601, shape=(), dtype=float32)\n",
      "SGD steps: 56\n",
      "SGD loss: tf.Tensor(0.52369535, shape=(), dtype=float32)\n",
      "SGD steps: 38\n",
      "SGD loss: tf.Tensor(0.5278279, shape=(), dtype=float32)\n",
      "SGD steps: 36\n",
      "SGD loss: tf.Tensor(0.5305198, shape=(), dtype=float32)\n",
      "SGD steps: 1\n",
      "SGD loss: tf.Tensor(0.531772, shape=(), dtype=float32)\n",
      "SGD steps: 68\n",
      "SGD loss: tf.Tensor(0.53348625, shape=(), dtype=float32)\n",
      "SGD steps: 1\n",
      "Rank_time: 0.08118200302124023\n",
      "Model_time: 2.1296887397766113\n"
     ]
    },
    {
     "data": {
      "text/html": [
       "\n",
       "<div id=\"altair-viz-95543e6eaaca460d9696c376aa8704d4\"></div>\n",
       "<script type=\"text/javascript\">\n",
       "  (function(spec, embedOpt){\n",
       "    let outputDiv = document.currentScript.previousElementSibling;\n",
       "    if (outputDiv.id !== \"altair-viz-95543e6eaaca460d9696c376aa8704d4\") {\n",
       "      outputDiv = document.getElementById(\"altair-viz-95543e6eaaca460d9696c376aa8704d4\");\n",
       "    }\n",
       "    const paths = {\n",
       "      \"vega\": \"https://cdn.jsdelivr.net/npm//vega@5?noext\",\n",
       "      \"vega-lib\": \"https://cdn.jsdelivr.net/npm//vega-lib?noext\",\n",
       "      \"vega-lite\": \"https://cdn.jsdelivr.net/npm//vega-lite@4.8.1?noext\",\n",
       "      \"vega-embed\": \"https://cdn.jsdelivr.net/npm//vega-embed@6?noext\",\n",
       "    };\n",
       "\n",
       "    function loadScript(lib) {\n",
       "      return new Promise(function(resolve, reject) {\n",
       "        var s = document.createElement('script');\n",
       "        s.src = paths[lib];\n",
       "        s.async = true;\n",
       "        s.onload = () => resolve(paths[lib]);\n",
       "        s.onerror = () => reject(`Error loading script: ${paths[lib]}`);\n",
       "        document.getElementsByTagName(\"head\")[0].appendChild(s);\n",
       "      });\n",
       "    }\n",
       "\n",
       "    function showError(err) {\n",
       "      outputDiv.innerHTML = `<div class=\"error\" style=\"color:red;\">${err}</div>`;\n",
       "      throw err;\n",
       "    }\n",
       "\n",
       "    function displayChart(vegaEmbed) {\n",
       "      vegaEmbed(outputDiv, spec, embedOpt)\n",
       "        .catch(err => showError(`Javascript Error: ${err.message}<br>This usually means there's a typo in your chart specification. See the javascript console for the full traceback.`));\n",
       "    }\n",
       "\n",
       "    if(typeof define === \"function\" && define.amd) {\n",
       "      requirejs.config({paths});\n",
       "      require([\"vega-embed\"], displayChart, err => showError(`Error loading script: ${err.message}`));\n",
       "    } else if (typeof vegaEmbed === \"function\") {\n",
       "      displayChart(vegaEmbed);\n",
       "    } else {\n",
       "      loadScript(\"vega\")\n",
       "        .then(() => loadScript(\"vega-lite\"))\n",
       "        .then(() => loadScript(\"vega-embed\"))\n",
       "        .catch(showError)\n",
       "        .then(() => displayChart(vegaEmbed));\n",
       "    }\n",
       "  })({\"config\": {\"view\": {\"continuousWidth\": 400, \"continuousHeight\": 300}}, \"data\": {\"name\": \"data-1cf08e51e893024a3ad5e700161b0231\"}, \"mark\": \"line\", \"encoding\": {\"color\": {\"type\": \"nominal\", \"field\": \"Method\"}, \"x\": {\"type\": \"quantitative\", \"axis\": {\"grid\": false, \"tickCount\": 9}, \"field\": \"K\"}, \"y\": {\"type\": \"quantitative\", \"field\": \"Complain\"}}, \"$schema\": \"https://vega.github.io/schema/vega-lite/v4.8.1.json\", \"datasets\": {\"data-1cf08e51e893024a3ad5e700161b0231\": [{\"F1\": 0.4658356417359187, \"K\": 0, \"Method\": \"Rain\"}, {\"F1\": 0.4658356417359187, \"K\": 20, \"Method\": \"Rain\"}, {\"F1\": 0.5209103840682788, \"K\": 40, \"Method\": \"Rain\"}, {\"F1\": 0.5209103840682788, \"K\": 60, \"Method\": \"Rain\"}, {\"F1\": 0.5209103840682788, \"K\": 80, \"Method\": \"Rain\"}, {\"F1\": 0.5209103840682788, \"K\": 100, \"Method\": \"Rain\"}, {\"F1\": 0.5209103840682788, \"K\": 120, \"Method\": \"Rain\"}, {\"F1\": 0.5209103840682788, \"K\": 140, \"Method\": \"Rain\"}, {\"F1\": 0.5209103840682788, \"K\": 146, \"Method\": \"Rain\"}]}}, {\"mode\": \"vega-lite\"});\n",
       "</script>"
      ],
      "text/plain": [
       "alt.Chart(...)"
      ]
     },
     "execution_count": 52,
     "metadata": {},
     "output_type": "execute_result"
    }
   ],
   "source": [
    "from tqdm.notebook import tnrange, trange\n",
    "manager = ModelManagerLM(proc.x_train, proc.y_corr, LogReg(1), 256)\n",
    "manager.model.set_weights(manager0.model.get_weights())\n",
    "manager.delta = tf.Variable(manager0.delta.value(), name=\"delta\")\n",
    "# ranker = InfluenceRanker(manager=manager, on=proc.complain)\n",
    "from mlsql.loss_ranker import LossRanker\n",
    "ranker = LossRanker(manager=manager_test)\n",
    "fixer = AutoFixer(manager, corrsel, K)\n",
    "\n",
    "AQs = []\n",
    "weighted_f1 = []\n",
    "rank_list = []\n",
    "rank_time_rain = 0\n",
    "model_time_rain = 0\n",
    "# AQ = proc.complain(manager).AQ\n",
    "# f1 = f1_score(proc.y_test.numpy(), manager.model.predict(proc.x_test).numpy(), average='weighted')\n",
    "f1 = f1_score(proc.y_query.numpy(), manager.model.predict(proc.x_query).numpy(), average='weighted')\n",
    "# AQs.append(float(AQ))\n",
    "weighted_f1.append(f1)\n",
    "\n",
    "step_size = 20\n",
    "rain_k = int(np.ceil(K / step_size))\n",
    "for k in trange(0, rain_k):\n",
    "    nfix = min(step_size, K - step_size * k)\n",
    "    assert nfix > 0\n",
    "\n",
    "    start = time.time()\n",
    "    rank = rank_fix(ranker, fixer, nfix)\n",
    "    middle = time.time()\n",
    "    manager.fit(max_iter=5000, print_value=True, lr=0.1, tol=1e-7)\n",
    "    end = time.time()\n",
    "    \n",
    "    rank_list.append(rank.numpy())\n",
    "    rank_time_rain += middle - start\n",
    "    model_time_rain += end - middle\n",
    "\n",
    "    AQ = proc.complain(manager).AQ\n",
    "#     f1 = f1_score(proc.y_test.numpy(), manager.model.predict(proc.x_test).numpy(), average='weighted')\n",
    "    f1 = f1_score(proc.y_query.numpy(), manager.model.predict(proc.x_query).numpy(), average='weighted')\n",
    "    AQs.append(float(AQ))\n",
    "    weighted_f1.append(f1)\n",
    "\n",
    "print(\"Rank_time:\", rank_time_rain)\n",
    "print(\"Model_time:\", model_time_rain)\n",
    "AC = proc.complain(manager).AC\n",
    "\n",
    "df_rain_test = pd.DataFrame({\n",
    "#     \"Complain\": np.array(AQs) - AC,\n",
    "    \"F1\": np.array(weighted_f1),\n",
    "    \"K\": list(range(0, K, step_size)) + [K],\n",
    "    \"Method\": np.repeat(\"Rain\", len(weighted_f1)),\n",
    "})\n",
    "alt.Chart(pd.concat([df_rain_test])).mark_line().encode(\n",
    "    alt.X('K:Q', axis=alt.Axis(tickCount=df_rain_test.shape[0], grid=False)),\n",
    "    alt.Y(\"Complain:Q\"),\n",
    "    color = \"Method\"\n",
    ")"
   ]
  },
  {
   "cell_type": "code",
   "execution_count": 53,
   "metadata": {
    "scrolled": true
   },
   "outputs": [
    {
     "data": {
      "text/html": [
       "\n",
       "<div id=\"altair-viz-e14743188b494902bd8c7f7238a4faa9\"></div>\n",
       "<script type=\"text/javascript\">\n",
       "  (function(spec, embedOpt){\n",
       "    let outputDiv = document.currentScript.previousElementSibling;\n",
       "    if (outputDiv.id !== \"altair-viz-e14743188b494902bd8c7f7238a4faa9\") {\n",
       "      outputDiv = document.getElementById(\"altair-viz-e14743188b494902bd8c7f7238a4faa9\");\n",
       "    }\n",
       "    const paths = {\n",
       "      \"vega\": \"https://cdn.jsdelivr.net/npm//vega@5?noext\",\n",
       "      \"vega-lib\": \"https://cdn.jsdelivr.net/npm//vega-lib?noext\",\n",
       "      \"vega-lite\": \"https://cdn.jsdelivr.net/npm//vega-lite@4.8.1?noext\",\n",
       "      \"vega-embed\": \"https://cdn.jsdelivr.net/npm//vega-embed@6?noext\",\n",
       "    };\n",
       "\n",
       "    function loadScript(lib) {\n",
       "      return new Promise(function(resolve, reject) {\n",
       "        var s = document.createElement('script');\n",
       "        s.src = paths[lib];\n",
       "        s.async = true;\n",
       "        s.onload = () => resolve(paths[lib]);\n",
       "        s.onerror = () => reject(`Error loading script: ${paths[lib]}`);\n",
       "        document.getElementsByTagName(\"head\")[0].appendChild(s);\n",
       "      });\n",
       "    }\n",
       "\n",
       "    function showError(err) {\n",
       "      outputDiv.innerHTML = `<div class=\"error\" style=\"color:red;\">${err}</div>`;\n",
       "      throw err;\n",
       "    }\n",
       "\n",
       "    function displayChart(vegaEmbed) {\n",
       "      vegaEmbed(outputDiv, spec, embedOpt)\n",
       "        .catch(err => showError(`Javascript Error: ${err.message}<br>This usually means there's a typo in your chart specification. See the javascript console for the full traceback.`));\n",
       "    }\n",
       "\n",
       "    if(typeof define === \"function\" && define.amd) {\n",
       "      requirejs.config({paths});\n",
       "      require([\"vega-embed\"], displayChart, err => showError(`Error loading script: ${err.message}`));\n",
       "    } else if (typeof vegaEmbed === \"function\") {\n",
       "      displayChart(vegaEmbed);\n",
       "    } else {\n",
       "      loadScript(\"vega\")\n",
       "        .then(() => loadScript(\"vega-lite\"))\n",
       "        .then(() => loadScript(\"vega-embed\"))\n",
       "        .catch(showError)\n",
       "        .then(() => displayChart(vegaEmbed));\n",
       "    }\n",
       "  })({\"config\": {\"view\": {\"continuousWidth\": 400, \"continuousHeight\": 300}}, \"data\": {\"name\": \"data-1cf08e51e893024a3ad5e700161b0231\"}, \"mark\": \"line\", \"encoding\": {\"color\": {\"type\": \"nominal\", \"field\": \"Method\"}, \"x\": {\"type\": \"quantitative\", \"axis\": {\"grid\": false, \"tickCount\": 9}, \"field\": \"K\"}, \"y\": {\"type\": \"quantitative\", \"field\": \"F1\"}}, \"$schema\": \"https://vega.github.io/schema/vega-lite/v4.8.1.json\", \"datasets\": {\"data-1cf08e51e893024a3ad5e700161b0231\": [{\"F1\": 0.4658356417359187, \"K\": 0, \"Method\": \"Rain\"}, {\"F1\": 0.4658356417359187, \"K\": 20, \"Method\": \"Rain\"}, {\"F1\": 0.5209103840682788, \"K\": 40, \"Method\": \"Rain\"}, {\"F1\": 0.5209103840682788, \"K\": 60, \"Method\": \"Rain\"}, {\"F1\": 0.5209103840682788, \"K\": 80, \"Method\": \"Rain\"}, {\"F1\": 0.5209103840682788, \"K\": 100, \"Method\": \"Rain\"}, {\"F1\": 0.5209103840682788, \"K\": 120, \"Method\": \"Rain\"}, {\"F1\": 0.5209103840682788, \"K\": 140, \"Method\": \"Rain\"}, {\"F1\": 0.5209103840682788, \"K\": 146, \"Method\": \"Rain\"}]}}, {\"mode\": \"vega-lite\"});\n",
       "</script>"
      ],
      "text/plain": [
       "alt.Chart(...)"
      ]
     },
     "execution_count": 53,
     "metadata": {},
     "output_type": "execute_result"
    }
   ],
   "source": [
    "alt.Chart(pd.concat([df_rain_test])).mark_line().encode(\n",
    "    alt.X('K:Q', axis=alt.Axis(tickCount=df_rain_test.shape[0], grid=False)),\n",
    "    alt.Y(\"F1:Q\"),\n",
    "    color = \"Method\"\n",
    ")"
   ]
  },
  {
   "cell_type": "code",
   "execution_count": 54,
   "metadata": {
    "scrolled": true
   },
   "outputs": [
    {
     "data": {
      "text/plain": [
       "array([0.        , 0.        , 0.        , 0.        , 0.00684932,\n",
       "       0.01369863, 0.02054795, 0.02054795, 0.02054795, 0.02054795,\n",
       "       0.02054795, 0.02739726, 0.02739726, 0.03424658, 0.03424658,\n",
       "       0.03424658, 0.04109589, 0.04794521, 0.04794521, 0.04794521,\n",
       "       0.04794521, 0.04794521, 0.05479452, 0.06164384, 0.06164384,\n",
       "       0.06164384, 0.06164384, 0.06164384, 0.06164384, 0.06164384,\n",
       "       0.06164384, 0.06164384, 0.06164384, 0.06849315, 0.07534247,\n",
       "       0.07534247, 0.07534247, 0.08219178, 0.0890411 , 0.0890411 ,\n",
       "       0.0890411 , 0.09589041, 0.09589041, 0.09589041, 0.09589041,\n",
       "       0.10273973, 0.10958904, 0.10958904, 0.10958904, 0.10958904,\n",
       "       0.10958904, 0.11643836, 0.11643836, 0.12328767, 0.13013699,\n",
       "       0.1369863 , 0.1369863 , 0.1369863 , 0.1369863 , 0.14383562,\n",
       "       0.14383562, 0.14383562, 0.14383562, 0.14383562, 0.15068493,\n",
       "       0.15068493, 0.15068493, 0.15753425, 0.16438356, 0.16438356,\n",
       "       0.16438356, 0.17123288, 0.17123288, 0.17123288, 0.17123288,\n",
       "       0.17808219, 0.18493151, 0.18493151, 0.18493151, 0.18493151,\n",
       "       0.19178082, 0.19863014, 0.19863014, 0.19863014, 0.19863014,\n",
       "       0.19863014, 0.19863014, 0.19863014, 0.19863014, 0.19863014,\n",
       "       0.19863014, 0.19863014, 0.19863014, 0.19863014, 0.20547945,\n",
       "       0.21232877, 0.21232877, 0.21232877, 0.21232877, 0.21917808,\n",
       "       0.21917808, 0.21917808, 0.21917808, 0.21917808, 0.21917808,\n",
       "       0.21917808, 0.2260274 , 0.23287671, 0.23972603, 0.24657534,\n",
       "       0.24657534, 0.24657534, 0.25342466, 0.26027397, 0.26027397,\n",
       "       0.26712329, 0.26712329, 0.26712329, 0.2739726 , 0.2739726 ,\n",
       "       0.2739726 , 0.2739726 , 0.2739726 , 0.2739726 , 0.2739726 ,\n",
       "       0.2739726 , 0.2739726 , 0.2739726 , 0.2739726 , 0.2739726 ,\n",
       "       0.2739726 , 0.2739726 , 0.2739726 , 0.2739726 , 0.28082192,\n",
       "       0.28767123, 0.28767123, 0.28767123, 0.28767123, 0.28767123,\n",
       "       0.29452055, 0.30136986, 0.30821918, 0.30821918, 0.30821918,\n",
       "       0.30821918])"
      ]
     },
     "execution_count": 54,
     "metadata": {},
     "output_type": "execute_result"
    }
   ],
   "source": [
    "fixer.recall_k()"
   ]
  },
  {
   "cell_type": "code",
   "execution_count": 55,
   "metadata": {},
   "outputs": [
    {
     "data": {
      "text/plain": [
       "[0.4658356417359187,\n",
       " 0.4658356417359187,\n",
       " 0.5209103840682788,\n",
       " 0.5209103840682788,\n",
       " 0.5209103840682788,\n",
       " 0.5209103840682788,\n",
       " 0.5209103840682788,\n",
       " 0.5209103840682788,\n",
       " 0.5209103840682788]"
      ]
     },
     "execution_count": 55,
     "metadata": {},
     "output_type": "execute_result"
    }
   ],
   "source": [
    "weighted_f1"
   ]
  },
  {
   "cell_type": "code",
   "execution_count": 44,
   "metadata": {},
   "outputs": [
    {
     "name": "stdout",
     "output_type": "stream",
     "text": [
      "SGD loss: tf.Tensor(0.099993445, shape=(), dtype=float32)\n",
      "SGD steps: 99999\n",
      "843.69873046875\n",
      "Model name: LinearCombTest\n",
      "On Training\n",
      "               precision    recall  f1-score   support\n",
      "\n",
      "         0.0       0.68      1.00      0.81       309\n",
      "         1.0       0.00      0.00      0.00       146\n",
      "\n",
      "    accuracy                           0.68       455\n",
      "   macro avg       0.34      0.50      0.40       455\n",
      "weighted avg       0.46      0.68      0.55       455\n",
      "\n",
      "On Testing\n",
      "               precision    recall  f1-score   support\n",
      "\n",
      "         0.0       0.42      1.00      0.59        24\n",
      "         1.0       0.00      0.00      0.00        33\n",
      "\n",
      "    accuracy                           0.42        57\n",
      "   macro avg       0.21      0.50      0.30        57\n",
      "weighted avg       0.18      0.42      0.25        57\n",
      "\n"
     ]
    }
   ],
   "source": [
    "# LinearCombTest\n",
    "model = LinearCombTest(1)\n",
    "manager_test0 = ModelManagerTest(proc.x_a_train, proc.x_b_train, proc.y_corr, model, 256)\n",
    "start = time.time()\n",
    "# tol=1e-7, lr=0.5\n",
    "manager_test0.fit(print_value=True, tol=1e-10, lr=0.1, max_iter=100000)\n",
    "print(time.time() - start)\n",
    "manager_test0.report(proc.x_a_train, proc.x_b_train, proc.y_corr, proc.x_a_test, proc.x_b_test, proc.y_test)\n",
    "# manager_test0.report(proc.x_a_train, proc.x_b_train, proc.y_corr, proc.x_a_query, proc.x_b_query, proc.y_query)"
   ]
  },
  {
   "cell_type": "code",
   "execution_count": 45,
   "metadata": {},
   "outputs": [
    {
     "name": "stdout",
     "output_type": "stream",
     "text": [
      "146\n"
     ]
    },
    {
     "data": {
      "text/plain": [
       "146"
      ]
     },
     "execution_count": 45,
     "metadata": {},
     "output_type": "execute_result"
    }
   ],
   "source": [
    "corrsel = proc.corrsel\n",
    "K = len(list(np.where(corrsel)[0]))\n",
    "print(len(list(np.where(corrsel)[0])))\n",
    "K"
   ]
  },
  {
   "cell_type": "code",
   "execution_count": 35,
   "metadata": {},
   "outputs": [
    {
     "name": "stderr",
     "output_type": "stream",
     "text": [
      "  7%|▋         | 1/15 [01:33<21:54, 93.88s/it]"
     ]
    },
    {
     "name": "stdout",
     "output_type": "stream",
     "text": [
      "SGD loss: tf.Tensor(0.10992839, shape=(), dtype=float32)\n",
      "SGD steps: 11008\n"
     ]
    },
    {
     "name": "stderr",
     "output_type": "stream",
     "text": [
      "\r",
      " 13%|█▎        | 2/15 [15:14<1:52:56, 521.25s/it]"
     ]
    },
    {
     "name": "stdout",
     "output_type": "stream",
     "text": [
      "SGD loss: tf.Tensor(0.10094035, shape=(), dtype=float32)\n",
      "SGD steps: 99999\n"
     ]
    },
    {
     "name": "stderr",
     "output_type": "stream",
     "text": [
      "\r",
      " 20%|██        | 3/15 [28:55<2:11:39, 658.26s/it]"
     ]
    },
    {
     "name": "stdout",
     "output_type": "stream",
     "text": [
      "SGD loss: tf.Tensor(0.09323615, shape=(), dtype=float32)\n",
      "SGD steps: 99999\n"
     ]
    },
    {
     "name": "stderr",
     "output_type": "stream",
     "text": [
      "\r",
      " 27%|██▋       | 4/15 [34:13<1:36:04, 524.01s/it]"
     ]
    },
    {
     "name": "stdout",
     "output_type": "stream",
     "text": [
      "SGD loss: tf.Tensor(0.08821803, shape=(), dtype=float32)\n",
      "SGD steps: 39040\n"
     ]
    },
    {
     "name": "stderr",
     "output_type": "stream",
     "text": [
      "\r",
      " 33%|███▎      | 5/15 [34:31<56:54, 341.44s/it]  "
     ]
    },
    {
     "name": "stdout",
     "output_type": "stream",
     "text": [
      "SGD loss: tf.Tensor(0.084162325, shape=(), dtype=float32)\n",
      "SGD steps: 2187\n"
     ]
    },
    {
     "name": "stderr",
     "output_type": "stream",
     "text": [
      "\r",
      " 40%|████      | 6/15 [44:23<1:04:00, 426.76s/it]"
     ]
    },
    {
     "name": "stdout",
     "output_type": "stream",
     "text": [
      "SGD loss: tf.Tensor(0.07789438, shape=(), dtype=float32)\n",
      "SGD steps: 72552\n"
     ]
    },
    {
     "name": "stderr",
     "output_type": "stream",
     "text": [
      "\r",
      " 47%|████▋     | 7/15 [44:53<39:35, 296.99s/it]  "
     ]
    },
    {
     "name": "stdout",
     "output_type": "stream",
     "text": [
      "SGD loss: tf.Tensor(0.0730991, shape=(), dtype=float32)\n",
      "SGD steps: 3624\n"
     ]
    },
    {
     "name": "stderr",
     "output_type": "stream",
     "text": [
      "\r",
      " 53%|█████▎    | 8/15 [45:10<24:15, 207.86s/it]"
     ]
    },
    {
     "name": "stdout",
     "output_type": "stream",
     "text": [
      "SGD loss: tf.Tensor(0.06784919, shape=(), dtype=float32)\n",
      "SGD steps: 2084\n"
     ]
    },
    {
     "name": "stderr",
     "output_type": "stream",
     "text": [
      "\r",
      " 60%|██████    | 9/15 [50:19<23:57, 239.53s/it]"
     ]
    },
    {
     "name": "stdout",
     "output_type": "stream",
     "text": [
      "SGD loss: tf.Tensor(0.061487176, shape=(), dtype=float32)\n",
      "SGD steps: 38431\n"
     ]
    },
    {
     "name": "stderr",
     "output_type": "stream",
     "text": [
      "\r",
      " 67%|██████▋   | 10/15 [50:38<14:16, 171.24s/it]"
     ]
    },
    {
     "name": "stdout",
     "output_type": "stream",
     "text": [
      "SGD loss: tf.Tensor(0.05522661, shape=(), dtype=float32)\n",
      "SGD steps: 2196\n"
     ]
    },
    {
     "name": "stderr",
     "output_type": "stream",
     "text": [
      "\r",
      " 73%|███████▎  | 11/15 [50:57<08:19, 124.81s/it]"
     ]
    },
    {
     "name": "stdout",
     "output_type": "stream",
     "text": [
      "SGD loss: tf.Tensor(0.048220742, shape=(), dtype=float32)\n",
      "SGD steps: 2340\n"
     ]
    },
    {
     "name": "stderr",
     "output_type": "stream",
     "text": [
      "\r",
      " 80%|████████  | 12/15 [51:22<04:43, 94.51s/it] "
     ]
    },
    {
     "name": "stdout",
     "output_type": "stream",
     "text": [
      "SGD loss: tf.Tensor(0.040305015, shape=(), dtype=float32)\n",
      "SGD steps: 3019\n"
     ]
    },
    {
     "name": "stderr",
     "output_type": "stream",
     "text": [
      "\r",
      " 87%|████████▋ | 13/15 [51:46<02:26, 73.01s/it]"
     ]
    },
    {
     "name": "stdout",
     "output_type": "stream",
     "text": [
      "SGD loss: tf.Tensor(0.031273864, shape=(), dtype=float32)\n",
      "SGD steps: 2882\n"
     ]
    },
    {
     "name": "stderr",
     "output_type": "stream",
     "text": [
      "\r",
      " 93%|█████████▎| 14/15 [52:26<01:03, 63.16s/it]"
     ]
    },
    {
     "name": "stdout",
     "output_type": "stream",
     "text": [
      "SGD loss: tf.Tensor(0.020918112, shape=(), dtype=float32)\n",
      "SGD steps: 5031\n"
     ]
    },
    {
     "name": "stderr",
     "output_type": "stream",
     "text": [
      "100%|██████████| 15/15 [53:17<00:00, 213.17s/it]"
     ]
    },
    {
     "name": "stdout",
     "output_type": "stream",
     "text": [
      "SGD loss: tf.Tensor(0.013923288, shape=(), dtype=float32)\n",
      "SGD steps: 6361\n",
      "Rank_time: 0.12161827087402344\n",
      "Model_time: 3197.3330433368683\n"
     ]
    },
    {
     "name": "stderr",
     "output_type": "stream",
     "text": [
      "\n"
     ]
    },
    {
     "ename": "NameError",
     "evalue": "name 'AQs' is not defined",
     "output_type": "error",
     "traceback": [
      "\u001b[0;31m---------------------------------------------------------------------------\u001b[0m",
      "\u001b[0;31mNameError\u001b[0m                                 Traceback (most recent call last)",
      "\u001b[0;32m<ipython-input-35-2d2a63839f0a>\u001b[0m in \u001b[0;36m<module>\u001b[0;34m\u001b[0m\n\u001b[1;32m     49\u001b[0m     \u001b[0;34m\"F1\"\u001b[0m\u001b[0;34m:\u001b[0m \u001b[0mnp\u001b[0m\u001b[0;34m.\u001b[0m\u001b[0marray\u001b[0m\u001b[0;34m(\u001b[0m\u001b[0mweighted_f1\u001b[0m\u001b[0;34m)\u001b[0m\u001b[0;34m,\u001b[0m\u001b[0;34m\u001b[0m\u001b[0;34m\u001b[0m\u001b[0m\n\u001b[1;32m     50\u001b[0m     \u001b[0;34m\"K\"\u001b[0m\u001b[0;34m:\u001b[0m \u001b[0mlist\u001b[0m\u001b[0;34m(\u001b[0m\u001b[0mrange\u001b[0m\u001b[0;34m(\u001b[0m\u001b[0;36m0\u001b[0m\u001b[0;34m,\u001b[0m \u001b[0mK\u001b[0m\u001b[0;34m,\u001b[0m \u001b[0mstep_size\u001b[0m\u001b[0;34m)\u001b[0m\u001b[0;34m)\u001b[0m \u001b[0;34m+\u001b[0m \u001b[0;34m[\u001b[0m\u001b[0mK\u001b[0m\u001b[0;34m]\u001b[0m\u001b[0;34m,\u001b[0m\u001b[0;34m\u001b[0m\u001b[0;34m\u001b[0m\u001b[0m\n\u001b[0;32m---> 51\u001b[0;31m     \u001b[0;34m\"Method\"\u001b[0m\u001b[0;34m:\u001b[0m \u001b[0mnp\u001b[0m\u001b[0;34m.\u001b[0m\u001b[0mrepeat\u001b[0m\u001b[0;34m(\u001b[0m\u001b[0;34m\"Rain\"\u001b[0m\u001b[0;34m,\u001b[0m \u001b[0mlen\u001b[0m\u001b[0;34m(\u001b[0m\u001b[0mAQs\u001b[0m\u001b[0;34m)\u001b[0m\u001b[0;34m)\u001b[0m\u001b[0;34m,\u001b[0m\u001b[0;34m\u001b[0m\u001b[0;34m\u001b[0m\u001b[0m\n\u001b[0m\u001b[1;32m     52\u001b[0m })\n\u001b[1;32m     53\u001b[0m alt.Chart(pd.concat([df_rain_test])).mark_line().encode(\n",
      "\u001b[0;31mNameError\u001b[0m: name 'AQs' is not defined"
     ]
    }
   ],
   "source": [
    "manager_test = ModelManagerTest(proc.x_a_train, proc.x_b_train, proc.y_corr, LinearCombTest(1), 256)\n",
    "manager_test.model.set_weights(manager_test0.model.get_weights())\n",
    "manager_test.delta = tf.Variable(manager_test0.delta.value(), name=\"delta\")\n",
    "# ranker = InfluenceRanker(manager=manager_test, on=proc.test_complain)\n",
    "from mlsql.loss_ranker import LossRanker\n",
    "ranker = LossRanker(manager=manager_test)\n",
    "fixer = AutoFixer(manager_test, proc.corrsel, K)\n",
    "\n",
    "# AQs = []\n",
    "weighted_f1 = []\n",
    "rank_list = []\n",
    "rank_time_rain = 0\n",
    "model_time_rain = 0\n",
    "# AQ = proc.test_complain(manager_test).AQ\n",
    "# f1 = f1_score(proc.y_test.numpy(), manager.model.predict(proc.x_test).numpy(), average='weighted')\n",
    "f1 = f1_score(proc.y_query.numpy(), manager_test.model.predict(proc.x_a_query, proc.x_b_query).numpy(), average='weighted')\n",
    "# AQs.append(float(AQ))\n",
    "weighted_f1.append(f1)\n",
    "\n",
    "step_size = 10\n",
    "rain_k = int(np.ceil(K / step_size))\n",
    "for k in trange(0, rain_k):\n",
    "    nfix = min(step_size, K - step_size * k)\n",
    "    assert nfix > 0\n",
    "\n",
    "    start = time.time()\n",
    "    rank = rank_fix(ranker, fixer, nfix)\n",
    "    middle = time.time()\n",
    "    # tol=1e-7, lr=0.5\n",
    "    manager_test.fit(max_iter=100000, tol=1e-10, lr=0.1, print_value=True)\n",
    "    end = time.time()\n",
    "    \n",
    "    rank_list.append(rank.numpy())\n",
    "    rank_time_rain += middle - start\n",
    "    model_time_rain += end - middle\n",
    "\n",
    "#     AQ = proc.test_complain(manager_test).AQ\n",
    "    f1 = f1_score(proc.y_test.numpy(), manager_test.model.predict(proc.x_a_test, proc.x_b_test).numpy(), average='weighted')\n",
    "#     f1 = f1_score(proc.y_query.numpy(), manager_test.model.predict(proc.x_a_query, proc.x_b_query).numpy(), average='weighted')\n",
    "#     AQs.append(float(AQ))\n",
    "    weighted_f1.append(f1)\n",
    "\n",
    "print(\"Rank_time:\", rank_time_rain)\n",
    "print(\"Model_time:\", model_time_rain)\n",
    "AC = proc.test_complain(manager_test).AC\n",
    "\n",
    "df_rain_test = pd.DataFrame({\n",
    "#     \"Complain\": np.array(AQs) - AC,\n",
    "    \"F1\": np.array(weighted_f1),\n",
    "    \"K\": list(range(0, K, step_size)) + [K],\n",
    "    \"Method\": np.repeat(\"Rain\", len(weighted_f1)),\n",
    "})\n",
    "alt.Chart(pd.concat([df_rain_test])).mark_line().encode(\n",
    "    alt.X('K:Q', axis=alt.Axis(tickCount=df_rain_test.shape[0], grid=False)),\n",
    "    color = \"Method\"\n",
    ")"
   ]
  },
  {
   "cell_type": "code",
   "execution_count": 43,
   "metadata": {},
   "outputs": [
    {
     "name": "stdout",
     "output_type": "stream",
     "text": [
      "Model name: LinearCombTest\n",
      "On Training\n",
      "               precision    recall  f1-score   support\n",
      "\n",
      "         0.0       0.68      1.00      0.81       309\n",
      "         1.0       0.00      0.00      0.00       146\n",
      "\n",
      "    accuracy                           0.68       455\n",
      "   macro avg       0.34      0.50      0.40       455\n",
      "weighted avg       0.46      0.68      0.55       455\n",
      "\n",
      "On Testing\n",
      "               precision    recall  f1-score   support\n",
      "\n",
      "         0.0       0.42      1.00      0.59        24\n",
      "         1.0       0.00      0.00      0.00        33\n",
      "\n",
      "    accuracy                           0.42        57\n",
      "   macro avg       0.21      0.50      0.30        57\n",
      "weighted avg       0.18      0.42      0.25        57\n",
      "\n"
     ]
    },
    {
     "name": "stderr",
     "output_type": "stream",
     "text": [
      "/home/yejia/anaconda3/envs/myenv/lib/python3.7/site-packages/sklearn/metrics/_classification.py:1221: UndefinedMetricWarning: Precision and F-score are ill-defined and being set to 0.0 in labels with no predicted samples. Use `zero_division` parameter to control this behavior.\n",
      "  _warn_prf(average, modifier, msg_start, len(result))\n"
     ]
    }
   ],
   "source": [
    "manager_test.report(proc.x_a_train, proc.x_b_train, proc.y_corr, proc.x_a_test, proc.x_b_test, proc.y_test)"
   ]
  },
  {
   "cell_type": "code",
   "execution_count": 36,
   "metadata": {},
   "outputs": [
    {
     "data": {
      "text/plain": [
       "array([0.00684932, 0.01369863, 0.02054795, 0.02739726, 0.03424658,\n",
       "       0.04109589, 0.04794521, 0.05479452, 0.06164384, 0.06849315,\n",
       "       0.06849315, 0.06849315, 0.06849315, 0.06849315, 0.06849315,\n",
       "       0.06849315, 0.06849315, 0.06849315, 0.06849315, 0.06849315,\n",
       "       0.06849315, 0.06849315, 0.06849315, 0.06849315, 0.06849315,\n",
       "       0.06849315, 0.06849315, 0.06849315, 0.06849315, 0.06849315,\n",
       "       0.06849315, 0.06849315, 0.06849315, 0.06849315, 0.06849315,\n",
       "       0.06849315, 0.06849315, 0.06849315, 0.06849315, 0.06849315,\n",
       "       0.06849315, 0.06849315, 0.06849315, 0.06849315, 0.06849315,\n",
       "       0.06849315, 0.06849315, 0.06849315, 0.06849315, 0.06849315,\n",
       "       0.06849315, 0.06849315, 0.06849315, 0.06849315, 0.06849315,\n",
       "       0.06849315, 0.06849315, 0.06849315, 0.06849315, 0.06849315,\n",
       "       0.06849315, 0.06849315, 0.06849315, 0.06849315, 0.06849315,\n",
       "       0.06849315, 0.06849315, 0.06849315, 0.06849315, 0.06849315,\n",
       "       0.06849315, 0.06849315, 0.06849315, 0.06849315, 0.06849315,\n",
       "       0.06849315, 0.06849315, 0.06849315, 0.06849315, 0.06849315,\n",
       "       0.06849315, 0.06849315, 0.06849315, 0.06849315, 0.06849315,\n",
       "       0.06849315, 0.06849315, 0.06849315, 0.06849315, 0.06849315,\n",
       "       0.06849315, 0.06849315, 0.06849315, 0.06849315, 0.06849315,\n",
       "       0.06849315, 0.06849315, 0.06849315, 0.06849315, 0.06849315,\n",
       "       0.06849315, 0.06849315, 0.06849315, 0.06849315, 0.06849315,\n",
       "       0.06849315, 0.06849315, 0.06849315, 0.06849315, 0.06849315,\n",
       "       0.06849315, 0.06849315, 0.06849315, 0.06849315, 0.06849315,\n",
       "       0.06849315, 0.06849315, 0.06849315, 0.06849315, 0.06849315,\n",
       "       0.06849315, 0.06849315, 0.06849315, 0.06849315, 0.06849315,\n",
       "       0.06849315, 0.06849315, 0.06849315, 0.06849315, 0.06849315,\n",
       "       0.06849315, 0.06849315, 0.06849315, 0.06849315, 0.06849315,\n",
       "       0.06849315, 0.06849315, 0.06849315, 0.06849315, 0.06849315,\n",
       "       0.06849315, 0.06849315, 0.06849315, 0.06849315, 0.06849315,\n",
       "       0.06849315])"
      ]
     },
     "execution_count": 36,
     "metadata": {},
     "output_type": "execute_result"
    }
   ],
   "source": [
    "fixer.recall_k()"
   ]
  },
  {
   "cell_type": "code",
   "execution_count": 38,
   "metadata": {},
   "outputs": [
    {
     "data": {
      "text/plain": [
       "0.24951267056530213"
      ]
     },
     "execution_count": 38,
     "metadata": {},
     "output_type": "execute_result"
    }
   ],
   "source": [
    "f1_score(proc.y_test.numpy(), manager_test.model.predict(proc.x_a_test, proc.x_b_test).numpy(), average='weighted')"
   ]
  },
  {
   "cell_type": "code",
   "execution_count": null,
   "metadata": {},
   "outputs": [],
   "source": [
    "# from mlsql.lc_protocol import fit as lc_fit\n",
    "# from mlsql.lc_protocol import fit_test as lc_fit_test\n",
    "# from mlsql.lc_protocol import report as lc_report\n",
    "# from models.linear_comb import LinearComb\n",
    "# model0_a = LinearComb(1)\n",
    "# manager0_a = ModelManagerLM(proc.x_a_train, proc.y_train, model0_a, 256)\n",
    "# model0_b = LinearComb(1)\n",
    "# manager0_b = ModelManagerLM(proc.x_b_train, proc.y_train, model0_b, 256)\n",
    "# # enc_time, cpu_time = lc_fit_test(manager0_a, manager0_b, max_iter=2000, tol=1e-6, lr=0.5, print_value=True)\n",
    "# enc_time, cpu_time = lc_fit(manager0_a, manager0_b, max_iter=1000, tol=1e-6, lr=0.5, print_value=True)\n",
    "# print(enc_time, cpu_time)\n",
    "# lc_report(manager0_a, manager0_b, proc.x_a_train, proc.x_b_train, proc.y_train, \n",
    "#           proc.x_a_test, proc.x_b_test, proc.y_test)"
   ]
  },
  {
   "cell_type": "code",
   "execution_count": null,
   "metadata": {},
   "outputs": [],
   "source": [
    "from mlsql.lc_protocol import fit as lc_fit\n",
    "from mlsql.lc_protocol import fit_test as lc_fit_test\n",
    "from mlsql.lc_protocol import report as lc_report\n",
    "from models.linear_comb import LinearComb\n",
    "model0_a = LinearComb(1)\n",
    "manager0_a = ModelManagerLM(proc.x_a_train, proc.y_corr, model0_a, 256)\n",
    "model0_b = LinearComb(1)\n",
    "manager0_b = ModelManagerLM(proc.x_b_train, proc.y_corr, model0_b, 256)\n",
    "# enc_time, cpu_time = lc_fit_test(manager0_a, manager0_b, max_iter=2000, tol=1e-6, lr=0.5, print_value=True)\n",
    "enc_time, cpu_time = lc_fit(manager0_a, manager0_b, max_iter=20000, tol=1e-7, lr=0.5, print_value=True)\n",
    "print(enc_time, cpu_time)\n",
    "lc_report(manager0_a, manager0_b, proc.x_a_train, proc.x_b_train, proc.y_corr, \n",
    "          proc.x_a_test, proc.x_b_test, proc.y_test)\n",
    "lc_report(manager0_a, manager0_b, proc.x_a_train, proc.x_b_train, proc.y_corr, \n",
    "          proc.x_a_query, proc.x_b_query, proc.y_query)"
   ]
  },
  {
   "cell_type": "code",
   "execution_count": null,
   "metadata": {},
   "outputs": [],
   "source": [
    "from mlsql.lc_protocol import f1 as lc_f1\n",
    "from mlsql.lc_protocol import rank_fix as lc_rank_fix\n",
    "from mlsql.lc_protocol import complain_value\n",
    "\n",
    "model_a = LinearComb(1)\n",
    "manager_a = ModelManagerLM(proc.x_a_train, proc.y_corr, model_a, 256)\n",
    "manager_a.model.set_weights(model0_a.get_weights())\n",
    "manager_a.delta = tf.Variable(manager0_a.delta.value(), name=\"delta\")\n",
    "model_b = LinearComb(1)\n",
    "manager_b = ModelManagerLM(proc.x_b_train, proc.y_corr, model_b, 256)\n",
    "manager_b.model.set_weights(model0_b.get_weights())\n",
    "manager_b.delta = tf.Variable(manager0_b.delta.value(), name=\"delta\")\n",
    "\n",
    "fixer_a = AutoFixer(manager_a, corrsel, K)\n",
    "fixer_b = AutoFixer(manager_b, corrsel, K)\n",
    "\n",
    "AQs = []\n",
    "weighted_f1 = []\n",
    "rank_list = []\n",
    "rank_time_rain = 0\n",
    "model_time_enc, model_time_rain = 0, 0\n",
    "query_data = proc.query_data()\n",
    "AQ = proc.lc_complain(manager_a, manager_b).AQ\n",
    "# AQ = complain_value(manager_a, manager_b, proc.fl_complain, query_data)\n",
    "# f1 = lc_f1(manager_a, manager_b, proc.x_a_test, proc.x_b_test, proc.y_test)\n",
    "f1 = lc_f1(manager_a, manager_b, proc.x_a_query, proc.x_b_query, proc.y_query)\n",
    "AQs.append(float(AQ))\n",
    "weighted_f1.append(f1)\n",
    "\n",
    "step_size = 10\n",
    "rain_k = int(np.ceil(K / step_size))\n",
    "for k in trange(0, rain_k):\n",
    "    nfix = min(step_size, K - step_size * k)\n",
    "    assert nfix > 0\n",
    "\n",
    "    start = time.time()\n",
    "#     rank = lc_rank_fix(fixer_a, fixer_b, nfix, manager_a, manager_b, proc.lc_complain, query_data)\n",
    "    rank = lc_rank_fix(fixer_a, fixer_b, nfix, manager_a, manager_b, proc.fl_complain, query_data)\n",
    "    middle = time.time()\n",
    "#     enc_time, cpu_time = lc_fit_test(manager_a, manager_b, max_iter=1000, tol=1e-6, lr=0.5, print_value=True)\n",
    "    enc_time, cpu_time = lc_fit(manager_a, manager_b, max_iter=1000, tol=1e-7, lr=0.5, print_value=True)\n",
    "    end = time.time()\n",
    "    \n",
    "    rank_list.append(rank.numpy())\n",
    "    rank_time_rain += middle - start\n",
    "    model_time_rain += cpu_time\n",
    "    model_time_enc += enc_time\n",
    "\n",
    "    AQ = proc.lc_complain(manager_a, manager_b).AQ\n",
    "#     AQ = complain_value(manager_a, manager_b, proc.fl_complain, query_data)\n",
    "#     f1 = lc_f1(manager_a, manager_b, proc.x_a_test, proc.x_b_test, proc.y_test)\n",
    "    f1 = lc_f1(manager_a, manager_b, proc.x_a_query, proc.x_b_query, proc.y_query)\n",
    "    AQs.append(float(AQ))\n",
    "    weighted_f1.append(f1)\n",
    "\n",
    "print(\"Rank_time:\", rank_time_rain)\n",
    "print(\"Retrain_cpu_time:\", model_time_rain)\n",
    "print(\"Retrain_enc_time:\", model_time_enc)\n",
    "\n",
    "df_rain = pd.DataFrame({\n",
    "    \"Complain\": np.array(AQs) - AC,\n",
    "    \"F1\": np.array(weighted_f1),\n",
    "    \"K\": list(range(0, K, step_size)) + [K],\n",
    "    \"Method\": np.repeat(\"LC_Rain\", len(AQs)),\n",
    "})\n",
    "alt.Chart(pd.concat([df_rain])).mark_line().encode(\n",
    "    alt.X('K:Q', axis=alt.Axis(tickCount=df_rain.shape[0], grid=False)),\n",
    "    alt.Y(\"Complain:Q\"),\n",
    "    color = \"Method\"\n",
    ")"
   ]
  },
  {
   "cell_type": "code",
   "execution_count": null,
   "metadata": {},
   "outputs": [],
   "source": [
    "AQs"
   ]
  },
  {
   "cell_type": "code",
   "execution_count": 31,
   "metadata": {},
   "outputs": [],
   "source": [
    "# fixer_a.recall_k()"
   ]
  },
  {
   "cell_type": "code",
   "execution_count": 27,
   "metadata": {},
   "outputs": [
    {
     "name": "stdout",
     "output_type": "stream",
     "text": [
      "[17, 22, 39, 73, 93, 122, 129, 130, 133, 166, 185, 191, 243, 248, 262, 270, 272, 276, 283, 298, 313, 331, 339, 357, 397, 412, 427, 438, 450]\n",
      "[68, 74, 79, 83, 92, 125, 131, 146, 169, 170, 182, 191, 198, 217, 219, 238, 245, 248, 251, 294, 308, 321, 340, 350, 367, 400, 436, 437, 444]\n"
     ]
    }
   ],
   "source": [
    "print(sorted(fixer_a.deletions.numpy()))\n",
    "print(list(np.where(corrsel)[0]))"
   ]
  },
  {
   "cell_type": "code",
   "execution_count": null,
   "metadata": {
    "scrolled": true
   },
   "outputs": [],
   "source": [
    "alt.Chart(pd.concat([df_rain])).mark_line().encode(\n",
    "    alt.X('K:Q', axis=alt.Axis(tickCount=df_rain.shape[0], grid=False)),\n",
    "    alt.Y(\"F1:Q\"),\n",
    "    color = \"Method\"\n",
    ")"
   ]
  },
  {
   "cell_type": "code",
   "execution_count": null,
   "metadata": {
    "scrolled": true
   },
   "outputs": [],
   "source": [
    "K = 210\n",
    "step_size = 10\n",
    "AQs = [-0.16054906056013812, -0.15944249602805974, -0.1580060542769359, -0.15719313225969206, \n",
    "       -0.15582570537932483, -0.1567545207834361, -0.15714041809657475, -0.1569623401963131, \n",
    "       -0.15633308345656335, -0.15564630866652324, -0.15353626425437816, -0.1547844818297688, \n",
    "       -0.15538986484225104, -0.15167052494689795, -0.14868695509097463, -0.14861514040232315, \n",
    "       -0.15188442283612708, -0.15251549676939935, -0.153599294588957, -0.15507196712521656, \n",
    "       -0.15592721175194144, -0.1586298157054136][:16]\n",
    "F1 = [0.6959071067570164, 0.7307927546459656, 0.7410932220234546, 0.7533179132935328, \n",
    "      0.7619985710883543, 0.7645716278311145, 0.7670189931472592, 0.7661391240338609, \n",
    "      0.7661391240338609, 0.7715647347693169, 0.7724421209858103, 0.7692101643752349, \n",
    "      0.7692101643752349, 0.7692101643752349, 0.7659901074535221, 0.7659901074535221, \n",
    "      0.7659901074535221, 0.7659901074535221, 0.7659901074535221, 0.7692101643752349, \n",
    "      0.7692101643752349, 0.7692101643752349][:16]\n",
    "    \n",
    "df_flrain = pd.DataFrame({\n",
    "    \"Complain\": np.array(AQs),\n",
    "    \"F1\": np.array(F1),\n",
    "    \"K\": list(range(0, K + step_size, step_size))[:16],\n",
    "    \"Method\": np.repeat(\"LC_Rain\", len(AQs)),\n",
    "})\n",
    "alt.Chart(pd.concat([df_flrain])).mark_line().encode(\n",
    "    alt.X('K:Q', axis=alt.Axis(tickCount=df_flrain.shape[0], grid=False)),\n",
    "    alt.Y(\"Complain:Q\", scale=alt.Scale(domain=[min(AQs),max(AQs)])),\n",
    "    color = \"Method\"\n",
    ")"
   ]
  },
  {
   "cell_type": "code",
   "execution_count": null,
   "metadata": {},
   "outputs": [],
   "source": [
    "alt.Chart(pd.concat([df_flrain])).mark_line().encode(\n",
    "    alt.X('K:Q', axis=alt.Axis(tickCount=df_flrain.shape[0], grid=False)),\n",
    "    alt.Y(\"F1:Q\", scale=alt.Scale(domain=[0.65, 0.85])),\n",
    "    color = \"Method\"\n",
    ")"
   ]
  },
  {
   "cell_type": "code",
   "execution_count": null,
   "metadata": {},
   "outputs": [],
   "source": [
    "from mlsql.lc_protocol import report, predict, hessian\n",
    "predict(manager_a, manager_b, proc.x_a_test, proc.x_b_test)"
   ]
  },
  {
   "cell_type": "code",
   "execution_count": null,
   "metadata": {},
   "outputs": [],
   "source": [
    "np.where(manager_a.delta.numpy() == 0)"
   ]
  },
  {
   "cell_type": "code",
   "execution_count": null,
   "metadata": {},
   "outputs": [],
   "source": [
    "np.where(manager_b.delta.numpy() == 0)"
   ]
  },
  {
   "cell_type": "code",
   "execution_count": null,
   "metadata": {},
   "outputs": [],
   "source": [
    "np.where(manager.delta.numpy() == 0)"
   ]
  },
  {
   "cell_type": "code",
   "execution_count": null,
   "metadata": {},
   "outputs": [],
   "source": [
    "from models.linear_comb import LinearComb\n",
    "from mlsql.utils.utils import pack\n",
    "len(pack(manager_a.variables))"
   ]
  },
  {
   "cell_type": "code",
   "execution_count": null,
   "metadata": {},
   "outputs": [],
   "source": [
    "manager0_b.egrads().shape[1]"
   ]
  },
  {
   "cell_type": "code",
   "execution_count": null,
   "metadata": {},
   "outputs": [],
   "source": []
  }
 ],
 "metadata": {
  "kernelspec": {
   "display_name": "Python 3",
   "language": "python",
   "name": "python3"
  },
  "language_info": {
   "codemirror_mode": {
    "name": "ipython",
    "version": 3
   },
   "file_extension": ".py",
   "mimetype": "text/x-python",
   "name": "python",
   "nbconvert_exporter": "python",
   "pygments_lexer": "ipython3",
   "version": "3.7.9"
  }
 },
 "nbformat": 4,
 "nbformat_minor": 4
}
