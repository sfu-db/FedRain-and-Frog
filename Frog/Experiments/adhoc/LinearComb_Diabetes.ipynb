{
 "cells": [
  {
   "cell_type": "code",
   "execution_count": 1,
   "metadata": {},
   "outputs": [
    {
     "data": {
      "text/plain": [
       "DataTransformerRegistry.enable('default')"
      ]
     },
     "execution_count": 1,
     "metadata": {},
     "output_type": "execute_result"
    }
   ],
   "source": [
    "%load_ext autoreload\n",
    "%autoreload 2\n",
    "%matplotlib inline\n",
    "\n",
    "import sys\n",
    "sys.path.append(\"../\")\n",
    "\n",
    "import gurobipy\n",
    "from json import dumps, loads\n",
    "from time import time\n",
    "\n",
    "import matplotlib.pyplot as plt\n",
    "import numpy as np\n",
    "import pandas as pd\n",
    "from sklearn.linear_model import LogisticRegression as skLogisticRegression\n",
    "from sklearn.metrics import (classification_report, f1_score, precision_score, recall_score)\n",
    "from tqdm import tnrange, trange\n",
    "import tensorflow as tf\n",
    "\n",
    "from mlsql.influence import InfluenceRanker\n",
    "from mlsql.fixer import AutoFixer\n",
    "from mlsql.manager import ModelManagerLM\n",
    "from mlsql.manager_test import ModelManagerTest\n",
    "\n",
    "from models.simple_cnn import SimpleCNN\n",
    "from models.logreg import LogReg\n",
    "from models.linear_comb import LinearComb\n",
    "from models.linear_comb_test import LinearCombTest\n",
    "from processors.diabetes import DiabetesProcessor\n",
    "from processors.diabetes_corruption import DiabetesCorrProcessor\n",
    "\n",
    "\n",
    "import logging\n",
    "logging.getLogger(\"tensorflow\").setLevel(logging.CRITICAL)\n",
    "\n",
    "import time\n",
    "import altair as alt\n",
    "alt.data_transformers.disable_max_rows()"
   ]
  },
  {
   "cell_type": "code",
   "execution_count": 2,
   "metadata": {},
   "outputs": [],
   "source": [
    "# @tf.function\n",
    "def rank_fix(ranker, fixer, n):\n",
    "    rank = ranker.predict()\n",
    "    fixer.fix(rank, n)\n",
    "    return rank\n",
    "\n",
    "@tf.function\n",
    "def rankit(ranker):\n",
    "    rank = ranker.predict()\n",
    "    return rank\n",
    "\n",
    "\n",
    "@tf.function\n",
    "def fixit(fixer, rank, n):\n",
    "    fixer.fix(rank, n)\n",
    "\n",
    "\n",
    "# @tf.function\n",
    "def train(manager):\n",
    "    manager.fit()"
   ]
  },
  {
   "cell_type": "code",
   "execution_count": 3,
   "metadata": {},
   "outputs": [],
   "source": [
    "proc = DiabetesCorrProcessor()"
   ]
  },
  {
   "cell_type": "code",
   "execution_count": 4,
   "metadata": {},
   "outputs": [
    {
     "ename": "KeyboardInterrupt",
     "evalue": "",
     "output_type": "error",
     "traceback": [
      "\u001b[0;31m---------------------------------------------------------------------------\u001b[0m",
      "\u001b[0;31mKeyboardInterrupt\u001b[0m                         Traceback (most recent call last)",
      "\u001b[0;32m<ipython-input-4-a3a706997be4>\u001b[0m in \u001b[0;36m<module>\u001b[0;34m\u001b[0m\n\u001b[1;32m      4\u001b[0m \u001b[0mmanager0\u001b[0m \u001b[0;34m=\u001b[0m \u001b[0mModelManagerLM\u001b[0m\u001b[0;34m(\u001b[0m\u001b[0mproc\u001b[0m\u001b[0;34m.\u001b[0m\u001b[0mx_train\u001b[0m\u001b[0;34m,\u001b[0m \u001b[0mproc\u001b[0m\u001b[0;34m.\u001b[0m\u001b[0my_corr\u001b[0m\u001b[0;34m,\u001b[0m \u001b[0mmodel\u001b[0m\u001b[0;34m,\u001b[0m \u001b[0;36m256\u001b[0m\u001b[0;34m)\u001b[0m\u001b[0;34m\u001b[0m\u001b[0;34m\u001b[0m\u001b[0m\n\u001b[1;32m      5\u001b[0m \u001b[0mstart\u001b[0m \u001b[0;34m=\u001b[0m \u001b[0mtime\u001b[0m\u001b[0;34m.\u001b[0m\u001b[0mtime\u001b[0m\u001b[0;34m(\u001b[0m\u001b[0;34m)\u001b[0m\u001b[0;34m\u001b[0m\u001b[0;34m\u001b[0m\u001b[0m\n\u001b[0;32m----> 6\u001b[0;31m \u001b[0mmanager0\u001b[0m\u001b[0;34m.\u001b[0m\u001b[0mfit\u001b[0m\u001b[0;34m(\u001b[0m\u001b[0mprint_value\u001b[0m\u001b[0;34m=\u001b[0m\u001b[0;32mTrue\u001b[0m\u001b[0;34m,\u001b[0m \u001b[0mtol\u001b[0m\u001b[0;34m=\u001b[0m\u001b[0;36m1e-7\u001b[0m\u001b[0;34m,\u001b[0m \u001b[0mmax_iter\u001b[0m\u001b[0;34m=\u001b[0m\u001b[0;36m10000\u001b[0m\u001b[0;34m)\u001b[0m\u001b[0;34m\u001b[0m\u001b[0;34m\u001b[0m\u001b[0m\n\u001b[0m\u001b[1;32m      7\u001b[0m \u001b[0mprint\u001b[0m\u001b[0;34m(\u001b[0m\u001b[0mtime\u001b[0m\u001b[0;34m.\u001b[0m\u001b[0mtime\u001b[0m\u001b[0;34m(\u001b[0m\u001b[0;34m)\u001b[0m \u001b[0;34m-\u001b[0m \u001b[0mstart\u001b[0m\u001b[0;34m)\u001b[0m\u001b[0;34m\u001b[0m\u001b[0;34m\u001b[0m\u001b[0m\n\u001b[1;32m      8\u001b[0m \u001b[0mmanager0\u001b[0m\u001b[0;34m.\u001b[0m\u001b[0mreport\u001b[0m\u001b[0;34m(\u001b[0m\u001b[0mproc\u001b[0m\u001b[0;34m.\u001b[0m\u001b[0mx_train\u001b[0m\u001b[0;34m,\u001b[0m \u001b[0mproc\u001b[0m\u001b[0;34m.\u001b[0m\u001b[0my_corr\u001b[0m\u001b[0;34m,\u001b[0m \u001b[0mproc\u001b[0m\u001b[0;34m.\u001b[0m\u001b[0mx_test\u001b[0m\u001b[0;34m,\u001b[0m \u001b[0mproc\u001b[0m\u001b[0;34m.\u001b[0m\u001b[0my_test\u001b[0m\u001b[0;34m)\u001b[0m\u001b[0;34m\u001b[0m\u001b[0;34m\u001b[0m\u001b[0m\n",
      "\u001b[0;32m~/FederatedRain/Experiments/mlsql/manager.py\u001b[0m in \u001b[0;36mfit\u001b[0;34m(self, max_iter, print_value, tol, lr)\u001b[0m\n\u001b[1;32m    164\u001b[0m     \u001b[0mlast_loss\u001b[0m \u001b[0;34m=\u001b[0m \u001b[0;34m-\u001b[0m\u001b[0mnp\u001b[0m\u001b[0;34m.\u001b[0m\u001b[0minf\u001b[0m\u001b[0;34m\u001b[0m\u001b[0;34m\u001b[0m\u001b[0m\n\u001b[1;32m    165\u001b[0m     \u001b[0;32mfor\u001b[0m \u001b[0miteration\u001b[0m \u001b[0;32min\u001b[0m \u001b[0mrange\u001b[0m\u001b[0;34m(\u001b[0m\u001b[0mmax_iter\u001b[0m\u001b[0;34m)\u001b[0m\u001b[0;34m:\u001b[0m\u001b[0;34m\u001b[0m\u001b[0;34m\u001b[0m\u001b[0m\n\u001b[0;32m--> 166\u001b[0;31m       \u001b[0mdata\u001b[0m\u001b[0;34m,\u001b[0m \u001b[0mlabels\u001b[0m \u001b[0;34m=\u001b[0m \u001b[0mself\u001b[0m\u001b[0;34m.\u001b[0m\u001b[0mget_remaining\u001b[0m\u001b[0;34m(\u001b[0m\u001b[0;34m)\u001b[0m\u001b[0;34m\u001b[0m\u001b[0;34m\u001b[0m\u001b[0m\n\u001b[0m\u001b[1;32m    167\u001b[0m       \u001b[0mlast_loss\u001b[0m\u001b[0;34m,\u001b[0m \u001b[0mcont\u001b[0m \u001b[0;34m=\u001b[0m \u001b[0mself\u001b[0m\u001b[0;34m.\u001b[0m\u001b[0msgd_fn\u001b[0m\u001b[0;34m(\u001b[0m\u001b[0mdata\u001b[0m\u001b[0;34m,\u001b[0m \u001b[0mlabels\u001b[0m\u001b[0;34m,\u001b[0m \u001b[0mlast_loss\u001b[0m\u001b[0;34m,\u001b[0m \u001b[0mopt\u001b[0m\u001b[0;34m,\u001b[0m \u001b[0mtol\u001b[0m\u001b[0;34m)\u001b[0m\u001b[0;34m\u001b[0m\u001b[0;34m\u001b[0m\u001b[0m\n\u001b[1;32m    168\u001b[0m \u001b[0;31m#       print(last_loss)\u001b[0m\u001b[0;34m\u001b[0m\u001b[0;34m\u001b[0m\u001b[0;34m\u001b[0m\u001b[0m\n",
      "\u001b[0;32m~/FederatedRain/Experiments/mlsql/manager.py\u001b[0m in \u001b[0;36mget_remaining\u001b[0;34m(self)\u001b[0m\n\u001b[1;32m     48\u001b[0m     \u001b[0;34m\"\"\"Get the remaining training data\"\"\"\u001b[0m\u001b[0;34m\u001b[0m\u001b[0;34m\u001b[0m\u001b[0m\n\u001b[1;32m     49\u001b[0m     \u001b[0mmask\u001b[0m \u001b[0;34m=\u001b[0m \u001b[0mself\u001b[0m\u001b[0;34m.\u001b[0m\u001b[0mdelta\u001b[0m\u001b[0;34m.\u001b[0m\u001b[0mvalue\u001b[0m\u001b[0;34m(\u001b[0m\u001b[0;34m)\u001b[0m \u001b[0;34m==\u001b[0m \u001b[0;36m1\u001b[0m\u001b[0;34m\u001b[0m\u001b[0;34m\u001b[0m\u001b[0m\n\u001b[0;32m---> 50\u001b[0;31m     \u001b[0;32mreturn\u001b[0m \u001b[0mtf\u001b[0m\u001b[0;34m.\u001b[0m\u001b[0mboolean_mask\u001b[0m\u001b[0;34m(\u001b[0m\u001b[0mself\u001b[0m\u001b[0;34m.\u001b[0m\u001b[0mx\u001b[0m\u001b[0;34m,\u001b[0m \u001b[0mmask\u001b[0m\u001b[0;34m)\u001b[0m\u001b[0;34m,\u001b[0m \u001b[0mtf\u001b[0m\u001b[0;34m.\u001b[0m\u001b[0mboolean_mask\u001b[0m\u001b[0;34m(\u001b[0m\u001b[0mself\u001b[0m\u001b[0;34m.\u001b[0m\u001b[0my\u001b[0m\u001b[0;34m,\u001b[0m \u001b[0mmask\u001b[0m\u001b[0;34m)\u001b[0m\u001b[0;34m\u001b[0m\u001b[0;34m\u001b[0m\u001b[0m\n\u001b[0m\u001b[1;32m     51\u001b[0m \u001b[0;34m\u001b[0m\u001b[0m\n\u001b[1;32m     52\u001b[0m   \u001b[0;31m# todo: 1. master send hyperparams; 2. encrypt pub key of b?\u001b[0m\u001b[0;34m\u001b[0m\u001b[0;34m\u001b[0m\u001b[0;34m\u001b[0m\u001b[0m\n",
      "\u001b[0;32m~/anaconda3/envs/myenv/lib/python3.7/site-packages/tensorflow/python/util/dispatch.py\u001b[0m in \u001b[0;36mwrapper\u001b[0;34m(*args, **kwargs)\u001b[0m\n\u001b[1;32m    199\u001b[0m     \u001b[0;34m\"\"\"Call target, and fall back on dispatchers if there is a TypeError.\"\"\"\u001b[0m\u001b[0;34m\u001b[0m\u001b[0;34m\u001b[0m\u001b[0m\n\u001b[1;32m    200\u001b[0m     \u001b[0;32mtry\u001b[0m\u001b[0;34m:\u001b[0m\u001b[0;34m\u001b[0m\u001b[0;34m\u001b[0m\u001b[0m\n\u001b[0;32m--> 201\u001b[0;31m       \u001b[0;32mreturn\u001b[0m \u001b[0mtarget\u001b[0m\u001b[0;34m(\u001b[0m\u001b[0;34m*\u001b[0m\u001b[0margs\u001b[0m\u001b[0;34m,\u001b[0m \u001b[0;34m**\u001b[0m\u001b[0mkwargs\u001b[0m\u001b[0;34m)\u001b[0m\u001b[0;34m\u001b[0m\u001b[0;34m\u001b[0m\u001b[0m\n\u001b[0m\u001b[1;32m    202\u001b[0m     \u001b[0;32mexcept\u001b[0m \u001b[0;34m(\u001b[0m\u001b[0mTypeError\u001b[0m\u001b[0;34m,\u001b[0m \u001b[0mValueError\u001b[0m\u001b[0;34m)\u001b[0m\u001b[0;34m:\u001b[0m\u001b[0;34m\u001b[0m\u001b[0;34m\u001b[0m\u001b[0m\n\u001b[1;32m    203\u001b[0m       \u001b[0;31m# Note: convert_to_eager_tensor currently raises a ValueError, not a\u001b[0m\u001b[0;34m\u001b[0m\u001b[0;34m\u001b[0m\u001b[0;34m\u001b[0m\u001b[0m\n",
      "\u001b[0;32m~/anaconda3/envs/myenv/lib/python3.7/site-packages/tensorflow/python/ops/array_ops.py\u001b[0m in \u001b[0;36mboolean_mask_v2\u001b[0;34m(tensor, mask, axis, name)\u001b[0m\n\u001b[1;32m   1801\u001b[0m   \u001b[0;31m`\u001b[0m\u001b[0;31m`\u001b[0m\u001b[0;31m`\u001b[0m\u001b[0;34m\u001b[0m\u001b[0;34m\u001b[0m\u001b[0m\n\u001b[1;32m   1802\u001b[0m   \"\"\"\n\u001b[0;32m-> 1803\u001b[0;31m   \u001b[0;32mreturn\u001b[0m \u001b[0mboolean_mask\u001b[0m\u001b[0;34m(\u001b[0m\u001b[0mtensor\u001b[0m\u001b[0;34m,\u001b[0m \u001b[0mmask\u001b[0m\u001b[0;34m,\u001b[0m \u001b[0mname\u001b[0m\u001b[0;34m,\u001b[0m \u001b[0maxis\u001b[0m\u001b[0;34m)\u001b[0m\u001b[0;34m\u001b[0m\u001b[0;34m\u001b[0m\u001b[0m\n\u001b[0m\u001b[1;32m   1804\u001b[0m \u001b[0;34m\u001b[0m\u001b[0m\n\u001b[1;32m   1805\u001b[0m \u001b[0;34m\u001b[0m\u001b[0m\n",
      "\u001b[0;32m~/anaconda3/envs/myenv/lib/python3.7/site-packages/tensorflow/python/util/dispatch.py\u001b[0m in \u001b[0;36mwrapper\u001b[0;34m(*args, **kwargs)\u001b[0m\n\u001b[1;32m    199\u001b[0m     \u001b[0;34m\"\"\"Call target, and fall back on dispatchers if there is a TypeError.\"\"\"\u001b[0m\u001b[0;34m\u001b[0m\u001b[0;34m\u001b[0m\u001b[0m\n\u001b[1;32m    200\u001b[0m     \u001b[0;32mtry\u001b[0m\u001b[0;34m:\u001b[0m\u001b[0;34m\u001b[0m\u001b[0;34m\u001b[0m\u001b[0m\n\u001b[0;32m--> 201\u001b[0;31m       \u001b[0;32mreturn\u001b[0m \u001b[0mtarget\u001b[0m\u001b[0;34m(\u001b[0m\u001b[0;34m*\u001b[0m\u001b[0margs\u001b[0m\u001b[0;34m,\u001b[0m \u001b[0;34m**\u001b[0m\u001b[0mkwargs\u001b[0m\u001b[0;34m)\u001b[0m\u001b[0;34m\u001b[0m\u001b[0;34m\u001b[0m\u001b[0m\n\u001b[0m\u001b[1;32m    202\u001b[0m     \u001b[0;32mexcept\u001b[0m \u001b[0;34m(\u001b[0m\u001b[0mTypeError\u001b[0m\u001b[0;34m,\u001b[0m \u001b[0mValueError\u001b[0m\u001b[0;34m)\u001b[0m\u001b[0;34m:\u001b[0m\u001b[0;34m\u001b[0m\u001b[0;34m\u001b[0m\u001b[0m\n\u001b[1;32m    203\u001b[0m       \u001b[0;31m# Note: convert_to_eager_tensor currently raises a ValueError, not a\u001b[0m\u001b[0;34m\u001b[0m\u001b[0;34m\u001b[0m\u001b[0;34m\u001b[0m\u001b[0m\n",
      "\u001b[0;32m~/anaconda3/envs/myenv/lib/python3.7/site-packages/tensorflow/python/ops/array_ops.py\u001b[0m in \u001b[0;36mboolean_mask\u001b[0;34m(tensor, mask, name, axis)\u001b[0m\n\u001b[1;32m   1734\u001b[0m         \u001b[0mtensor\u001b[0m\u001b[0;34m,\u001b[0m\u001b[0;34m\u001b[0m\u001b[0;34m\u001b[0m\u001b[0m\n\u001b[1;32m   1735\u001b[0m         concat([\n\u001b[0;32m-> 1736\u001b[0;31m             \u001b[0mshape\u001b[0m\u001b[0;34m(\u001b[0m\u001b[0mtensor\u001b[0m\u001b[0;34m)\u001b[0m\u001b[0;34m[\u001b[0m\u001b[0;34m:\u001b[0m\u001b[0maxis\u001b[0m\u001b[0;34m]\u001b[0m\u001b[0;34m,\u001b[0m \u001b[0;34m[\u001b[0m\u001b[0mleading_size\u001b[0m\u001b[0;34m]\u001b[0m\u001b[0;34m,\u001b[0m\u001b[0;34m\u001b[0m\u001b[0;34m\u001b[0m\u001b[0m\n\u001b[0m\u001b[1;32m   1737\u001b[0m             \u001b[0mshape\u001b[0m\u001b[0;34m(\u001b[0m\u001b[0mtensor\u001b[0m\u001b[0;34m)\u001b[0m\u001b[0;34m[\u001b[0m\u001b[0maxis\u001b[0m \u001b[0;34m+\u001b[0m \u001b[0mndims_mask\u001b[0m\u001b[0;34m:\u001b[0m\u001b[0;34m]\u001b[0m\u001b[0;34m\u001b[0m\u001b[0;34m\u001b[0m\u001b[0m\n\u001b[1;32m   1738\u001b[0m         ], 0))\n",
      "\u001b[0;32m~/anaconda3/envs/myenv/lib/python3.7/site-packages/tensorflow/python/util/dispatch.py\u001b[0m in \u001b[0;36mwrapper\u001b[0;34m(*args, **kwargs)\u001b[0m\n\u001b[1;32m    199\u001b[0m     \u001b[0;34m\"\"\"Call target, and fall back on dispatchers if there is a TypeError.\"\"\"\u001b[0m\u001b[0;34m\u001b[0m\u001b[0;34m\u001b[0m\u001b[0m\n\u001b[1;32m    200\u001b[0m     \u001b[0;32mtry\u001b[0m\u001b[0;34m:\u001b[0m\u001b[0;34m\u001b[0m\u001b[0;34m\u001b[0m\u001b[0m\n\u001b[0;32m--> 201\u001b[0;31m       \u001b[0;32mreturn\u001b[0m \u001b[0mtarget\u001b[0m\u001b[0;34m(\u001b[0m\u001b[0;34m*\u001b[0m\u001b[0margs\u001b[0m\u001b[0;34m,\u001b[0m \u001b[0;34m**\u001b[0m\u001b[0mkwargs\u001b[0m\u001b[0;34m)\u001b[0m\u001b[0;34m\u001b[0m\u001b[0;34m\u001b[0m\u001b[0m\n\u001b[0m\u001b[1;32m    202\u001b[0m     \u001b[0;32mexcept\u001b[0m \u001b[0;34m(\u001b[0m\u001b[0mTypeError\u001b[0m\u001b[0;34m,\u001b[0m \u001b[0mValueError\u001b[0m\u001b[0;34m)\u001b[0m\u001b[0;34m:\u001b[0m\u001b[0;34m\u001b[0m\u001b[0;34m\u001b[0m\u001b[0m\n\u001b[1;32m    203\u001b[0m       \u001b[0;31m# Note: convert_to_eager_tensor currently raises a ValueError, not a\u001b[0m\u001b[0;34m\u001b[0m\u001b[0;34m\u001b[0m\u001b[0;34m\u001b[0m\u001b[0m\n",
      "\u001b[0;32m~/anaconda3/envs/myenv/lib/python3.7/site-packages/tensorflow/python/ops/array_ops.py\u001b[0m in \u001b[0;36m_slice_helper\u001b[0;34m(tensor, slice_spec, var)\u001b[0m\n\u001b[1;32m   1022\u001b[0m         \u001b[0mellipsis_mask\u001b[0m\u001b[0;34m=\u001b[0m\u001b[0mellipsis_mask\u001b[0m\u001b[0;34m,\u001b[0m\u001b[0;34m\u001b[0m\u001b[0;34m\u001b[0m\u001b[0m\n\u001b[1;32m   1023\u001b[0m         \u001b[0mvar\u001b[0m\u001b[0;34m=\u001b[0m\u001b[0mvar\u001b[0m\u001b[0;34m,\u001b[0m\u001b[0;34m\u001b[0m\u001b[0;34m\u001b[0m\u001b[0m\n\u001b[0;32m-> 1024\u001b[0;31m         name=name)\n\u001b[0m\u001b[1;32m   1025\u001b[0m \u001b[0;34m\u001b[0m\u001b[0m\n\u001b[1;32m   1026\u001b[0m \u001b[0;34m\u001b[0m\u001b[0m\n",
      "\u001b[0;32m~/anaconda3/envs/myenv/lib/python3.7/site-packages/tensorflow/python/util/dispatch.py\u001b[0m in \u001b[0;36mwrapper\u001b[0;34m(*args, **kwargs)\u001b[0m\n\u001b[1;32m    199\u001b[0m     \u001b[0;34m\"\"\"Call target, and fall back on dispatchers if there is a TypeError.\"\"\"\u001b[0m\u001b[0;34m\u001b[0m\u001b[0;34m\u001b[0m\u001b[0m\n\u001b[1;32m    200\u001b[0m     \u001b[0;32mtry\u001b[0m\u001b[0;34m:\u001b[0m\u001b[0;34m\u001b[0m\u001b[0;34m\u001b[0m\u001b[0m\n\u001b[0;32m--> 201\u001b[0;31m       \u001b[0;32mreturn\u001b[0m \u001b[0mtarget\u001b[0m\u001b[0;34m(\u001b[0m\u001b[0;34m*\u001b[0m\u001b[0margs\u001b[0m\u001b[0;34m,\u001b[0m \u001b[0;34m**\u001b[0m\u001b[0mkwargs\u001b[0m\u001b[0;34m)\u001b[0m\u001b[0;34m\u001b[0m\u001b[0;34m\u001b[0m\u001b[0m\n\u001b[0m\u001b[1;32m    202\u001b[0m     \u001b[0;32mexcept\u001b[0m \u001b[0;34m(\u001b[0m\u001b[0mTypeError\u001b[0m\u001b[0;34m,\u001b[0m \u001b[0mValueError\u001b[0m\u001b[0;34m)\u001b[0m\u001b[0;34m:\u001b[0m\u001b[0;34m\u001b[0m\u001b[0;34m\u001b[0m\u001b[0m\n\u001b[1;32m    203\u001b[0m       \u001b[0;31m# Note: convert_to_eager_tensor currently raises a ValueError, not a\u001b[0m\u001b[0;34m\u001b[0m\u001b[0;34m\u001b[0m\u001b[0;34m\u001b[0m\u001b[0m\n",
      "\u001b[0;32m~/anaconda3/envs/myenv/lib/python3.7/site-packages/tensorflow/python/ops/array_ops.py\u001b[0m in \u001b[0;36mstrided_slice\u001b[0;34m(input_, begin, end, strides, begin_mask, end_mask, ellipsis_mask, new_axis_mask, shrink_axis_mask, var, name)\u001b[0m\n\u001b[1;32m   1194\u001b[0m       \u001b[0mellipsis_mask\u001b[0m\u001b[0;34m=\u001b[0m\u001b[0mellipsis_mask\u001b[0m\u001b[0;34m,\u001b[0m\u001b[0;34m\u001b[0m\u001b[0;34m\u001b[0m\u001b[0m\n\u001b[1;32m   1195\u001b[0m       \u001b[0mnew_axis_mask\u001b[0m\u001b[0;34m=\u001b[0m\u001b[0mnew_axis_mask\u001b[0m\u001b[0;34m,\u001b[0m\u001b[0;34m\u001b[0m\u001b[0;34m\u001b[0m\u001b[0m\n\u001b[0;32m-> 1196\u001b[0;31m       shrink_axis_mask=shrink_axis_mask)\n\u001b[0m\u001b[1;32m   1197\u001b[0m \u001b[0;34m\u001b[0m\u001b[0m\n\u001b[1;32m   1198\u001b[0m   \u001b[0mparent_name\u001b[0m \u001b[0;34m=\u001b[0m \u001b[0mname\u001b[0m\u001b[0;34m\u001b[0m\u001b[0;34m\u001b[0m\u001b[0m\n",
      "\u001b[0;32m~/anaconda3/envs/myenv/lib/python3.7/site-packages/tensorflow/python/ops/gen_array_ops.py\u001b[0m in \u001b[0;36mstrided_slice\u001b[0;34m(input, begin, end, strides, begin_mask, end_mask, ellipsis_mask, new_axis_mask, shrink_axis_mask, name)\u001b[0m\n\u001b[1;32m  10315\u001b[0m         \u001b[0mtld\u001b[0m\u001b[0;34m.\u001b[0m\u001b[0mop_callbacks\u001b[0m\u001b[0;34m,\u001b[0m \u001b[0minput\u001b[0m\u001b[0;34m,\u001b[0m \u001b[0mbegin\u001b[0m\u001b[0;34m,\u001b[0m \u001b[0mend\u001b[0m\u001b[0;34m,\u001b[0m \u001b[0mstrides\u001b[0m\u001b[0;34m,\u001b[0m \u001b[0;34m\"begin_mask\"\u001b[0m\u001b[0;34m,\u001b[0m\u001b[0;34m\u001b[0m\u001b[0;34m\u001b[0m\u001b[0m\n\u001b[1;32m  10316\u001b[0m         \u001b[0mbegin_mask\u001b[0m\u001b[0;34m,\u001b[0m \u001b[0;34m\"end_mask\"\u001b[0m\u001b[0;34m,\u001b[0m \u001b[0mend_mask\u001b[0m\u001b[0;34m,\u001b[0m \u001b[0;34m\"ellipsis_mask\"\u001b[0m\u001b[0;34m,\u001b[0m \u001b[0mellipsis_mask\u001b[0m\u001b[0;34m,\u001b[0m\u001b[0;34m\u001b[0m\u001b[0;34m\u001b[0m\u001b[0m\n\u001b[0;32m> 10317\u001b[0;31m         \"new_axis_mask\", new_axis_mask, \"shrink_axis_mask\", shrink_axis_mask)\n\u001b[0m\u001b[1;32m  10318\u001b[0m       \u001b[0;32mreturn\u001b[0m \u001b[0m_result\u001b[0m\u001b[0;34m\u001b[0m\u001b[0;34m\u001b[0m\u001b[0m\n\u001b[1;32m  10319\u001b[0m     \u001b[0;32mexcept\u001b[0m \u001b[0m_core\u001b[0m\u001b[0;34m.\u001b[0m\u001b[0m_NotOkStatusException\u001b[0m \u001b[0;32mas\u001b[0m \u001b[0me\u001b[0m\u001b[0;34m:\u001b[0m\u001b[0;34m\u001b[0m\u001b[0;34m\u001b[0m\u001b[0m\n",
      "\u001b[0;31mKeyboardInterrupt\u001b[0m: "
     ]
    }
   ],
   "source": [
    "# Init\n",
    "# proc = DiabetesCorrProcessor()\n",
    "model = LogReg(1)\n",
    "manager0 = ModelManagerLM(proc.x_train, proc.y_corr, model, 256)\n",
    "start = time.time()\n",
    "manager0.fit(print_value=True, tol=1e-7, max_iter=10000)\n",
    "print(time.time() - start)\n",
    "manager0.report(proc.x_train, proc.y_corr, proc.x_test, proc.y_test)\n",
    "# manager0.report(proc.x_train, proc.y_corr, proc.x_query, proc.y_query)"
   ]
  },
  {
   "cell_type": "code",
   "execution_count": 37,
   "metadata": {},
   "outputs": [],
   "source": [
    "# K = 2600\n",
    "# corrsel = tf.cast(tf.ones(proc.y_train.shape[0]), dtype='bool')"
   ]
  },
  {
   "cell_type": "code",
   "execution_count": 63,
   "metadata": {},
   "outputs": [
    {
     "name": "stdout",
     "output_type": "stream",
     "text": [
      "51\n"
     ]
    }
   ],
   "source": [
    "corrsel = proc.corrsel\n",
    "K = len(list(np.where(corrsel)[0]))\n",
    "print(len(list(np.where(corrsel)[0])))"
   ]
  },
  {
   "cell_type": "code",
   "execution_count": 68,
   "metadata": {
    "scrolled": false
   },
   "outputs": [
    {
     "data": {
      "application/vnd.jupyter.widget-view+json": {
       "model_id": "1fbfdbb07e0e4ca59de02ad699d5b006",
       "version_major": 2,
       "version_minor": 0
      },
      "text/plain": [
       "  0%|          | 0/6 [00:00<?, ?it/s]"
      ]
     },
     "metadata": {},
     "output_type": "display_data"
    },
    {
     "name": "stdout",
     "output_type": "stream",
     "text": [
      "SGD loss: tf.Tensor(0.5310756, shape=(), dtype=float32)\n",
      "SGD steps: 2215\n",
      "SGD loss: tf.Tensor(0.5266568, shape=(), dtype=float32)\n",
      "SGD steps: 1558\n",
      "SGD loss: tf.Tensor(0.5287845, shape=(), dtype=float32)\n",
      "SGD steps: 1918\n",
      "SGD loss: tf.Tensor(0.5258005, shape=(), dtype=float32)\n",
      "SGD steps: 1104\n",
      "SGD loss: tf.Tensor(0.5253502, shape=(), dtype=float32)\n",
      "SGD steps: 1533\n",
      "SGD loss: tf.Tensor(0.5267223, shape=(), dtype=float32)\n",
      "SGD steps: 1\n",
      "Rank_time: 0.05564761161804199\n",
      "Model_time: 47.7028694152832\n"
     ]
    },
    {
     "ename": "NameError",
     "evalue": "name 'df_rain' is not defined",
     "output_type": "error",
     "traceback": [
      "\u001b[0;31m---------------------------------------------------------------------------\u001b[0m",
      "\u001b[0;31mNameError\u001b[0m                                 Traceback (most recent call last)",
      "\u001b[0;32m<ipython-input-68-af2304e03edb>\u001b[0m in \u001b[0;36m<module>\u001b[0;34m\u001b[0m\n\u001b[1;32m     51\u001b[0m     \u001b[0;34m\"Method\"\u001b[0m\u001b[0;34m:\u001b[0m \u001b[0mnp\u001b[0m\u001b[0;34m.\u001b[0m\u001b[0mrepeat\u001b[0m\u001b[0;34m(\u001b[0m\u001b[0;34m\"Rain\"\u001b[0m\u001b[0;34m,\u001b[0m \u001b[0mlen\u001b[0m\u001b[0;34m(\u001b[0m\u001b[0mweighted_f1\u001b[0m\u001b[0;34m)\u001b[0m\u001b[0;34m)\u001b[0m\u001b[0;34m,\u001b[0m\u001b[0;34m\u001b[0m\u001b[0;34m\u001b[0m\u001b[0m\n\u001b[1;32m     52\u001b[0m })\n\u001b[0;32m---> 53\u001b[0;31m alt.Chart(pd.concat([df_rain])).mark_line().encode(\n\u001b[0m\u001b[1;32m     54\u001b[0m     \u001b[0malt\u001b[0m\u001b[0;34m.\u001b[0m\u001b[0mX\u001b[0m\u001b[0;34m(\u001b[0m\u001b[0;34m'K:Q'\u001b[0m\u001b[0;34m,\u001b[0m \u001b[0maxis\u001b[0m\u001b[0;34m=\u001b[0m\u001b[0malt\u001b[0m\u001b[0;34m.\u001b[0m\u001b[0mAxis\u001b[0m\u001b[0;34m(\u001b[0m\u001b[0mtickCount\u001b[0m\u001b[0;34m=\u001b[0m\u001b[0mdf_rain\u001b[0m\u001b[0;34m.\u001b[0m\u001b[0mshape\u001b[0m\u001b[0;34m[\u001b[0m\u001b[0;36m0\u001b[0m\u001b[0;34m]\u001b[0m\u001b[0;34m,\u001b[0m \u001b[0mgrid\u001b[0m\u001b[0;34m=\u001b[0m\u001b[0;32mFalse\u001b[0m\u001b[0;34m)\u001b[0m\u001b[0;34m)\u001b[0m\u001b[0;34m,\u001b[0m\u001b[0;34m\u001b[0m\u001b[0;34m\u001b[0m\u001b[0m\n\u001b[1;32m     55\u001b[0m     \u001b[0malt\u001b[0m\u001b[0;34m.\u001b[0m\u001b[0mY\u001b[0m\u001b[0;34m(\u001b[0m\u001b[0;34m\"Complain:Q\"\u001b[0m\u001b[0;34m)\u001b[0m\u001b[0;34m,\u001b[0m\u001b[0;34m\u001b[0m\u001b[0;34m\u001b[0m\u001b[0m\n",
      "\u001b[0;31mNameError\u001b[0m: name 'df_rain' is not defined"
     ]
    }
   ],
   "source": [
    "from tqdm.notebook import tnrange, trange\n",
    "manager = ModelManagerLM(proc.x_train, proc.y_corr, LogReg(1), 256)\n",
    "manager.model.set_weights(manager0.model.get_weights())\n",
    "manager.delta = tf.Variable(manager0.delta.value(), name=\"delta\")\n",
    "# ranker = InfluenceRanker(manager=manager, on=proc.complain)\n",
    "from mlsql.loss_ranker import LossRanker\n",
    "ranker = LossRanker(manager=manager_test)\n",
    "fixer = AutoFixer(manager, corrsel, K)\n",
    "\n",
    "AQs = []\n",
    "weighted_f1 = []\n",
    "rank_list = []\n",
    "rank_time_rain = 0\n",
    "model_time_rain = 0\n",
    "# AQ = proc.complain(manager).AQ\n",
    "f1 = f1_score(proc.y_test.numpy(), manager.model.predict(proc.x_test).numpy(), average='weighted')\n",
    "# f1 = f1_score(proc.y_query.numpy(), manager.model.predict(proc.x_query).numpy(), average='weighted')\n",
    "# AQs.append(float(AQ))\n",
    "weighted_f1.append(f1)\n",
    "\n",
    "step_size = 10\n",
    "rain_k = int(np.ceil(K / step_size))\n",
    "for k in trange(0, rain_k):\n",
    "    nfix = min(step_size, K - step_size * k)\n",
    "    assert nfix > 0\n",
    "\n",
    "    start = time.time()\n",
    "    rank = rank_fix(ranker, fixer, nfix)\n",
    "    middle = time.time()\n",
    "    manager.fit(max_iter=5000, tol=1e-7, print_value=True)\n",
    "    end = time.time()\n",
    "    \n",
    "    rank_list.append(rank.numpy())\n",
    "    rank_time_rain += middle - start\n",
    "    model_time_rain += end - middle\n",
    "\n",
    "#     AQ = proc.complain(manager).AQ\n",
    "    f1 = f1_score(proc.y_test.numpy(), manager.model.predict(proc.x_test).numpy(), average='weighted')\n",
    "#     f1 = f1_score(proc.y_query.numpy(), manager.model.predict(proc.x_query).numpy(), average='weighted')\n",
    "#     AQs.append(float(AQ))\n",
    "    weighted_f1.append(f1)\n",
    "\n",
    "print(\"Rank_time:\", rank_time_rain)\n",
    "print(\"Model_time:\", model_time_rain)\n",
    "AC = proc.complain(manager).AC\n",
    "\n",
    "df_rain_test = pd.DataFrame({\n",
    "#     \"Complain\": np.array(AQs) - AC,\n",
    "    \"F1\": np.array(weighted_f1),\n",
    "    \"K\": list(range(0, K, step_size)) + [K],\n",
    "    \"Method\": np.repeat(\"Rain\", len(weighted_f1)),\n",
    "})\n",
    "alt.Chart(pd.concat([df_rain])).mark_line().encode(\n",
    "    alt.X('K:Q', axis=alt.Axis(tickCount=df_rain.shape[0], grid=False)),\n",
    "    alt.Y(\"Complain:Q\"),\n",
    "    color = \"Method\"\n",
    ")"
   ]
  },
  {
   "cell_type": "code",
   "execution_count": 72,
   "metadata": {
    "scrolled": true
   },
   "outputs": [
    {
     "data": {
      "text/html": [
       "\n",
       "<div id=\"altair-viz-9d58b78569f443c69c393d2c8c612ae7\"></div>\n",
       "<script type=\"text/javascript\">\n",
       "  (function(spec, embedOpt){\n",
       "    let outputDiv = document.currentScript.previousElementSibling;\n",
       "    if (outputDiv.id !== \"altair-viz-9d58b78569f443c69c393d2c8c612ae7\") {\n",
       "      outputDiv = document.getElementById(\"altair-viz-9d58b78569f443c69c393d2c8c612ae7\");\n",
       "    }\n",
       "    const paths = {\n",
       "      \"vega\": \"https://cdn.jsdelivr.net/npm//vega@5?noext\",\n",
       "      \"vega-lib\": \"https://cdn.jsdelivr.net/npm//vega-lib?noext\",\n",
       "      \"vega-lite\": \"https://cdn.jsdelivr.net/npm//vega-lite@4.8.1?noext\",\n",
       "      \"vega-embed\": \"https://cdn.jsdelivr.net/npm//vega-embed@6?noext\",\n",
       "    };\n",
       "\n",
       "    function loadScript(lib) {\n",
       "      return new Promise(function(resolve, reject) {\n",
       "        var s = document.createElement('script');\n",
       "        s.src = paths[lib];\n",
       "        s.async = true;\n",
       "        s.onload = () => resolve(paths[lib]);\n",
       "        s.onerror = () => reject(`Error loading script: ${paths[lib]}`);\n",
       "        document.getElementsByTagName(\"head\")[0].appendChild(s);\n",
       "      });\n",
       "    }\n",
       "\n",
       "    function showError(err) {\n",
       "      outputDiv.innerHTML = `<div class=\"error\" style=\"color:red;\">${err}</div>`;\n",
       "      throw err;\n",
       "    }\n",
       "\n",
       "    function displayChart(vegaEmbed) {\n",
       "      vegaEmbed(outputDiv, spec, embedOpt)\n",
       "        .catch(err => showError(`Javascript Error: ${err.message}<br>This usually means there's a typo in your chart specification. See the javascript console for the full traceback.`));\n",
       "    }\n",
       "\n",
       "    if(typeof define === \"function\" && define.amd) {\n",
       "      requirejs.config({paths});\n",
       "      require([\"vega-embed\"], displayChart, err => showError(`Error loading script: ${err.message}`));\n",
       "    } else if (typeof vegaEmbed === \"function\") {\n",
       "      displayChart(vegaEmbed);\n",
       "    } else {\n",
       "      loadScript(\"vega\")\n",
       "        .then(() => loadScript(\"vega-lite\"))\n",
       "        .then(() => loadScript(\"vega-embed\"))\n",
       "        .catch(showError)\n",
       "        .then(() => displayChart(vegaEmbed));\n",
       "    }\n",
       "  })({\"config\": {\"view\": {\"continuousWidth\": 400, \"continuousHeight\": 300}}, \"data\": {\"name\": \"data-a9b30df397fd02a4f5cccb70b03564ed\"}, \"mark\": \"line\", \"encoding\": {\"color\": {\"type\": \"nominal\", \"field\": \"Method\"}, \"x\": {\"type\": \"quantitative\", \"axis\": {\"grid\": false, \"tickCount\": 7}, \"field\": \"K\"}, \"y\": {\"type\": \"quantitative\", \"field\": \"F1\"}}, \"$schema\": \"https://vega.github.io/schema/vega-lite/v4.8.1.json\", \"datasets\": {\"data-a9b30df397fd02a4f5cccb70b03564ed\": [{\"F1\": 0.6408968390100466, \"K\": 0, \"Method\": \"Rain\"}, {\"F1\": 0.6408968390100466, \"K\": 10, \"Method\": \"Rain\"}, {\"F1\": 0.6408968390100466, \"K\": 20, \"Method\": \"Rain\"}, {\"F1\": 0.6408968390100466, \"K\": 30, \"Method\": \"Rain\"}, {\"F1\": 0.6408968390100466, \"K\": 40, \"Method\": \"Rain\"}, {\"F1\": 0.6610219845513963, \"K\": 50, \"Method\": \"Rain\"}, {\"F1\": 0.6610219845513963, \"K\": 51, \"Method\": \"Rain\"}]}}, {\"mode\": \"vega-lite\"});\n",
       "</script>"
      ],
      "text/plain": [
       "alt.Chart(...)"
      ]
     },
     "execution_count": 72,
     "metadata": {},
     "output_type": "execute_result"
    }
   ],
   "source": [
    "alt.Chart(pd.concat([df_rain_test])).mark_line().encode(\n",
    "    alt.X('K:Q', axis=alt.Axis(tickCount=df_rain_test.shape[0], grid=False)),\n",
    "    alt.Y(\"F1:Q\"),\n",
    "    color = \"Method\"\n",
    ")"
   ]
  },
  {
   "cell_type": "code",
   "execution_count": 76,
   "metadata": {},
   "outputs": [
    {
     "data": {
      "text/plain": [
       "[0.6408968390100466,\n",
       " 0.6408968390100466,\n",
       " 0.6408968390100466,\n",
       " 0.6408968390100466,\n",
       " 0.6408968390100466,\n",
       " 0.6610219845513963,\n",
       " 0.6610219845513963]"
      ]
     },
     "execution_count": 76,
     "metadata": {},
     "output_type": "execute_result"
    }
   ],
   "source": [
    "weighted_f1"
   ]
  },
  {
   "cell_type": "code",
   "execution_count": 73,
   "metadata": {
    "scrolled": true
   },
   "outputs": [],
   "source": [
    "rain_fiftypercent_recall = fixer.recall_k()"
   ]
  },
  {
   "cell_type": "code",
   "execution_count": 74,
   "metadata": {},
   "outputs": [
    {
     "data": {
      "text/plain": [
       "array([0.        , 0.00840336, 0.01680672, 0.02521008, 0.03361345,\n",
       "       0.04201681, 0.05042017, 0.05882353, 0.05882353, 0.06722689,\n",
       "       0.07563025, 0.08403361, 0.09243697, 0.09243697, 0.10084034,\n",
       "       0.1092437 , 0.11764706, 0.12605042, 0.13445378, 0.14285714,\n",
       "       0.14285714, 0.1512605 , 0.15966387, 0.15966387, 0.16806723,\n",
       "       0.17647059, 0.18487395, 0.19327731, 0.20168067, 0.21008403,\n",
       "       0.21008403, 0.21008403, 0.21848739, 0.22689076, 0.23529412,\n",
       "       0.24369748, 0.25210084, 0.2605042 , 0.26890756, 0.26890756,\n",
       "       0.26890756, 0.27731092, 0.28571429, 0.29411765, 0.29411765,\n",
       "       0.30252101, 0.31092437, 0.31932773, 0.32773109, 0.33613445,\n",
       "       0.33613445, 0.34453782, 0.34453782, 0.35294118, 0.35294118,\n",
       "       0.36134454, 0.3697479 , 0.37815126, 0.38655462, 0.39495798,\n",
       "       0.39495798, 0.39495798, 0.39495798, 0.40336134, 0.41176471,\n",
       "       0.42016807, 0.42857143, 0.43697479, 0.43697479, 0.43697479,\n",
       "       0.43697479, 0.44537815, 0.45378151, 0.46218487, 0.47058824,\n",
       "       0.4789916 , 0.4789916 , 0.48739496, 0.48739496, 0.48739496,\n",
       "       0.49579832, 0.50420168, 0.51260504, 0.5210084 , 0.52941176,\n",
       "       0.53781513, 0.54621849, 0.54621849, 0.55462185, 0.55462185,\n",
       "       0.55462185, 0.55462185, 0.55462185, 0.56302521, 0.57142857,\n",
       "       0.57142857, 0.57983193, 0.57983193, 0.57983193, 0.57983193,\n",
       "       0.57983193, 0.58823529, 0.58823529, 0.58823529, 0.58823529,\n",
       "       0.59663866, 0.59663866, 0.60504202, 0.60504202, 0.61344538,\n",
       "       0.62184874, 0.6302521 , 0.6302521 , 0.63865546, 0.64705882,\n",
       "       0.65546218, 0.66386555, 0.66386555, 0.67226891])"
      ]
     },
     "execution_count": 74,
     "metadata": {},
     "output_type": "execute_result"
    }
   ],
   "source": [
    "rain_fiftypercent_recall"
   ]
  },
  {
   "cell_type": "code",
   "execution_count": 526,
   "metadata": {},
   "outputs": [
    {
     "name": "stdout",
     "output_type": "stream",
     "text": [
      "[3, 4, 6, 7, 12, 13, 15, 16, 19, 24, 26, 29, 38, 40, 41, 44, 50, 57, 61, 66, 67, 69, 80, 83, 93, 97, 100, 101, 102, 103, 105, 108, 111, 112, 114, 115, 117, 122, 126, 129, 136, 146, 152, 153, 155, 156, 157, 160, 162, 163, 164, 165, 166, 170, 172, 174, 175, 178, 181, 187, 188, 189, 190, 197, 199, 204, 209, 211, 214, 224, 229, 231, 233, 234, 235, 242, 244, 246, 250, 251, 260, 261, 263, 266, 267, 269, 270, 272, 275, 279, 283, 284, 289, 290, 295, 299, 303, 304, 307, 319, 320, 321, 322, 323, 324, 325, 327, 328, 330, 333, 335, 340, 344, 345, 346, 348, 350, 351, 352]\n",
      "[0, 3, 4, 7, 11, 12, 13, 15, 16, 19, 23, 26, 29, 33, 40, 41, 43, 44, 50, 54, 56, 57, 61, 62, 74, 75, 80, 83, 85, 87, 92, 96, 100, 102, 105, 106, 108, 111, 116, 117, 123, 127, 129, 134, 136, 139, 146, 148, 150, 156, 157, 162, 163, 165, 170, 172, 174, 175, 177, 178, 181, 185, 187, 188, 194, 199, 204, 209, 210, 213, 214, 220, 222, 226, 227, 228, 231, 234, 241, 242, 244, 246, 251, 257, 259, 260, 261, 263, 270, 272, 279, 280, 283, 284, 286, 289, 299, 303, 307, 313, 315, 316, 318, 320, 321, 323, 325, 329, 331, 333, 334, 335, 336, 339, 340, 344, 345, 350, 352]\n"
     ]
    },
    {
     "data": {
      "text/plain": [
       "119"
      ]
     },
     "execution_count": 526,
     "metadata": {},
     "output_type": "execute_result"
    }
   ],
   "source": [
    "print(sorted(fixer.deletions.numpy()))\n",
    "print(list(np.where(corrsel)[0]))\n",
    "len(list(np.where(corrsel)[0]))"
   ]
  },
  {
   "cell_type": "code",
   "execution_count": 42,
   "metadata": {},
   "outputs": [],
   "source": [
    "proc = DiabetesCorrProcessor()"
   ]
  },
  {
   "cell_type": "code",
   "execution_count": 43,
   "metadata": {},
   "outputs": [
    {
     "name": "stdout",
     "output_type": "stream",
     "text": [
      "SGD loss: tf.Tensor(0.090167016, shape=(), dtype=float32)\n",
      "SGD steps: 27464\n",
      "221.64013290405273\n",
      "Model name: LinearCombTest\n",
      "On Training\n",
      "               precision    recall  f1-score   support\n",
      "\n",
      "         0.0       0.76      0.85      0.80       233\n",
      "         1.0       0.62      0.47      0.54       120\n",
      "\n",
      "    accuracy                           0.72       353\n",
      "   macro avg       0.69      0.66      0.67       353\n",
      "weighted avg       0.71      0.72      0.71       353\n",
      "\n",
      "On Testing\n",
      "               precision    recall  f1-score   support\n",
      "\n",
      "         0.0       0.58      0.90      0.70        21\n",
      "         1.0       0.82      0.39      0.53        23\n",
      "\n",
      "    accuracy                           0.64        44\n",
      "   macro avg       0.70      0.65      0.62        44\n",
      "weighted avg       0.70      0.64      0.61        44\n",
      "\n",
      "Model name: LinearCombTest\n",
      "On Training\n",
      "               precision    recall  f1-score   support\n",
      "\n",
      "         0.0       0.76      0.85      0.80       233\n",
      "         1.0       0.62      0.47      0.54       120\n",
      "\n",
      "    accuracy                           0.72       353\n",
      "   macro avg       0.69      0.66      0.67       353\n",
      "weighted avg       0.71      0.72      0.71       353\n",
      "\n",
      "On Testing\n",
      "               precision    recall  f1-score   support\n",
      "\n",
      "         0.0       0.54      0.83      0.65        18\n",
      "         1.0       0.82      0.52      0.64        27\n",
      "\n",
      "    accuracy                           0.64        45\n",
      "   macro avg       0.68      0.68      0.64        45\n",
      "weighted avg       0.71      0.64      0.64        45\n",
      "\n"
     ]
    }
   ],
   "source": [
    "# LinearCombTest\n",
    "model = LinearCombTest(1)\n",
    "manager_test0 = ModelManagerTest(proc.x_a_train, proc.x_b_train, proc.y_corr, model, 256)\n",
    "start = time.time()\n",
    "manager_test0.fit(print_value=True, tol=1e-8, lr=0.1, max_iter=40000)\n",
    "print(time.time() - start)\n",
    "manager_test0.report(proc.x_a_train, proc.x_b_train, proc.y_corr, proc.x_a_test, proc.x_b_test, proc.y_test)\n",
    "manager_test0.report(proc.x_a_train, proc.x_b_train, proc.y_corr, proc.x_a_query, proc.x_b_query, proc.y_query)"
   ]
  },
  {
   "cell_type": "code",
   "execution_count": 44,
   "metadata": {},
   "outputs": [
    {
     "name": "stdout",
     "output_type": "stream",
     "text": [
      "51\n"
     ]
    }
   ],
   "source": [
    "corrsel = proc.corrsel\n",
    "K = len(list(np.where(corrsel)[0]))\n",
    "print(len(list(np.where(corrsel)[0])))"
   ]
  },
  {
   "cell_type": "code",
   "execution_count": 49,
   "metadata": {
    "scrolled": false
   },
   "outputs": [
    {
     "name": "stderr",
     "output_type": "stream",
     "text": [
      " 17%|█▋        | 1/6 [02:01<10:09, 121.98s/it]"
     ]
    },
    {
     "name": "stdout",
     "output_type": "stream",
     "text": [
      "SGD loss: tf.Tensor(0.08117104, shape=(), dtype=float32)\n",
      "SGD steps: 15457\n"
     ]
    },
    {
     "name": "stderr",
     "output_type": "stream",
     "text": [
      "\r",
      " 33%|███▎      | 2/6 [04:00<07:59, 119.89s/it]"
     ]
    },
    {
     "name": "stdout",
     "output_type": "stream",
     "text": [
      "SGD loss: tf.Tensor(0.07295228, shape=(), dtype=float32)\n",
      "SGD steps: 14692\n"
     ]
    },
    {
     "name": "stderr",
     "output_type": "stream",
     "text": [
      "\r",
      " 50%|█████     | 3/6 [05:52<05:49, 116.41s/it]"
     ]
    },
    {
     "name": "stdout",
     "output_type": "stream",
     "text": [
      "SGD loss: tf.Tensor(0.064613916, shape=(), dtype=float32)\n",
      "SGD steps: 14086\n"
     ]
    },
    {
     "name": "stderr",
     "output_type": "stream",
     "text": [
      "\r",
      " 67%|██████▋   | 4/6 [08:27<04:23, 131.73s/it]"
     ]
    },
    {
     "name": "stdout",
     "output_type": "stream",
     "text": [
      "SGD loss: tf.Tensor(0.056171227, shape=(), dtype=float32)\n",
      "SGD steps: 19999\n"
     ]
    },
    {
     "name": "stderr",
     "output_type": "stream",
     "text": [
      "\r",
      " 83%|████████▎ | 5/6 [11:02<02:20, 140.07s/it]"
     ]
    },
    {
     "name": "stdout",
     "output_type": "stream",
     "text": [
      "SGD loss: tf.Tensor(0.04884723, shape=(), dtype=float32)\n",
      "SGD steps: 19999\n"
     ]
    },
    {
     "name": "stderr",
     "output_type": "stream",
     "text": [
      "100%|██████████| 6/6 [13:34<00:00, 135.73s/it]"
     ]
    },
    {
     "name": "stdout",
     "output_type": "stream",
     "text": [
      "SGD loss: tf.Tensor(0.047705185, shape=(), dtype=float32)\n",
      "SGD steps: 19125\n",
      "Rank_time: 0.05276131629943848\n",
      "Model_time: 814.3235311508179\n"
     ]
    },
    {
     "name": "stderr",
     "output_type": "stream",
     "text": [
      "\n"
     ]
    },
    {
     "data": {
      "text/html": [
       "\n",
       "<div id=\"altair-viz-2845eac9fc7447089cb693d7f454874e\"></div>\n",
       "<script type=\"text/javascript\">\n",
       "  (function(spec, embedOpt){\n",
       "    let outputDiv = document.currentScript.previousElementSibling;\n",
       "    if (outputDiv.id !== \"altair-viz-2845eac9fc7447089cb693d7f454874e\") {\n",
       "      outputDiv = document.getElementById(\"altair-viz-2845eac9fc7447089cb693d7f454874e\");\n",
       "    }\n",
       "    const paths = {\n",
       "      \"vega\": \"https://cdn.jsdelivr.net/npm//vega@5?noext\",\n",
       "      \"vega-lib\": \"https://cdn.jsdelivr.net/npm//vega-lib?noext\",\n",
       "      \"vega-lite\": \"https://cdn.jsdelivr.net/npm//vega-lite@4.8.1?noext\",\n",
       "      \"vega-embed\": \"https://cdn.jsdelivr.net/npm//vega-embed@6?noext\",\n",
       "    };\n",
       "\n",
       "    function loadScript(lib) {\n",
       "      return new Promise(function(resolve, reject) {\n",
       "        var s = document.createElement('script');\n",
       "        s.src = paths[lib];\n",
       "        s.async = true;\n",
       "        s.onload = () => resolve(paths[lib]);\n",
       "        s.onerror = () => reject(`Error loading script: ${paths[lib]}`);\n",
       "        document.getElementsByTagName(\"head\")[0].appendChild(s);\n",
       "      });\n",
       "    }\n",
       "\n",
       "    function showError(err) {\n",
       "      outputDiv.innerHTML = `<div class=\"error\" style=\"color:red;\">${err}</div>`;\n",
       "      throw err;\n",
       "    }\n",
       "\n",
       "    function displayChart(vegaEmbed) {\n",
       "      vegaEmbed(outputDiv, spec, embedOpt)\n",
       "        .catch(err => showError(`Javascript Error: ${err.message}<br>This usually means there's a typo in your chart specification. See the javascript console for the full traceback.`));\n",
       "    }\n",
       "\n",
       "    if(typeof define === \"function\" && define.amd) {\n",
       "      requirejs.config({paths});\n",
       "      require([\"vega-embed\"], displayChart, err => showError(`Error loading script: ${err.message}`));\n",
       "    } else if (typeof vegaEmbed === \"function\") {\n",
       "      displayChart(vegaEmbed);\n",
       "    } else {\n",
       "      loadScript(\"vega\")\n",
       "        .then(() => loadScript(\"vega-lite\"))\n",
       "        .then(() => loadScript(\"vega-embed\"))\n",
       "        .catch(showError)\n",
       "        .then(() => displayChart(vegaEmbed));\n",
       "    }\n",
       "  })({\"config\": {\"view\": {\"continuousWidth\": 400, \"continuousHeight\": 300}}, \"data\": {\"name\": \"data-1807a8c4c862046bc824fc65b085c570\"}, \"mark\": \"line\", \"encoding\": {\"color\": {\"type\": \"nominal\", \"field\": \"Method\"}, \"x\": {\"type\": \"quantitative\", \"axis\": {\"grid\": false, \"tickCount\": 7}, \"field\": \"K\"}, \"y\": {\"type\": \"quantitative\", \"field\": \"F1\"}}, \"$schema\": \"https://vega.github.io/schema/vega-lite/v4.8.1.json\", \"datasets\": {\"data-1807a8c4c862046bc824fc65b085c570\": [{\"F1\": 0.6125965537730245, \"K\": 0, \"Method\": \"Rain\"}, {\"F1\": 0.6125965537730245, \"K\": 10, \"Method\": \"Rain\"}, {\"F1\": 0.6125965537730245, \"K\": 20, \"Method\": \"Rain\"}, {\"F1\": 0.6322314049586777, \"K\": 30, \"Method\": \"Rain\"}, {\"F1\": 0.6322314049586777, \"K\": 40, \"Method\": \"Rain\"}, {\"F1\": 0.6610219845513963, \"K\": 50, \"Method\": \"Rain\"}, {\"F1\": 0.6610219845513963, \"K\": 51, \"Method\": \"Rain\"}]}}, {\"mode\": \"vega-lite\"});\n",
       "</script>"
      ],
      "text/plain": [
       "alt.Chart(...)"
      ]
     },
     "execution_count": 49,
     "metadata": {},
     "output_type": "execute_result"
    }
   ],
   "source": [
    "manager_test = ModelManagerTest(proc.x_a_train, proc.x_b_train, proc.y_corr, LinearCombTest(1), 256)\n",
    "manager_test.model.set_weights(manager_test0.model.get_weights())\n",
    "manager_test.delta = tf.Variable(manager_test0.delta.value(), name=\"delta\")\n",
    "from mlsql.loss_ranker import LossRanker\n",
    "ranker = LossRanker(manager=manager_test)\n",
    "# ranker = InfluenceRanker(manager=manager_test, on=proc.test_complain)\n",
    "fixer = AutoFixer(manager_test, proc.corrsel, K)\n",
    "\n",
    "# AQs = []\n",
    "weighted_f1 = []\n",
    "rank_list = []\n",
    "rank_time_rain = 0\n",
    "model_time_rain = 0\n",
    "# AQ = proc.test_complain(manager_test).AQ\n",
    "f1 = f1_score(proc.y_test.numpy(), manager_test.model.predict(proc.x_a_test, proc.x_b_test).numpy(), average='weighted')\n",
    "# f1 = f1_score(proc.y_query.numpy(), manager_test.model.predict(proc.x_a_query, proc.x_b_query).numpy(), average='weighted')\n",
    "# AQs.append(float(AQ))\n",
    "weighted_f1.append(f1)\n",
    "\n",
    "step_size = 10\n",
    "rain_k = int(np.ceil(K / step_size))\n",
    "for k in trange(0, rain_k):\n",
    "    nfix = min(step_size, K - step_size * k)\n",
    "    assert nfix > 0\n",
    "\n",
    "    start = time.time()\n",
    "    rank = rank_fix(ranker, fixer, nfix)\n",
    "    middle = time.time()\n",
    "    manager_test.fit(max_iter=20000, tol=1e-8, print_value=True)\n",
    "    end = time.time()\n",
    "    \n",
    "    rank_list.append(rank.numpy())\n",
    "    rank_time_rain += middle - start\n",
    "    model_time_rain += end - middle\n",
    "\n",
    "#     AQ = proc.test_complain(manager_test).AQ\n",
    "    f1 = f1_score(proc.y_test.numpy(), manager_test.model.predict(proc.x_a_test, proc.x_b_test).numpy(), average='weighted')\n",
    "#     f1 = f1_score(proc.y_query.numpy(), manager_test.model.predict(proc.x_a_query, proc.x_b_query).numpy(), average='weighted')\n",
    "#     AQs.append(float(AQ))\n",
    "    weighted_f1.append(f1)\n",
    "\n",
    "print(\"Rank_time:\", rank_time_rain)\n",
    "print(\"Model_time:\", model_time_rain)\n",
    "# AC = proc.test_complain(manager_test).AC\n",
    "\n",
    "df_rain_test = pd.DataFrame({\n",
    "#     \"Complain\": np.array(AQs) - AC,\n",
    "    \"F1\": np.array(weighted_f1),\n",
    "    \"K\": list(range(0, K, step_size)) + [K],\n",
    "    \"Method\": np.repeat(\"Rain\", len(weighted_f1)),\n",
    "})\n",
    "alt.Chart(pd.concat([df_rain_test])).mark_line().encode(\n",
    "    alt.X('K:Q', axis=alt.Axis(tickCount=df_rain_test.shape[0], grid=False)),\n",
    "    alt.Y(\"F1:Q\"),\n",
    "    color = \"Method\"\n",
    ")"
   ]
  },
  {
   "cell_type": "code",
   "execution_count": 56,
   "metadata": {},
   "outputs": [
    {
     "data": {
      "text/plain": [
       "<tf.Variable 'Variable:0' shape=(51,) dtype=int32, numpy=\n",
       "array([ 92,  96,   6, 134,  75, 351,  43,  93,  33, 139, 163, 319, 280,\n",
       "        94, 313, 328, 318, 160, 271,  69, 260, 100, 204,  26,  76,  10,\n",
       "       257, 116,  54, 259, 186, 213, 143,  71,  80, 220, 164, 332, 292,\n",
       "       165, 131,   3, 123, 325,  12, 199, 339, 150, 166, 178, 331],\n",
       "      dtype=int32)>"
      ]
     },
     "execution_count": 56,
     "metadata": {},
     "output_type": "execute_result"
    }
   ],
   "source": [
    "fixer.deletions"
   ]
  },
  {
   "cell_type": "code",
   "execution_count": 57,
   "metadata": {},
   "outputs": [
    {
     "data": {
      "text/plain": [
       "(array([  0,  11,  12,  16,  29,  44,  50,  56,  62,  74,  80,  85,  87,\n",
       "        100, 105, 106, 108, 127, 148, 156, 157, 163, 165, 175, 177, 178,\n",
       "        185, 187, 194, 199, 210, 222, 226, 227, 241, 244, 251, 260, 279,\n",
       "        283, 286, 289, 315, 316, 321, 325, 329, 334, 340, 350, 352]),)"
      ]
     },
     "execution_count": 57,
     "metadata": {},
     "output_type": "execute_result"
    }
   ],
   "source": [
    "np.where(proc.corrsel)"
   ]
  },
  {
   "cell_type": "code",
   "execution_count": 58,
   "metadata": {},
   "outputs": [
    {
     "data": {
      "text/plain": [
       "array([0.        , 0.        , 0.        , 0.        , 0.        ,\n",
       "       0.        , 0.        , 0.        , 0.        , 0.        ,\n",
       "       0.01960784, 0.01960784, 0.01960784, 0.01960784, 0.01960784,\n",
       "       0.01960784, 0.01960784, 0.01960784, 0.01960784, 0.01960784,\n",
       "       0.03921569, 0.05882353, 0.05882353, 0.05882353, 0.05882353,\n",
       "       0.05882353, 0.05882353, 0.05882353, 0.05882353, 0.05882353,\n",
       "       0.05882353, 0.05882353, 0.05882353, 0.05882353, 0.07843137,\n",
       "       0.07843137, 0.07843137, 0.07843137, 0.07843137, 0.09803922,\n",
       "       0.09803922, 0.09803922, 0.09803922, 0.11764706, 0.1372549 ,\n",
       "       0.15686275, 0.15686275, 0.15686275, 0.15686275, 0.17647059,\n",
       "       0.17647059])"
      ]
     },
     "execution_count": 58,
     "metadata": {},
     "output_type": "execute_result"
    }
   ],
   "source": [
    "fixer.recall_k()"
   ]
  },
  {
   "cell_type": "code",
   "execution_count": 55,
   "metadata": {},
   "outputs": [
    {
     "data": {
      "text/plain": [
       "0.6630380999505195"
      ]
     },
     "execution_count": 55,
     "metadata": {},
     "output_type": "execute_result"
    }
   ],
   "source": [
    "f1_score(proc.y_query.numpy(), manager_test.model.predict(proc.x_a_query, proc.x_b_query).numpy(), average='weighted')"
   ]
  },
  {
   "cell_type": "code",
   "execution_count": 78,
   "metadata": {},
   "outputs": [
    {
     "data": {
      "text/plain": [
       "array([0.00840336, 0.01680672, 0.02521008, 0.03361345, 0.04201681,\n",
       "       0.05042017, 0.05042017, 0.05882353, 0.05882353, 0.06722689,\n",
       "       0.07563025, 0.08403361, 0.08403361, 0.09243697, 0.10084034,\n",
       "       0.1092437 , 0.11764706, 0.12605042, 0.13445378, 0.13445378,\n",
       "       0.13445378, 0.14285714, 0.1512605 , 0.1512605 , 0.15966387,\n",
       "       0.15966387, 0.16806723, 0.17647059, 0.18487395, 0.19327731,\n",
       "       0.19327731, 0.20168067, 0.21008403, 0.21008403, 0.21848739,\n",
       "       0.22689076, 0.23529412, 0.24369748, 0.25210084, 0.2605042 ,\n",
       "       0.26890756, 0.27731092, 0.28571429, 0.29411765, 0.30252101,\n",
       "       0.30252101, 0.30252101, 0.31092437, 0.31932773, 0.31932773,\n",
       "       0.32773109, 0.33613445, 0.34453782, 0.34453782, 0.35294118,\n",
       "       0.36134454, 0.36134454, 0.3697479 , 0.37815126, 0.38655462,\n",
       "       0.39495798, 0.40336134, 0.41176471, 0.41176471, 0.41176471,\n",
       "       0.42016807, 0.42016807, 0.42857143, 0.43697479, 0.44537815,\n",
       "       0.45378151, 0.45378151, 0.45378151, 0.46218487, 0.47058824,\n",
       "       0.47058824, 0.4789916 , 0.4789916 , 0.48739496, 0.49579832,\n",
       "       0.50420168, 0.50420168, 0.50420168, 0.51260504, 0.51260504,\n",
       "       0.5210084 , 0.5210084 , 0.52941176, 0.52941176, 0.53781513,\n",
       "       0.54621849, 0.54621849, 0.54621849, 0.55462185, 0.55462185,\n",
       "       0.56302521, 0.56302521, 0.57142857, 0.57983193, 0.57983193,\n",
       "       0.58823529, 0.59663866, 0.59663866, 0.59663866, 0.59663866,\n",
       "       0.60504202, 0.61344538, 0.61344538, 0.62184874, 0.6302521 ,\n",
       "       0.63865546, 0.63865546, 0.64705882, 0.64705882, 0.64705882,\n",
       "       0.64705882, 0.65546218, 0.66386555, 0.66386555])"
      ]
     },
     "execution_count": 78,
     "metadata": {},
     "output_type": "execute_result"
    }
   ],
   "source": [
    "lc_fifpercent_recall"
   ]
  },
  {
   "cell_type": "code",
   "execution_count": 272,
   "metadata": {},
   "outputs": [],
   "source": [
    "# from mlsql.lc_protocol import fit as lc_fit\n",
    "# from mlsql.lc_protocol import fit_test as lc_fit_test\n",
    "# from mlsql.lc_protocol import report as lc_report\n",
    "# from models.linear_comb import LinearComb\n",
    "# model0_a = LinearComb(1)\n",
    "# manager0_a = ModelManagerLM(proc.x_a_train, proc.y_train, model0_a, 256)\n",
    "# model0_b = LinearComb(1)\n",
    "# manager0_b = ModelManagerLM(proc.x_b_train, proc.y_train, model0_b, 256)\n",
    "# # enc_time, cpu_time = lc_fit_test(manager0_a, manager0_b, max_iter=2000, tol=1e-6, lr=0.5, print_value=True)\n",
    "# enc_time, cpu_time = lc_fit(manager0_a, manager0_b, max_iter=1000, tol=1e-6, lr=0.5, print_value=True)\n",
    "# print(enc_time, cpu_time)\n",
    "# lc_report(manager0_a, manager0_b, proc.x_a_train, proc.x_b_train, proc.y_train, \n",
    "#           proc.x_a_test, proc.x_b_test, proc.y_test)\n"
   ]
  },
  {
   "cell_type": "code",
   "execution_count": 384,
   "metadata": {},
   "outputs": [
    {
     "name": "stdout",
     "output_type": "stream",
     "text": [
      "SGD loss: tf.Tensor(0.090409495, shape=(), dtype=float32)\n",
      "SGD steps: 3010\n",
      "0.5648119449615479 66.21756076812744\n",
      "Model A name: LinearComb\n",
      "Model B name: LinearComb\n",
      "On Training\n",
      "               precision    recall  f1-score   support\n",
      "\n",
      "         0.0       0.75      0.76      0.76       199\n",
      "         1.0       0.69      0.67      0.68       154\n",
      "\n",
      "    accuracy                           0.72       353\n",
      "   macro avg       0.72      0.72      0.72       353\n",
      "weighted avg       0.72      0.72      0.72       353\n",
      "\n",
      "On Testing\n",
      "               precision    recall  f1-score   support\n",
      "\n",
      "         0.0       0.75      0.86      0.80        21\n",
      "         1.0       0.85      0.74      0.79        23\n",
      "\n",
      "    accuracy                           0.80        44\n",
      "   macro avg       0.80      0.80      0.80        44\n",
      "weighted avg       0.80      0.80      0.80        44\n",
      "\n",
      "Model A name: LinearComb\n",
      "Model B name: LinearComb\n",
      "On Training\n",
      "               precision    recall  f1-score   support\n",
      "\n",
      "         0.0       0.75      0.76      0.76       199\n",
      "         1.0       0.69      0.67      0.68       154\n",
      "\n",
      "    accuracy                           0.72       353\n",
      "   macro avg       0.72      0.72      0.72       353\n",
      "weighted avg       0.72      0.72      0.72       353\n",
      "\n",
      "On Testing\n",
      "               precision    recall  f1-score   support\n",
      "\n",
      "         0.0       0.75      0.83      0.79        18\n",
      "         1.0       0.88      0.81      0.85        27\n",
      "\n",
      "    accuracy                           0.82        45\n",
      "   macro avg       0.81      0.82      0.82        45\n",
      "weighted avg       0.83      0.82      0.82        45\n",
      "\n"
     ]
    }
   ],
   "source": [
    "from mlsql.lc_protocol import fit as lc_fit\n",
    "from mlsql.lc_protocol import fit_test as lc_fit_test\n",
    "from mlsql.lc_protocol import report as lc_report\n",
    "from models.linear_comb import LinearComb\n",
    "model0_a = LinearComb(1)\n",
    "manager0_a = ModelManagerLM(proc.x_a_train, proc.y_corr, model0_a, 256)\n",
    "model0_b = LinearComb(1)\n",
    "manager0_b = ModelManagerLM(proc.x_b_train, proc.y_corr, model0_b, 256)\n",
    "# enc_time, cpu_time = lc_fit_test(manager0_a, manager0_b, max_iter=2000, tol=1e-6, lr=0.5, print_value=True)\n",
    "enc_time, cpu_time = lc_fit(manager0_a, manager0_b, max_iter=20000, tol=1e-6, lr=0.5, print_value=True)\n",
    "print(enc_time, cpu_time)\n",
    "lc_report(manager0_a, manager0_b, proc.x_a_train, proc.x_b_train, proc.y_corr, \n",
    "          proc.x_a_test, proc.x_b_test, proc.y_test)\n",
    "lc_report(manager0_a, manager0_b, proc.x_a_train, proc.x_b_train, proc.y_corr, \n",
    "          proc.x_a_query, proc.x_b_query, proc.y_query)"
   ]
  },
  {
   "cell_type": "code",
   "execution_count": 357,
   "metadata": {},
   "outputs": [
    {
     "data": {
      "application/vnd.jupyter.widget-view+json": {
       "model_id": "8eed7917f8344b888336b0c0eb0eb4b8",
       "version_major": 2,
       "version_minor": 0
      },
      "text/plain": [
       "  0%|          | 0/4 [00:00<?, ?it/s]"
      ]
     },
     "metadata": {},
     "output_type": "display_data"
    },
    {
     "name": "stdout",
     "output_type": "stream",
     "text": [
      "SGD loss: tf.Tensor(0.095387205, shape=(), dtype=float32)\n",
      "SGD steps: 1\n",
      "SGD loss: tf.Tensor(0.09413851, shape=(), dtype=float32)\n",
      "SGD steps: 236\n",
      "SGD loss: tf.Tensor(0.093245216, shape=(), dtype=float32)\n",
      "SGD steps: 215\n",
      "SGD loss: tf.Tensor(0.0927603, shape=(), dtype=float32)\n",
      "SGD steps: 196\n",
      "Rank_time: 20.50556206703186\n",
      "Retrain_cpu_time: 14.095456600189209\n",
      "Retrain_enc_time: 0.11449408531188965\n"
     ]
    },
    {
     "data": {
      "text/html": [
       "\n",
       "<div id=\"altair-viz-35e64a0b78db4913a0ea4a81eab64efc\"></div>\n",
       "<script type=\"text/javascript\">\n",
       "  (function(spec, embedOpt){\n",
       "    let outputDiv = document.currentScript.previousElementSibling;\n",
       "    if (outputDiv.id !== \"altair-viz-35e64a0b78db4913a0ea4a81eab64efc\") {\n",
       "      outputDiv = document.getElementById(\"altair-viz-35e64a0b78db4913a0ea4a81eab64efc\");\n",
       "    }\n",
       "    const paths = {\n",
       "      \"vega\": \"https://cdn.jsdelivr.net/npm//vega@5?noext\",\n",
       "      \"vega-lib\": \"https://cdn.jsdelivr.net/npm//vega-lib?noext\",\n",
       "      \"vega-lite\": \"https://cdn.jsdelivr.net/npm//vega-lite@4.8.1?noext\",\n",
       "      \"vega-embed\": \"https://cdn.jsdelivr.net/npm//vega-embed@6?noext\",\n",
       "    };\n",
       "\n",
       "    function loadScript(lib) {\n",
       "      return new Promise(function(resolve, reject) {\n",
       "        var s = document.createElement('script');\n",
       "        s.src = paths[lib];\n",
       "        s.async = true;\n",
       "        s.onload = () => resolve(paths[lib]);\n",
       "        s.onerror = () => reject(`Error loading script: ${paths[lib]}`);\n",
       "        document.getElementsByTagName(\"head\")[0].appendChild(s);\n",
       "      });\n",
       "    }\n",
       "\n",
       "    function showError(err) {\n",
       "      outputDiv.innerHTML = `<div class=\"error\" style=\"color:red;\">${err}</div>`;\n",
       "      throw err;\n",
       "    }\n",
       "\n",
       "    function displayChart(vegaEmbed) {\n",
       "      vegaEmbed(outputDiv, spec, embedOpt)\n",
       "        .catch(err => showError(`Javascript Error: ${err.message}<br>This usually means there's a typo in your chart specification. See the javascript console for the full traceback.`));\n",
       "    }\n",
       "\n",
       "    if(typeof define === \"function\" && define.amd) {\n",
       "      requirejs.config({paths});\n",
       "      require([\"vega-embed\"], displayChart, err => showError(`Error loading script: ${err.message}`));\n",
       "    } else if (typeof vegaEmbed === \"function\") {\n",
       "      displayChart(vegaEmbed);\n",
       "    } else {\n",
       "      loadScript(\"vega\")\n",
       "        .then(() => loadScript(\"vega-lite\"))\n",
       "        .then(() => loadScript(\"vega-embed\"))\n",
       "        .catch(showError)\n",
       "        .then(() => displayChart(vegaEmbed));\n",
       "    }\n",
       "  })({\"config\": {\"view\": {\"continuousWidth\": 400, \"continuousHeight\": 300}}, \"data\": {\"name\": \"data-6d46510bf3bc117353e109407e8316d0\"}, \"mark\": \"line\", \"encoding\": {\"color\": {\"type\": \"nominal\", \"field\": \"Method\"}, \"x\": {\"type\": \"quantitative\", \"axis\": {\"grid\": false, \"tickCount\": 5}, \"field\": \"K\"}, \"y\": {\"type\": \"quantitative\", \"field\": \"Complain\"}}, \"$schema\": \"https://vega.github.io/schema/vega-lite/v4.8.1.json\", \"datasets\": {\"data-6d46510bf3bc117353e109407e8316d0\": [{\"Complain\": -5.651857376098633, \"F1\": 0.6901185770750988, \"K\": 0, \"Method\": \"LC_Rain\"}, {\"Complain\": -5.65123176574707, \"F1\": 0.6901185770750988, \"K\": 5, \"Method\": \"LC_Rain\"}, {\"Complain\": -5.677589416503906, \"F1\": 0.6901185770750988, \"K\": 10, \"Method\": \"LC_Rain\"}, {\"Complain\": -5.646600723266602, \"F1\": 0.6901185770750988, \"K\": 15, \"Method\": \"LC_Rain\"}, {\"Complain\": -5.619724273681641, \"F1\": 0.6901185770750988, \"K\": 17, \"Method\": \"LC_Rain\"}]}}, {\"mode\": \"vega-lite\"});\n",
       "</script>"
      ],
      "text/plain": [
       "alt.Chart(...)"
      ]
     },
     "execution_count": 357,
     "metadata": {},
     "output_type": "execute_result"
    }
   ],
   "source": [
    "from mlsql.lc_protocol import f1 as lc_f1\n",
    "from mlsql.lc_protocol import rank_fix as lc_rank_fix\n",
    "from mlsql.lc_protocol import complain_value\n",
    "\n",
    "model_a = LinearComb(1)\n",
    "manager_a = ModelManagerLM(proc.x_a_train, proc.y_corr, model_a, 256)\n",
    "manager_a.model.set_weights(model0_a.get_weights())\n",
    "manager_a.delta = tf.Variable(manager0_a.delta.value(), name=\"delta\")\n",
    "model_b = LinearComb(1)\n",
    "manager_b = ModelManagerLM(proc.x_b_train, proc.y_corr, model_b, 256)\n",
    "manager_b.model.set_weights(model0_b.get_weights())\n",
    "manager_b.delta = tf.Variable(manager0_b.delta.value(), name=\"delta\")\n",
    "\n",
    "fixer_a = AutoFixer(manager_a, corrsel, K)\n",
    "fixer_b = AutoFixer(manager_b, corrsel, K)\n",
    "\n",
    "AQs = []\n",
    "weighted_f1 = []\n",
    "rank_list = []\n",
    "rank_time_rain = 0\n",
    "model_time_enc, model_time_rain = 0, 0\n",
    "query_data = proc.query_data()\n",
    "AQ = proc.lc_complain(manager_a, manager_b).AQ\n",
    "# AQ = complain_value(manager_a, manager_b, proc.fl_complain, query_data)\n",
    "# f1 = lc_f1(manager_a, manager_b, proc.x_a_test, proc.x_b_test, proc.y_test)\n",
    "f1 = lc_f1(manager_a, manager_b, proc.x_a_query, proc.x_b_query, proc.y_query)\n",
    "AQs.append(float(AQ))\n",
    "weighted_f1.append(f1)\n",
    "\n",
    "step_size = 5\n",
    "rain_k = int(np.ceil(K / step_size))\n",
    "for k in trange(0, rain_k):\n",
    "    nfix = min(step_size, K - step_size * k)\n",
    "    assert nfix > 0\n",
    "\n",
    "    start = time.time()\n",
    "#     rank = lc_rank_fix(fixer_a, fixer_b, nfix, manager_a, manager_b, proc.lc_complain, query_data)\n",
    "    rank = lc_rank_fix(fixer_a, fixer_b, nfix, manager_a, manager_b, proc.fl_complain, query_data)\n",
    "    middle = time.time()\n",
    "#     enc_time, cpu_time = lc_fit_test(manager_a, manager_b, max_iter=1000, tol=1e-6, lr=0.5, print_value=True)\n",
    "    enc_time, cpu_time = lc_fit(manager_a, manager_b, max_iter=1000, tol=1e-6, lr=0.1, print_value=True)\n",
    "    end = time.time()\n",
    "    \n",
    "    rank_list.append(rank.numpy())\n",
    "    rank_time_rain += middle - start\n",
    "    model_time_rain += cpu_time\n",
    "    model_time_enc += enc_time\n",
    "\n",
    "    AQ = proc.lc_complain(manager_a, manager_b).AQ\n",
    "#     AQ = complain_value(manager_a, manager_b, proc.fl_complain, query_data)\n",
    "#     f1 = lc_f1(manager_a, manager_b, proc.x_a_test, proc.x_b_test, proc.y_test)\n",
    "    f1 = lc_f1(manager_a, manager_b, proc.x_a_query, proc.x_b_query, proc.y_query)\n",
    "    AQs.append(float(AQ))\n",
    "    weighted_f1.append(f1)\n",
    "\n",
    "print(\"Rank_time:\", rank_time_rain)\n",
    "print(\"Retrain_cpu_time:\", model_time_rain)\n",
    "print(\"Retrain_enc_time:\", model_time_enc)\n",
    "\n",
    "df_rain = pd.DataFrame({\n",
    "    \"Complain\": np.array(AQs) - AC,\n",
    "    \"F1\": np.array(weighted_f1),\n",
    "    \"K\": list(range(0, K, step_size)) + [K],\n",
    "    \"Method\": np.repeat(\"LC_Rain\", len(AQs)),\n",
    "})\n",
    "alt.Chart(pd.concat([df_rain])).mark_line().encode(\n",
    "    alt.X('K:Q', axis=alt.Axis(tickCount=df_rain.shape[0], grid=False)),\n",
    "    alt.Y(\"Complain:Q\"),\n",
    "    color = \"Method\"\n",
    ")"
   ]
  },
  {
   "cell_type": "code",
   "execution_count": 337,
   "metadata": {},
   "outputs": [
    {
     "data": {
      "text/plain": [
       "array([0.        , 0.        , 0.        , 0.        , 0.        ,\n",
       "       0.        , 0.05882353, 0.05882353, 0.05882353, 0.05882353,\n",
       "       0.05882353, 0.05882353, 0.11764706, 0.11764706, 0.11764706,\n",
       "       0.11764706, 0.17647059])"
      ]
     },
     "execution_count": 337,
     "metadata": {},
     "output_type": "execute_result"
    }
   ],
   "source": [
    "fixer_a.recall_k()"
   ]
  },
  {
   "cell_type": "code",
   "execution_count": 338,
   "metadata": {},
   "outputs": [
    {
     "name": "stdout",
     "output_type": "stream",
     "text": [
      "[7, 12, 15, 44, 47, 61, 69, 80, 83, 166, 172, 174, 246, 260, 304, 309, 327]\n",
      "[11, 16, 44, 62, 80, 106, 148, 175, 187, 210, 222, 227, 260, 289, 325, 334, 340]\n"
     ]
    }
   ],
   "source": [
    "print(sorted(fixer_a.deletions.numpy()))\n",
    "print(list(np.where(corrsel)[0]))"
   ]
  },
  {
   "cell_type": "code",
   "execution_count": 318,
   "metadata": {
    "scrolled": true
   },
   "outputs": [
    {
     "data": {
      "text/html": [
       "\n",
       "<div id=\"altair-viz-7c3c794f10b442dbbc7bc408c2cfbfe6\"></div>\n",
       "<script type=\"text/javascript\">\n",
       "  (function(spec, embedOpt){\n",
       "    let outputDiv = document.currentScript.previousElementSibling;\n",
       "    if (outputDiv.id !== \"altair-viz-7c3c794f10b442dbbc7bc408c2cfbfe6\") {\n",
       "      outputDiv = document.getElementById(\"altair-viz-7c3c794f10b442dbbc7bc408c2cfbfe6\");\n",
       "    }\n",
       "    const paths = {\n",
       "      \"vega\": \"https://cdn.jsdelivr.net/npm//vega@5?noext\",\n",
       "      \"vega-lib\": \"https://cdn.jsdelivr.net/npm//vega-lib?noext\",\n",
       "      \"vega-lite\": \"https://cdn.jsdelivr.net/npm//vega-lite@4.8.1?noext\",\n",
       "      \"vega-embed\": \"https://cdn.jsdelivr.net/npm//vega-embed@6?noext\",\n",
       "    };\n",
       "\n",
       "    function loadScript(lib) {\n",
       "      return new Promise(function(resolve, reject) {\n",
       "        var s = document.createElement('script');\n",
       "        s.src = paths[lib];\n",
       "        s.async = true;\n",
       "        s.onload = () => resolve(paths[lib]);\n",
       "        s.onerror = () => reject(`Error loading script: ${paths[lib]}`);\n",
       "        document.getElementsByTagName(\"head\")[0].appendChild(s);\n",
       "      });\n",
       "    }\n",
       "\n",
       "    function showError(err) {\n",
       "      outputDiv.innerHTML = `<div class=\"error\" style=\"color:red;\">${err}</div>`;\n",
       "      throw err;\n",
       "    }\n",
       "\n",
       "    function displayChart(vegaEmbed) {\n",
       "      vegaEmbed(outputDiv, spec, embedOpt)\n",
       "        .catch(err => showError(`Javascript Error: ${err.message}<br>This usually means there's a typo in your chart specification. See the javascript console for the full traceback.`));\n",
       "    }\n",
       "\n",
       "    if(typeof define === \"function\" && define.amd) {\n",
       "      requirejs.config({paths});\n",
       "      require([\"vega-embed\"], displayChart, err => showError(`Error loading script: ${err.message}`));\n",
       "    } else if (typeof vegaEmbed === \"function\") {\n",
       "      displayChart(vegaEmbed);\n",
       "    } else {\n",
       "      loadScript(\"vega\")\n",
       "        .then(() => loadScript(\"vega-lite\"))\n",
       "        .then(() => loadScript(\"vega-embed\"))\n",
       "        .catch(showError)\n",
       "        .then(() => displayChart(vegaEmbed));\n",
       "    }\n",
       "  })({\"config\": {\"view\": {\"continuousWidth\": 400, \"continuousHeight\": 300}}, \"data\": {\"name\": \"data-b2377f9b92fbe1dbb61f2403c5fa3761\"}, \"mark\": \"line\", \"encoding\": {\"color\": {\"type\": \"nominal\", \"field\": \"Method\"}, \"x\": {\"type\": \"quantitative\", \"axis\": {\"grid\": false, \"tickCount\": 3}, \"field\": \"K\"}, \"y\": {\"type\": \"quantitative\", \"field\": \"F1\"}}, \"$schema\": \"https://vega.github.io/schema/vega-lite/v4.8.1.json\", \"datasets\": {\"data-b2377f9b92fbe1dbb61f2403c5fa3761\": [{\"Complain\": -4.271470412611961, \"F1\": 0.7799999999999999, \"K\": 0, \"Method\": \"LC_Rain\"}, {\"Complain\": -4.279425743967295, \"F1\": 0.7799999999999999, \"K\": 10, \"Method\": \"LC_Rain\"}, {\"Complain\": -4.231521509587765, \"F1\": 0.7799999999999999, \"K\": 17, \"Method\": \"LC_Rain\"}]}}, {\"mode\": \"vega-lite\"});\n",
       "</script>"
      ],
      "text/plain": [
       "alt.Chart(...)"
      ]
     },
     "execution_count": 318,
     "metadata": {},
     "output_type": "execute_result"
    }
   ],
   "source": [
    "alt.Chart(pd.concat([df_rain])).mark_line().encode(\n",
    "    alt.X('K:Q', axis=alt.Axis(tickCount=df_rain.shape[0], grid=False)),\n",
    "    alt.Y(\"F1:Q\"),\n",
    "    color = \"Method\"\n",
    ")"
   ]
  },
  {
   "cell_type": "code",
   "execution_count": null,
   "metadata": {
    "scrolled": true
   },
   "outputs": [],
   "source": [
    "K = 210\n",
    "step_size = 10\n",
    "AQs = [-0.16054906056013812, -0.15944249602805974, -0.1580060542769359, -0.15719313225969206, \n",
    "       -0.15582570537932483, -0.1567545207834361, -0.15714041809657475, -0.1569623401963131, \n",
    "       -0.15633308345656335, -0.15564630866652324, -0.15353626425437816, -0.1547844818297688, \n",
    "       -0.15538986484225104, -0.15167052494689795, -0.14868695509097463, -0.14861514040232315, \n",
    "       -0.15188442283612708, -0.15251549676939935, -0.153599294588957, -0.15507196712521656, \n",
    "       -0.15592721175194144, -0.1586298157054136][:16]\n",
    "F1 = [0.6959071067570164, 0.7307927546459656, 0.7410932220234546, 0.7533179132935328, \n",
    "      0.7619985710883543, 0.7645716278311145, 0.7670189931472592, 0.7661391240338609, \n",
    "      0.7661391240338609, 0.7715647347693169, 0.7724421209858103, 0.7692101643752349, \n",
    "      0.7692101643752349, 0.7692101643752349, 0.7659901074535221, 0.7659901074535221, \n",
    "      0.7659901074535221, 0.7659901074535221, 0.7659901074535221, 0.7692101643752349, \n",
    "      0.7692101643752349, 0.7692101643752349][:16]\n",
    "    \n",
    "df_flrain = pd.DataFrame({\n",
    "    \"Complain\": np.array(AQs),\n",
    "    \"F1\": np.array(F1),\n",
    "    \"K\": list(range(0, K + step_size, step_size))[:16],\n",
    "    \"Method\": np.repeat(\"LC_Rain\", len(AQs)),\n",
    "})\n",
    "alt.Chart(pd.concat([df_flrain])).mark_line().encode(\n",
    "    alt.X('K:Q', axis=alt.Axis(tickCount=df_flrain.shape[0], grid=False)),\n",
    "    alt.Y(\"Complain:Q\", scale=alt.Scale(domain=[min(AQs),max(AQs)])),\n",
    "    color = \"Method\"\n",
    ")"
   ]
  },
  {
   "cell_type": "code",
   "execution_count": null,
   "metadata": {},
   "outputs": [],
   "source": [
    "alt.Chart(pd.concat([df_flrain])).mark_line().encode(\n",
    "    alt.X('K:Q', axis=alt.Axis(tickCount=df_flrain.shape[0], grid=False)),\n",
    "    alt.Y(\"F1:Q\", scale=alt.Scale(domain=[0.65, 0.85])),\n",
    "    color = \"Method\"\n",
    ")"
   ]
  },
  {
   "cell_type": "code",
   "execution_count": null,
   "metadata": {},
   "outputs": [],
   "source": [
    "from mlsql.lc_protocol import report, predict, hessian\n",
    "predict(manager_a, manager_b, proc.x_a_test, proc.x_b_test)"
   ]
  },
  {
   "cell_type": "code",
   "execution_count": null,
   "metadata": {},
   "outputs": [],
   "source": [
    "np.where(manager_a.delta.numpy() == 0)"
   ]
  },
  {
   "cell_type": "code",
   "execution_count": null,
   "metadata": {},
   "outputs": [],
   "source": [
    "np.where(manager_b.delta.numpy() == 0)"
   ]
  },
  {
   "cell_type": "code",
   "execution_count": null,
   "metadata": {},
   "outputs": [],
   "source": [
    "np.where(manager.delta.numpy() == 0)"
   ]
  },
  {
   "cell_type": "code",
   "execution_count": null,
   "metadata": {},
   "outputs": [],
   "source": [
    "from models.linear_comb import LinearComb\n",
    "from mlsql.utils.utils import pack\n",
    "len(pack(manager_a.variables))"
   ]
  },
  {
   "cell_type": "code",
   "execution_count": null,
   "metadata": {},
   "outputs": [],
   "source": [
    "manager0_b.egrads().shape[1]"
   ]
  },
  {
   "cell_type": "code",
   "execution_count": null,
   "metadata": {},
   "outputs": [],
   "source": []
  }
 ],
 "metadata": {
  "kernelspec": {
   "display_name": "Python 3",
   "language": "python",
   "name": "python3"
  },
  "language_info": {
   "codemirror_mode": {
    "name": "ipython",
    "version": 3
   },
   "file_extension": ".py",
   "mimetype": "text/x-python",
   "name": "python",
   "nbconvert_exporter": "python",
   "pygments_lexer": "ipython3",
   "version": "3.7.9"
  }
 },
 "nbformat": 4,
 "nbformat_minor": 4
}
