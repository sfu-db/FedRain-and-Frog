{
 "cells": [
  {
   "cell_type": "code",
   "execution_count": 2,
   "metadata": {},
   "outputs": [
    {
     "name": "stdout",
     "output_type": "stream",
     "text": [
      "The autoreload extension is already loaded. To reload it, use:\n",
      "  %reload_ext autoreload\n"
     ]
    }
   ],
   "source": [
    "%load_ext autoreload\n",
    "%autoreload 2\n",
    "%matplotlib inline\n",
    "\n",
    "import sys\n",
    "sys.path.append(\"../\")\n",
    "#sys.path.append(\"../../extra-package\")\n",
    "\n",
    "import gurobipy\n",
    "#import gurobi901 as gurobipy\n",
    "from json import dumps, loads\n",
    "from time import time\n",
    "\n",
    "import matplotlib.pyplot as plt\n",
    "import numpy as np\n",
    "import pandas as pd\n",
    "from sklearn.linear_model import LogisticRegression as skLogisticRegression\n",
    "from sklearn.metrics import (classification_report, f1_score, precision_score, recall_score)\n",
    "from tqdm import tnrange, trange\n",
    "import tensorflow as tf\n",
    "\n",
    "from mlsql import InfluenceRanker, SelfLossInfluenceRanker, AutoFixer, ModelManagerLM, LossRanker, TiresiasRanker, multi_ambiguity_count\n",
    "from mlsql.models import SimpleCNN, LogReg, TaylorAprx\n",
    "from mlsql.utils import setdiff1d\n",
    "from processors.adultNoCorr import AdultNoCorrProcessor\n",
    "\n",
    "from itertools import groupby\n",
    "from functools import partial\n",
    "\n",
    "import logging\n",
    "logging.getLogger(\"tensorflow\").setLevel(logging.CRITICAL)"
   ]
  },
  {
   "cell_type": "code",
   "execution_count": 19,
   "metadata": {},
   "outputs": [],
   "source": [
    "import time\n",
    "import altair as alt\n",
    "alt.data_transformers.disable_max_rows()\n",
    "\n",
    "@tf.function\n",
    "def rank_fix(ranker, fixer, n):\n",
    "    rank = ranker.predict()\n",
    "    fixer.fix(rank, n)\n",
    "    return rank\n",
    "\n",
    "\n",
    "@tf.function\n",
    "def rankit(ranker):\n",
    "    rank = ranker.predict()\n",
    "    return rank\n",
    "\n",
    "\n",
    "@tf.function\n",
    "def fixit(fixer, rank, n):\n",
    "    fixer.fix(rank, n)\n",
    "\n",
    "\n",
    "# @tf.function\n",
    "def train(manager):\n",
    "    manager.fit()"
   ]
  },
  {
   "cell_type": "code",
   "execution_count": 65,
   "metadata": {},
   "outputs": [
    {
     "name": "stdout",
     "output_type": "stream",
     "text": [
      "tf.Tensor(0.40813172, shape=(), dtype=float32)\n",
      "3922\n"
     ]
    }
   ],
   "source": [
    "# Init\n",
    "seed = 2987429\n",
    "proc = AdultNoCorrProcessor(seed)\n",
    "model3 = TaylorAprx(proc, 1)\n",
    "manager0 = ModelManagerLM(proc.X_Atrain, proc.X_Btrain, proc.ytrain, model3)\n",
    "manager0.fit(print_value=True, max_iter=5000, tol=1e-9)"
   ]
  },
  {
   "cell_type": "code",
   "execution_count": 66,
   "metadata": {},
   "outputs": [
    {
     "name": "stdout",
     "output_type": "stream",
     "text": [
      "Taylor\n",
      "On Training\n",
      "               precision    recall  f1-score   support\n",
      "\n",
      "        -1.0       1.00      0.03      0.06     19790\n",
      "         1.0       0.25      1.00      0.39      6258\n",
      "\n",
      "    accuracy                           0.26     26048\n",
      "   macro avg       0.62      0.51      0.22     26048\n",
      "weighted avg       0.82      0.26      0.14     26048\n",
      "\n",
      "On Testing\n",
      "               precision    recall  f1-score   support\n",
      "\n",
      "        -1.0       1.00      0.03      0.06      2432\n",
      "         1.0       0.26      1.00      0.41       824\n",
      "\n",
      "    accuracy                           0.28      3256\n",
      "   macro avg       0.63      0.52      0.24      3256\n",
      "weighted avg       0.81      0.28      0.15      3256\n",
      "\n"
     ]
    }
   ],
   "source": [
    "print(\"Taylor\")\n",
    "print(\"On Training\\n\", classification_report(proc.ytrain.numpy(), manager0.predict(proc.X_Atrain, proc.X_Btrain).numpy()))\n",
    "print(\"On Testing\\n\", classification_report(proc.ytest.numpy(), manager0.predict(proc.X_Atest, proc.X_Btest).numpy()))"
   ]
  },
  {
   "cell_type": "code",
   "execution_count": 30,
   "metadata": {},
   "outputs": [],
   "source": [
    "result = tf.cast(tf.squeeze(manager0.model(proc.X_Atrain, proc.X_Btrain) > 0), tf.int32)"
   ]
  },
  {
   "cell_type": "code",
   "execution_count": 58,
   "metadata": {},
   "outputs": [],
   "source": [
    "result = tf.cast(tf.squeeze(manager0.model(proc.X_Atrain, proc.X_Btrain) > 0), tf.int32).numpy()"
   ]
  },
  {
   "cell_type": "code",
   "execution_count": 59,
   "metadata": {},
   "outputs": [],
   "source": [
    "result[np.where(result==0)]=-1"
   ]
  },
  {
   "cell_type": "code",
   "execution_count": null,
   "metadata": {},
   "outputs": [],
   "source": []
  }
 ],
 "metadata": {
  "kernelspec": {
   "display_name": "Rain-Experiments-jsPNbhrB",
   "language": "python",
   "name": "rain-experiments-jspnbhrb"
  },
  "language_info": {
   "codemirror_mode": {
    "name": "ipython",
    "version": 3
   },
   "file_extension": ".py",
   "mimetype": "text/x-python",
   "name": "python",
   "nbconvert_exporter": "python",
   "pygments_lexer": "ipython3",
   "version": "3.7.3"
  }
 },
 "nbformat": 4,
 "nbformat_minor": 4
}
