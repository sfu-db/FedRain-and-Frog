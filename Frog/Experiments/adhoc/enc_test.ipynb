{
 "cells": [
  {
   "cell_type": "code",
   "execution_count": 2,
   "metadata": {},
   "outputs": [],
   "source": [
    "from phe import paillier\n",
    "import time\n",
    "import numpy as np"
   ]
  },
  {
   "cell_type": "code",
   "execution_count": 15,
   "metadata": {},
   "outputs": [
    {
     "name": "stdout",
     "output_type": "stream",
     "text": [
      "40.998775482177734\n"
     ]
    }
   ],
   "source": [
    "# without gmpy2 lib\n",
    "arr=np.random.rand(300,200)\n",
    "public_key, private_key = paillier.generate_paillier_keypair(n_length=256)\n",
    "start = time.time()\n",
    "for x in arr:\n",
    "    for num in x:\n",
    "        public_key.encrypt(int(num))\n",
    "print(time.time()-start)"
   ]
  },
  {
   "cell_type": "code",
   "execution_count": 3,
   "metadata": {},
   "outputs": [
    {
     "name": "stdout",
     "output_type": "stream",
     "text": [
      "9.216416597366333\n"
     ]
    }
   ],
   "source": [
    "# with gmpy2 lib\n",
    "arr=np.random.rand(300,200)\n",
    "public_key, private_key = paillier.generate_paillier_keypair(n_length=256)\n",
    "start = time.time()\n",
    "for x in arr:\n",
    "    for num in x:\n",
    "        public_key.encrypt(int(num))\n",
    "print(time.time()-start)"
   ]
  },
  {
   "cell_type": "code",
   "execution_count": 4,
   "metadata": {},
   "outputs": [
    {
     "data": {
      "text/plain": [
       "array([[0.48781764, 0.57944639, 0.1126698 , ..., 0.64273963, 0.46488653,\n",
       "        0.0317095 ],\n",
       "       [0.17521693, 0.9805329 , 0.55219397, ..., 0.97597178, 0.99838516,\n",
       "        0.14604778],\n",
       "       [0.88657888, 0.85862368, 0.31734269, ..., 0.8339432 , 0.94476606,\n",
       "        0.1988367 ],\n",
       "       ...,\n",
       "       [0.16354606, 0.15186619, 0.74434689, ..., 0.34489375, 0.37132121,\n",
       "        0.11343579],\n",
       "       [0.48397289, 0.34806095, 0.30460629, ..., 0.89671532, 0.56373545,\n",
       "        0.17643571],\n",
       "       [0.94767406, 0.50566695, 0.54859573, ..., 0.32263946, 0.78842431,\n",
       "        0.20245501]])"
      ]
     },
     "execution_count": 4,
     "metadata": {},
     "output_type": "execute_result"
    }
   ],
   "source": [
    "import tf-encrypted"
   ]
  },
  {
   "cell_type": "code",
   "execution_count": null,
   "metadata": {},
   "outputs": [],
   "source": []
  }
 ],
 "metadata": {
  "kernelspec": {
   "display_name": "Python 3",
   "language": "python",
   "name": "python3"
  },
  "language_info": {
   "codemirror_mode": {
    "name": "ipython",
    "version": 3
   },
   "file_extension": ".py",
   "mimetype": "text/x-python",
   "name": "python",
   "nbconvert_exporter": "python",
   "pygments_lexer": "ipython3",
   "version": "3.7.9"
  }
 },
 "nbformat": 4,
 "nbformat_minor": 4
}
