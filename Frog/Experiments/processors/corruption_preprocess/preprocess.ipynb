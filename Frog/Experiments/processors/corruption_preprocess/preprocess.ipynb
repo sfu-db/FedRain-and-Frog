{
 "cells": [
  {
   "cell_type": "code",
   "execution_count": 35,
   "metadata": {},
   "outputs": [],
   "source": [
    "import numpy as np\n",
    "from sklearn.model_selection import train_test_split\n",
    "from sklearn import preprocessing\n",
    "from sklearn import datasets\n",
    "import tensorflow as tf\n",
    "\n",
    "def corruption_static():\n",
    "    x, y = datasets.load_diabetes(return_X_y=True)\n",
    "    x = preprocessing.normalize(x, norm='l2')\n",
    "    y = [(1 if i >= 140.5 else 0) for i in y]\n",
    "        \n",
    "    random_state = int(tf.random.uniform([], maxval=2**10, seed=1))\n",
    "    x_train, x_test, y_train, y_test = train_test_split(\n",
    "        x, y, test_size=0.2, random_state=random_state,\n",
    "    )\n",
    "    x_test, x_query, y_test, y_query = train_test_split(\n",
    "        x_test, y_test, test_size=0.5, random_state=random_state,\n",
    "    )\n",
    "        \n",
    "    y_clean = y_train\n",
    "    \n",
    "#     a_features = 4\n",
    "#     x_a_train = x_train[:, 0:a_features]\n",
    "#     x_b_train = x_train[:, a_features:]\n",
    "#     x_a_test = x_test[:, 0:a_features]\n",
    "#     x_b_test = x_test[:, a_features:]\n",
    "#     x_a_query = x_query[:, 0:a_features]\n",
    "#     x_b_query = x_query[:, a_features:]\n",
    "        \n",
    "    y_corr=y_train.copy()\n",
    "    candidates = np.where(np.array(y_corr) == 1)[0]\n",
    "    corruptions = int(len(candidates) * 0.3)\n",
    "    np.random.seed(1024)\n",
    "    corrupt_idx = np.random.choice(candidates, size=corruptions, replace=False)\n",
    "    corrsel = np.full((len(y),), False)\n",
    "    corrsel[corrupt_idx] = True\n",
    "    for j in corrupt_idx:\n",
    "        y_corr[j] = 0\n",
    "    np.savetxt(\"diabetes_data/x_train.csv\", x_train, delimiter=\",\")\n",
    "    np.savetxt(\"diabetes_data/x_test.csv\", x_test, delimiter=\",\")\n",
    "    np.savetxt(\"diabetes_data/y_test.csv\", y_test, delimiter=\",\")\n",
    "    np.savetxt(\"diabetes_data/y_train.csv\", y_train, delimiter=\",\")\n",
    "    np.savetxt(\"diabetes_data/x_query.csv\", x_query, delimiter=\",\")\n",
    "    np.savetxt(\"diabetes_data/y_query.csv\", y_query, delimiter=\",\")\n",
    "    np.savetxt(\"diabetes_data/y_corr.csv\", y_corr, delimiter=\",\")\n",
    "    np.savetxt(\"diabetes_data/corrsel.csv\", corrsel, delimiter=\",\")\n",
    "    print(len(np.where(np.array(y_query) == 1)[0]))\n",
    "    \n",
    "    \n",
    "    \n"
   ]
  },
  {
   "cell_type": "code",
   "execution_count": 38,
   "metadata": {},
   "outputs": [
    {
     "name": "stdout",
     "output_type": "stream",
     "text": [
      "27\n"
     ]
    }
   ],
   "source": [
    "corruption_static()"
   ]
  },
  {
   "cell_type": "code",
   "execution_count": 21,
   "metadata": {},
   "outputs": [],
   "source": [
    "x, y = datasets.load_breast_cancer(return_X_y=True)\n",
    "x = preprocessing.normalize(x, norm='l2') \n",
    "       \n",
    "random_state = int(tf.random.uniform([], maxval=2**10, seed=1))    \n",
    "x_train, x_test, y_train, y_test = train_test_split(\n",
    "    x, y, test_size=0.2, random_state=random_state,\n",
    ")\n",
    "\n",
    "x_test, x_query, y_test, y_query = train_test_split(\n",
    "        x_test, y_test, test_size=0.5, random_state=random_state,\n",
    "    )\n",
    "        \n",
    "y_clean = y_train\n",
    "\n",
    "y_corr=y_train.copy()\n",
    "candidates = np.where(np.array(y_corr) == 1)[0]\n",
    "corruptions = int(len(candidates) * 0.1)\n",
    "np.random.seed(1024)\n",
    "corrupt_idx = np.random.choice(candidates, size=corruptions, replace=False)\n",
    "corrsel = np.full((len(y),), False)\n",
    "corrsel[corrupt_idx] = True\n",
    "for j in corrupt_idx:\n",
    "    y_corr[j] = 0\n",
    "np.savetxt(\"bcancer_data/x_train.csv\", x_train, delimiter=\",\")\n",
    "np.savetxt(\"bcancer_data/x_test.csv\", x_test, delimiter=\",\")\n",
    "np.savetxt(\"bcancer_data/y_test.csv\", y_test, delimiter=\",\")\n",
    "np.savetxt(\"bcancer_data/y_train.csv\", y_train, delimiter=\",\")\n",
    "np.savetxt(\"bcancer_data/x_query.csv\", x_query, delimiter=\",\")\n",
    "np.savetxt(\"bcancer_data/y_query.csv\", y_query, delimiter=\",\")\n",
    "np.savetxt(\"bcancer_data/y_corr.csv\", y_corr, delimiter=\",\")\n",
    "np.savetxt(\"bcancer_data/corrsel.csv\", corrsel, delimiter=\",\")    "
   ]
  },
  {
   "cell_type": "code",
   "execution_count": 22,
   "metadata": {},
   "outputs": [
    {
     "data": {
      "text/plain": [
       "30"
      ]
     },
     "execution_count": 22,
     "metadata": {},
     "output_type": "execute_result"
    }
   ],
   "source": [
    "xtrain.shape[1]"
   ]
  },
  {
   "cell_type": "code",
   "execution_count": null,
   "metadata": {},
   "outputs": [],
   "source": []
  }
 ],
 "metadata": {
  "kernelspec": {
   "display_name": "Python 3",
   "language": "python",
   "name": "python3"
  },
  "language_info": {
   "codemirror_mode": {
    "name": "ipython",
    "version": 3
   },
   "file_extension": ".py",
   "mimetype": "text/x-python",
   "name": "python",
   "nbconvert_exporter": "python",
   "pygments_lexer": "ipython3",
   "version": "3.7.9"
  }
 },
 "nbformat": 4,
 "nbformat_minor": 4
}
